{
 "cells": [
  {
   "cell_type": "markdown",
   "id": "d4104fae-5b11-4efe-8bdb-fa374633e14c",
   "metadata": {},
   "source": [
    "# Chapter 3: Built-In Data Structures, Functions, and Files"
   ]
  },
  {
   "cell_type": "markdown",
   "id": "8b8006a9-2926-446d-a9a9-1783e6ed3516",
   "metadata": {
    "jp-MarkdownHeadingCollapsed": true
   },
   "source": [
    "## 3.1 Data Structures and Sequences"
   ]
  },
  {
   "cell_type": "markdown",
   "id": "d589ab6c-351f-4ad5-98ff-c7a7ee283543",
   "metadata": {},
   "source": [
    "### Tuple"
   ]
  },
  {
   "cell_type": "code",
   "execution_count": 1,
   "id": "528626e5-5982-49a9-99d7-7bd855d78ed8",
   "metadata": {},
   "outputs": [
    {
     "data": {
      "text/plain": [
       "tuple"
      ]
     },
     "execution_count": 1,
     "metadata": {},
     "output_type": "execute_result"
    }
   ],
   "source": [
    "tup = (1, 2, 3)\n",
    "type(tup)"
   ]
  },
  {
   "cell_type": "code",
   "execution_count": 3,
   "id": "4e1e7ea9-ddc8-4922-ac22-2b4de77eb251",
   "metadata": {},
   "outputs": [
    {
     "data": {
      "text/plain": [
       "tuple"
      ]
     },
     "execution_count": 3,
     "metadata": {},
     "output_type": "execute_result"
    }
   ],
   "source": [
    "tup = 4, 5, 6\n",
    "type(tup)"
   ]
  },
  {
   "cell_type": "code",
   "execution_count": 68,
   "id": "d4f7df78-85f4-4484-b3c4-0a96a1830f78",
   "metadata": {},
   "outputs": [
    {
     "data": {
      "text/plain": [
       "(3, 6, 9)"
      ]
     },
     "execution_count": 68,
     "metadata": {},
     "output_type": "execute_result"
    }
   ],
   "source": [
    "list_no = [3, 6, 9]\n",
    "tuple(list_no)"
   ]
  },
  {
   "cell_type": "code",
   "execution_count": 10,
   "id": "9ce38af2-7284-4cb5-8f12-a7b146698fb4",
   "metadata": {},
   "outputs": [],
   "source": [
    "tup_str = tuple(\"hello_world\")"
   ]
  },
  {
   "cell_type": "code",
   "execution_count": 12,
   "id": "e384bdfd-b810-4f20-9634-0a2a49e0707c",
   "metadata": {},
   "outputs": [
    {
     "data": {
      "text/plain": [
       "('h', 'e', 'l', 'l')"
      ]
     },
     "execution_count": 12,
     "metadata": {},
     "output_type": "execute_result"
    }
   ],
   "source": [
    "tup_str[:4]"
   ]
  },
  {
   "cell_type": "code",
   "execution_count": 14,
   "id": "1cf99c7f-a170-4d57-a19b-826aca083bf2",
   "metadata": {},
   "outputs": [
    {
     "data": {
      "text/plain": [
       "((4, 5, 6), (7, 8))"
      ]
     },
     "execution_count": 14,
     "metadata": {},
     "output_type": "execute_result"
    }
   ],
   "source": [
    "nested_tup = (4, 5, 6), (7, 8)\n",
    "nested_tup"
   ]
  },
  {
   "cell_type": "code",
   "execution_count": 15,
   "id": "49ca5930-68fe-48e1-b656-4de1c2f33c61",
   "metadata": {},
   "outputs": [
    {
     "data": {
      "text/plain": [
       "(4, 5, 6)"
      ]
     },
     "execution_count": 15,
     "metadata": {},
     "output_type": "execute_result"
    }
   ],
   "source": [
    "nested_tup[0]"
   ]
  },
  {
   "cell_type": "code",
   "execution_count": 16,
   "id": "4edcdbc8-d0ce-4114-87c9-36a2d3d7b7b0",
   "metadata": {},
   "outputs": [
    {
     "data": {
      "text/plain": [
       "(7, 8)"
      ]
     },
     "execution_count": 16,
     "metadata": {},
     "output_type": "execute_result"
    }
   ],
   "source": [
    "nested_tup[1]"
   ]
  },
  {
   "cell_type": "code",
   "execution_count": 17,
   "id": "07521d3f-8d2a-4d83-a963-2dc6c6a9d34a",
   "metadata": {},
   "outputs": [
    {
     "ename": "TypeError",
     "evalue": "'tuple' object does not support item assignment",
     "output_type": "error",
     "traceback": [
      "\u001b[1;31m---------------------------------------------------------------------------\u001b[0m",
      "\u001b[1;31mTypeError\u001b[0m                                 Traceback (most recent call last)",
      "Cell \u001b[1;32mIn[17], line 2\u001b[0m\n\u001b[0;32m      1\u001b[0m tup \u001b[38;5;241m=\u001b[39m \u001b[38;5;28mtuple\u001b[39m([\u001b[38;5;124m\"\u001b[39m\u001b[38;5;124mfoo\u001b[39m\u001b[38;5;124m\"\u001b[39m, [\u001b[38;5;241m1\u001b[39m, \u001b[38;5;241m2\u001b[39m], \u001b[38;5;28;01mTrue\u001b[39;00m])\n\u001b[1;32m----> 2\u001b[0m \u001b[43mtup\u001b[49m\u001b[43m[\u001b[49m\u001b[38;5;241;43m2\u001b[39;49m\u001b[43m]\u001b[49m \u001b[38;5;241m=\u001b[39m \u001b[38;5;28;01mFalse\u001b[39;00m\n",
      "\u001b[1;31mTypeError\u001b[0m: 'tuple' object does not support item assignment"
     ]
    }
   ],
   "source": [
    "tup = tuple([\"foo\", [1, 2], True])\n",
    "tup[2] = False"
   ]
  },
  {
   "cell_type": "code",
   "execution_count": 20,
   "id": "546a43c5-a2a1-4ceb-aeb2-136e870f5366",
   "metadata": {},
   "outputs": [
    {
     "data": {
      "text/plain": [
       "('foo', [1, 2, 3, 3], True)"
      ]
     },
     "execution_count": 20,
     "metadata": {},
     "output_type": "execute_result"
    }
   ],
   "source": [
    "tup[1].append(3)\n",
    "tup"
   ]
  },
  {
   "cell_type": "code",
   "execution_count": 21,
   "id": "f58aedeb-f7a7-4143-960c-f8333c755253",
   "metadata": {},
   "outputs": [
    {
     "data": {
      "text/plain": [
       "('foo', [1, 2, 3, 3], True, False, [7, 8], 'bar')"
      ]
     },
     "execution_count": 21,
     "metadata": {},
     "output_type": "execute_result"
    }
   ],
   "source": [
    "tup + (False, [7, 8]) + (\"bar\",)"
   ]
  },
  {
   "cell_type": "code",
   "execution_count": 25,
   "id": "c3ebb019-5ebb-4ba3-a279-b9d7716b1728",
   "metadata": {},
   "outputs": [
    {
     "data": {
      "text/plain": [
       "('foo',\n",
       " [1, 2, 3, 3],\n",
       " True,\n",
       " 'foo',\n",
       " [1, 2, 3, 3],\n",
       " True,\n",
       " 'foo',\n",
       " [1, 2, 3, 3],\n",
       " True)"
      ]
     },
     "execution_count": 25,
     "metadata": {},
     "output_type": "execute_result"
    }
   ],
   "source": [
    "tup * 3"
   ]
  },
  {
   "cell_type": "code",
   "execution_count": 26,
   "id": "6787db63-f515-4531-a7b0-1c5c76c9eb5e",
   "metadata": {},
   "outputs": [],
   "source": [
    "tup = [1, 2, 3]\n",
    "a, b, c = tup"
   ]
  },
  {
   "cell_type": "code",
   "execution_count": 28,
   "id": "c42e5b25-36ab-4b68-8e58-d2a025861e04",
   "metadata": {},
   "outputs": [
    {
     "data": {
      "text/plain": [
       "2"
      ]
     },
     "execution_count": 28,
     "metadata": {},
     "output_type": "execute_result"
    }
   ],
   "source": [
    "b"
   ]
  },
  {
   "cell_type": "code",
   "execution_count": 29,
   "id": "834e212c-715b-400b-b9ae-dd03f74e3878",
   "metadata": {},
   "outputs": [],
   "source": [
    "# swaping variable names\n",
    "\n",
    "a, b = 1, 2\n",
    "a, b = b, a"
   ]
  },
  {
   "cell_type": "code",
   "execution_count": 36,
   "id": "e295dc7a-9a8a-4693-9e21-4113a912ed27",
   "metadata": {},
   "outputs": [
    {
     "name": "stdout",
     "output_type": "stream",
     "text": [
      "a=1, b=2, c=3\n",
      "a=4, b=5, c=6\n",
      "a=7, b=8, c=9\n"
     ]
    }
   ],
   "source": [
    "# A common use of variable unpacking is iterating over sequences of tuples or lists:\n",
    "\n",
    "seq = [(1, 2, 3), (4, 5, 6), (7, 8, 9)]\n",
    "\n",
    "for a, b, c in seq:\n",
    "    print(f\"a={a}, b={b}, c={c}\")"
   ]
  },
  {
   "cell_type": "code",
   "execution_count": 53,
   "id": "0c42c763-974d-4650-8b14-143a892a093e",
   "metadata": {},
   "outputs": [],
   "source": [
    "# \"pluck\" a few elements from the beginning\n",
    "\n",
    "values = 1, 2, 3, 4, 5, 6\n",
    "a, b, *rest = values"
   ]
  },
  {
   "cell_type": "code",
   "execution_count": 54,
   "id": "5b9dffde-40a5-4401-880e-7a748680f2e7",
   "metadata": {},
   "outputs": [
    {
     "data": {
      "text/plain": [
       "(1, 2)"
      ]
     },
     "execution_count": 54,
     "metadata": {},
     "output_type": "execute_result"
    }
   ],
   "source": [
    "a, b"
   ]
  },
  {
   "cell_type": "code",
   "execution_count": 55,
   "id": "93715204-41dd-4cfa-8491-cc2a612db4b2",
   "metadata": {},
   "outputs": [
    {
     "data": {
      "text/plain": [
       "[3, 4, 5, 6]"
      ]
     },
     "execution_count": 55,
     "metadata": {},
     "output_type": "execute_result"
    }
   ],
   "source": [
    "rest"
   ]
  },
  {
   "cell_type": "code",
   "execution_count": 57,
   "id": "7ce3fcd2-017a-4ca0-8612-32a2c12b2a28",
   "metadata": {},
   "outputs": [
    {
     "data": {
      "text/plain": [
       "4"
      ]
     },
     "execution_count": 57,
     "metadata": {},
     "output_type": "execute_result"
    }
   ],
   "source": [
    "# tuple methods:\n",
    "\n",
    "a = (1, 2, 2, 2, 3, 4, 2)\n",
    "\n",
    "a.count(2)"
   ]
  },
  {
   "cell_type": "code",
   "execution_count": 59,
   "id": "4fcfcf20-28a6-4a9c-8043-eb0f43c87203",
   "metadata": {},
   "outputs": [
    {
     "data": {
      "text/plain": [
       "4"
      ]
     },
     "execution_count": 59,
     "metadata": {},
     "output_type": "execute_result"
    }
   ],
   "source": [
    "a.index(3)"
   ]
  },
  {
   "cell_type": "markdown",
   "id": "74d1f0f0-d1c6-4156-8e80-fbbbe0aeb4d8",
   "metadata": {},
   "source": [
    "### List"
   ]
  },
  {
   "cell_type": "code",
   "execution_count": 72,
   "id": "1703da4a-e112-4c86-95df-1d242a0c467e",
   "metadata": {},
   "outputs": [],
   "source": [
    "a_list = [2, 3, 4, None]\n",
    "\n",
    "tup = (\"wu\", \"shang\", \"clan\")\n",
    "\n",
    "b_list = list(tup)"
   ]
  },
  {
   "cell_type": "code",
   "execution_count": 77,
   "id": "cc5708c3-5344-418c-88ed-33c81311c634",
   "metadata": {},
   "outputs": [],
   "source": [
    "# Mutable\n",
    "\n",
    "b_list[1] = \"chang\""
   ]
  },
  {
   "cell_type": "code",
   "execution_count": 78,
   "id": "87b05514-1d1a-458c-88df-9eec6e6e0750",
   "metadata": {},
   "outputs": [
    {
     "data": {
      "text/plain": [
       "['wu', 'chang', 'clan']"
      ]
     },
     "execution_count": 78,
     "metadata": {},
     "output_type": "execute_result"
    }
   ],
   "source": [
    "b_list"
   ]
  },
  {
   "cell_type": "code",
   "execution_count": 82,
   "id": "f48f3110-30ff-44d7-ac06-ae118994eb54",
   "metadata": {},
   "outputs": [
    {
     "data": {
      "text/plain": [
       "[0, 1, 2, 3, 4, 5, 6, 7, 8, 9]"
      ]
     },
     "execution_count": 82,
     "metadata": {},
     "output_type": "execute_result"
    }
   ],
   "source": [
    "# The list built-in function is frequently used in data processing as a way to materialize an iterator or generator expression:\n",
    "\n",
    "gen = range(10)\n",
    "list(gen)"
   ]
  },
  {
   "cell_type": "code",
   "execution_count": 84,
   "id": "58bba51b-8ade-4d69-8c8c-c972e2b9467e",
   "metadata": {},
   "outputs": [],
   "source": [
    "b_list.append(\"teri\")"
   ]
  },
  {
   "cell_type": "code",
   "execution_count": 89,
   "id": "abb04498-bf3f-4dbb-a2fe-3e301c55ebd2",
   "metadata": {},
   "outputs": [
    {
     "data": {
      "text/plain": [
       "['wu', 'chang', 'clan', 'tera', 'baap']"
      ]
     },
     "execution_count": 89,
     "metadata": {},
     "output_type": "execute_result"
    }
   ],
   "source": [
    "b_list"
   ]
  },
  {
   "cell_type": "code",
   "execution_count": 86,
   "id": "950d0f2d-06cf-407f-bf99-db95d06a1b62",
   "metadata": {},
   "outputs": [],
   "source": [
    "b_list.insert(4, \"baap\")"
   ]
  },
  {
   "cell_type": "code",
   "execution_count": 88,
   "id": "7d9bf3fe-a8d5-4078-8cd1-fffdfc3e7a1d",
   "metadata": {},
   "outputs": [],
   "source": [
    "b_list[3] = \"tera\""
   ]
  },
  {
   "cell_type": "code",
   "execution_count": 91,
   "id": "74b2c27f-400f-437e-8329-68b7150f90ea",
   "metadata": {},
   "outputs": [
    {
     "data": {
      "text/plain": [
       "'baap'"
      ]
     },
     "execution_count": 91,
     "metadata": {},
     "output_type": "execute_result"
    }
   ],
   "source": [
    "b_list.pop(4)"
   ]
  },
  {
   "cell_type": "code",
   "execution_count": 92,
   "id": "e8456fad-c7b1-4603-aeef-93ade2235299",
   "metadata": {},
   "outputs": [
    {
     "data": {
      "text/plain": [
       "['wu', 'chang', 'clan', 'tera']"
      ]
     },
     "execution_count": 92,
     "metadata": {},
     "output_type": "execute_result"
    }
   ],
   "source": [
    "b_list"
   ]
  },
  {
   "cell_type": "code",
   "execution_count": 93,
   "id": "be78b55a-93e5-404d-99e3-a0eb8c400fe6",
   "metadata": {},
   "outputs": [],
   "source": [
    "b_list.remove(\"tera\")"
   ]
  },
  {
   "cell_type": "code",
   "execution_count": 94,
   "id": "79ee2686-ec9e-4e82-a4cc-79b75771e32c",
   "metadata": {},
   "outputs": [
    {
     "data": {
      "text/plain": [
       "['wu', 'chang', 'clan']"
      ]
     },
     "execution_count": 94,
     "metadata": {},
     "output_type": "execute_result"
    }
   ],
   "source": [
    "b_list"
   ]
  },
  {
   "cell_type": "code",
   "execution_count": 98,
   "id": "b087742a-261b-42b2-914c-dbe1126e343c",
   "metadata": {},
   "outputs": [
    {
     "data": {
      "text/plain": [
       "True"
      ]
     },
     "execution_count": 98,
     "metadata": {},
     "output_type": "execute_result"
    }
   ],
   "source": [
    "# slower than dict and sets\n",
    "\n",
    "\"chang\" in b_list"
   ]
  },
  {
   "cell_type": "code",
   "execution_count": 99,
   "id": "b27e6a63-313c-4a5d-a79c-f1e5a3998a1a",
   "metadata": {},
   "outputs": [
    {
     "data": {
      "text/plain": [
       "False"
      ]
     },
     "execution_count": 99,
     "metadata": {},
     "output_type": "execute_result"
    }
   ],
   "source": [
    "\"chang\" not in b_list"
   ]
  },
  {
   "cell_type": "code",
   "execution_count": 100,
   "id": "78d19c8f-6ddb-4c20-87f8-944f4ce5918c",
   "metadata": {},
   "outputs": [],
   "source": [
    "b_list.extend([7, 14, (49, 56)])"
   ]
  },
  {
   "cell_type": "code",
   "execution_count": 114,
   "id": "8959dd71-872b-4155-8278-9e2ad79f4d91",
   "metadata": {},
   "outputs": [
    {
     "data": {
      "text/plain": [
       "['chang', 'clan', 'wu']"
      ]
     },
     "execution_count": 114,
     "metadata": {},
     "output_type": "execute_result"
    }
   ],
   "source": [
    "b_list"
   ]
  },
  {
   "cell_type": "code",
   "execution_count": null,
   "id": "fd0511af-d2b6-4f2d-bbd5-79d17d297acd",
   "metadata": {},
   "outputs": [],
   "source": [
    "# preferable than concatenating (everything = everything + chunk)\n",
    "\n",
    "everything = []\n",
    "for chunk in list_of_lists:\n",
    "    everything.extend(chunk)"
   ]
  },
  {
   "cell_type": "code",
   "execution_count": 137,
   "id": "90a13f13-9ffb-4055-94ef-339c6cd918fb",
   "metadata": {},
   "outputs": [
    {
     "data": {
      "text/plain": [
       "[7, 14, 21, 28, 35, 42, 49, 56]"
      ]
     },
     "execution_count": 137,
     "metadata": {},
     "output_type": "execute_result"
    }
   ],
   "source": [
    "a = [7, 21, 49, 35, 56, 14, 28, 42]\n",
    "\n",
    "a.sort()\n",
    "a"
   ]
  },
  {
   "cell_type": "code",
   "execution_count": 117,
   "id": "3e3c0b06-d1cc-4266-a16c-420e4e6bcd30",
   "metadata": {},
   "outputs": [],
   "source": [
    "# sorts a collection of strings by their lengths\n",
    "\n",
    "b_list.sort(key=len)"
   ]
  },
  {
   "cell_type": "code",
   "execution_count": 118,
   "id": "855e9582-d04b-4aa5-9813-114f224ce32f",
   "metadata": {},
   "outputs": [
    {
     "data": {
      "text/plain": [
       "['wu', 'clan', 'chang']"
      ]
     },
     "execution_count": 118,
     "metadata": {},
     "output_type": "execute_result"
    }
   ],
   "source": [
    "b_list"
   ]
  },
  {
   "cell_type": "code",
   "execution_count": 128,
   "id": "98ee55a2-f603-44a6-af9c-130ca92a149e",
   "metadata": {},
   "outputs": [
    {
     "data": {
      "text/plain": [
       "[14, 21, 28, 35]"
      ]
     },
     "execution_count": 128,
     "metadata": {},
     "output_type": "execute_result"
    }
   ],
   "source": [
    "# list[start:stop]\n",
    "\n",
    "a[1:5]"
   ]
  },
  {
   "cell_type": "code",
   "execution_count": 133,
   "id": "e79e6c0d-64fc-49d7-9fa2-69a361047e1c",
   "metadata": {},
   "outputs": [],
   "source": [
    "a[3:5] = [63, 70]"
   ]
  },
  {
   "cell_type": "code",
   "execution_count": 138,
   "id": "704d1412-5d86-42f0-bec2-6dc6ad98a860",
   "metadata": {},
   "outputs": [
    {
     "data": {
      "text/plain": [
       "[7, 14, 21, 28, 35, 42, 49, 56]"
      ]
     },
     "execution_count": 138,
     "metadata": {},
     "output_type": "execute_result"
    }
   ],
   "source": [
    "a"
   ]
  },
  {
   "cell_type": "code",
   "execution_count": 140,
   "id": "57d4c152-25a8-424d-875f-e8cae2175ac1",
   "metadata": {},
   "outputs": [
    {
     "data": {
      "text/plain": [
       "[14, 28, 42, 56]"
      ]
     },
     "execution_count": 140,
     "metadata": {},
     "output_type": "execute_result"
    }
   ],
   "source": [
    "a[1:8:2]"
   ]
  },
  {
   "cell_type": "code",
   "execution_count": 154,
   "id": "a883a4ee-3520-45dc-838b-0ac1fb5c8de9",
   "metadata": {},
   "outputs": [
    {
     "data": {
      "text/plain": [
       "[42, 49, 56]"
      ]
     },
     "execution_count": 154,
     "metadata": {},
     "output_type": "execute_result"
    }
   ],
   "source": [
    "# starts from 5th idx\n",
    "\n",
    "a[5:]"
   ]
  },
  {
   "cell_type": "code",
   "execution_count": 155,
   "id": "06bde3c6-9c90-45ac-a6ce-eee1569e41dd",
   "metadata": {},
   "outputs": [
    {
     "data": {
      "text/plain": [
       "[7, 14, 21]"
      ]
     },
     "execution_count": 155,
     "metadata": {},
     "output_type": "execute_result"
    }
   ],
   "source": [
    "# ends at 3rd idx\n",
    "\n",
    "a[:3]"
   ]
  },
  {
   "cell_type": "code",
   "execution_count": 161,
   "id": "4a036f2f-03af-42ca-a508-5f7ce0c1dc75",
   "metadata": {},
   "outputs": [
    {
     "data": {
      "text/plain": [
       "[35, 42, 49]"
      ]
     },
     "execution_count": 161,
     "metadata": {},
     "output_type": "execute_result"
    }
   ],
   "source": [
    "a[-4:-1]"
   ]
  },
  {
   "cell_type": "code",
   "execution_count": 164,
   "id": "d4e4ea24-fc94-4312-92ed-0863abf7e08a",
   "metadata": {},
   "outputs": [
    {
     "data": {
      "text/plain": [
       "[7, 14, 21, 28, 35, 42, 49]"
      ]
     },
     "execution_count": 164,
     "metadata": {},
     "output_type": "execute_result"
    }
   ],
   "source": [
    "a[:-1]"
   ]
  },
  {
   "cell_type": "code",
   "execution_count": 166,
   "id": "4b5d1851-bc6c-40ab-b463-db30d8ceb11b",
   "metadata": {},
   "outputs": [
    {
     "data": {
      "text/plain": [
       "[14, 28, 42, 56]"
      ]
     },
     "execution_count": 166,
     "metadata": {},
     "output_type": "execute_result"
    }
   ],
   "source": [
    "a[1::2]"
   ]
  },
  {
   "cell_type": "code",
   "execution_count": 169,
   "id": "75075bae-7d60-4e35-8da1-b80027bb6f10",
   "metadata": {},
   "outputs": [
    {
     "data": {
      "text/plain": [
       "[56, 49, 42, 35, 28, 21, 14, 7]"
      ]
     },
     "execution_count": 169,
     "metadata": {},
     "output_type": "execute_result"
    }
   ],
   "source": [
    "# reversing the list\n",
    "\n",
    "a[::-1]"
   ]
  },
  {
   "cell_type": "markdown",
   "id": "03f72eb2-aa7c-4b24-bbc4-a36299410b64",
   "metadata": {},
   "source": [
    "### Dictionary"
   ]
  },
  {
   "cell_type": "code",
   "execution_count": 170,
   "id": "b27bac06-2af4-4508-b1a8-dafa937fd723",
   "metadata": {},
   "outputs": [],
   "source": [
    "empty_dict = {}"
   ]
  },
  {
   "cell_type": "code",
   "execution_count": 174,
   "id": "212ffebe-8f56-480b-b40a-709c84ca5bb5",
   "metadata": {},
   "outputs": [
    {
     "data": {
      "text/plain": [
       "{'a': 'some value', 'b': [1, 2, 3]}"
      ]
     },
     "execution_count": 174,
     "metadata": {},
     "output_type": "execute_result"
    }
   ],
   "source": [
    "d1 = {\"a\": \"some value\", \"b\": [1, 2, 3]}\n",
    "d1"
   ]
  },
  {
   "cell_type": "code",
   "execution_count": 175,
   "id": "46708d3c-9339-483e-93c7-338d54f9051a",
   "metadata": {},
   "outputs": [],
   "source": [
    "# same as list for mutating and accessing\n",
    "\n",
    "d1[7] = \"an integer\""
   ]
  },
  {
   "cell_type": "code",
   "execution_count": 177,
   "id": "1451c6f3-e7b9-43e8-b583-1c9279481fde",
   "metadata": {},
   "outputs": [],
   "source": [
    "d1[\"c\"] = \"a string\""
   ]
  },
  {
   "cell_type": "code",
   "execution_count": 180,
   "id": "d0d17d32-6c54-4ad0-b3e0-86f9ac6c002e",
   "metadata": {},
   "outputs": [
    {
     "data": {
      "text/plain": [
       "[1, 2, 3]"
      ]
     },
     "execution_count": 180,
     "metadata": {},
     "output_type": "execute_result"
    }
   ],
   "source": [
    "d1[\"b\"]"
   ]
  },
  {
   "cell_type": "code",
   "execution_count": 185,
   "id": "2fe5cf0f-27aa-4eb2-869a-a9deeec15b8a",
   "metadata": {},
   "outputs": [
    {
     "data": {
      "text/plain": [
       "True"
      ]
     },
     "execution_count": 185,
     "metadata": {},
     "output_type": "execute_result"
    }
   ],
   "source": [
    "# same as list or tuple for checking a value(key) in dict\n",
    "\n",
    "\"c\" in d1"
   ]
  },
  {
   "cell_type": "code",
   "execution_count": 194,
   "id": "839cd8fd-ce2f-4ca3-977e-47a4bd6be935",
   "metadata": {},
   "outputs": [],
   "source": [
    "# deleting a key value pair\n",
    "\n",
    "d1[5] = \"some value\"\n",
    "d1[\"dummy\"] = \"another value\""
   ]
  },
  {
   "cell_type": "code",
   "execution_count": 195,
   "id": "bee35e88-61a8-4b3a-a881-66d3dbc0e59d",
   "metadata": {},
   "outputs": [
    {
     "data": {
      "text/plain": [
       "{'a': 'some value',\n",
       " 'b': [1, 2, 3],\n",
       " 7: 'an integer',\n",
       " 'c': 'a string',\n",
       " 5: 'some value',\n",
       " 'dummy': 'another value'}"
      ]
     },
     "execution_count": 195,
     "metadata": {},
     "output_type": "execute_result"
    }
   ],
   "source": [
    "d1"
   ]
  },
  {
   "cell_type": "code",
   "execution_count": 196,
   "id": "d464d69c-e233-4556-b5c1-c3895d9956c8",
   "metadata": {},
   "outputs": [],
   "source": [
    "del d1[5]"
   ]
  },
  {
   "cell_type": "code",
   "execution_count": 197,
   "id": "39f9f1b1-cb19-4df3-900e-e5e111a5ed62",
   "metadata": {},
   "outputs": [
    {
     "data": {
      "text/plain": [
       "'another value'"
      ]
     },
     "execution_count": 197,
     "metadata": {},
     "output_type": "execute_result"
    }
   ],
   "source": [
    "d1.pop(\"dummy\")"
   ]
  },
  {
   "cell_type": "code",
   "execution_count": 199,
   "id": "842a896c-1c97-4a40-a0f8-756f3dc33a9c",
   "metadata": {},
   "outputs": [
    {
     "data": {
      "text/plain": [
       "['a', 'b', 7, 'c']"
      ]
     },
     "execution_count": 199,
     "metadata": {},
     "output_type": "execute_result"
    }
   ],
   "source": [
    "list(d1.keys())"
   ]
  },
  {
   "cell_type": "code",
   "execution_count": 201,
   "id": "83da6503-197b-462f-ba69-210fe59294e0",
   "metadata": {},
   "outputs": [
    {
     "data": {
      "text/plain": [
       "['some value', [1, 2, 3], 'an integer', 'a string']"
      ]
     },
     "execution_count": 201,
     "metadata": {},
     "output_type": "execute_result"
    }
   ],
   "source": [
    "list(d1.values())"
   ]
  },
  {
   "cell_type": "code",
   "execution_count": 204,
   "id": "04219c5a-1969-4ad7-82ab-cd58d3835ee6",
   "metadata": {},
   "outputs": [
    {
     "data": {
      "text/plain": [
       "('b', [1, 2, 3])"
      ]
     },
     "execution_count": 204,
     "metadata": {},
     "output_type": "execute_result"
    }
   ],
   "source": [
    "list(d1.items())"
   ]
  },
  {
   "cell_type": "code",
   "execution_count": 205,
   "id": "cbf3e610-81b2-4659-9c1b-5dbc00edb381",
   "metadata": {},
   "outputs": [
    {
     "data": {
      "text/plain": [
       "(7, 'an integer')"
      ]
     },
     "execution_count": 205,
     "metadata": {},
     "output_type": "execute_result"
    }
   ],
   "source": [
    "list(d1.items())[2]"
   ]
  },
  {
   "cell_type": "code",
   "execution_count": 206,
   "id": "ddd6202b-723f-47ca-a0b1-1453bc379b4d",
   "metadata": {},
   "outputs": [],
   "source": [
    "d1.update({\"wu\": \"shang clan\", \"d\": \"an alphabet\"})"
   ]
  },
  {
   "cell_type": "code",
   "execution_count": 207,
   "id": "41347b4e-8b6e-42f2-a5be-8bec904e3f0a",
   "metadata": {},
   "outputs": [
    {
     "data": {
      "text/plain": [
       "{'a': 'some value',\n",
       " 'b': [1, 2, 3],\n",
       " 7: 'an integer',\n",
       " 'c': 'a string',\n",
       " 'wu': 'shang clan',\n",
       " 'd': 'an alphabet'}"
      ]
     },
     "execution_count": 207,
     "metadata": {},
     "output_type": "execute_result"
    }
   ],
   "source": [
    "d1"
   ]
  },
  {
   "cell_type": "code",
   "execution_count": null,
   "id": "9c58201c-1724-49fc-8c75-0ba56886a2dc",
   "metadata": {},
   "outputs": [],
   "source": [
    "# two sequences(lists) that you want to pair up element-wise in a dictionary\n",
    "\n",
    "# og way:\n",
    "for key, value in zip(key_list, value_list):\n",
    "    mapping[key] = value"
   ]
  },
  {
   "cell_type": "code",
   "execution_count": 217,
   "id": "f92cefd7-e956-48f7-bbb6-fde277114b0e",
   "metadata": {},
   "outputs": [
    {
     "data": {
      "text/plain": [
       "<zip at 0x1a6f3cda640>"
      ]
     },
     "execution_count": 217,
     "metadata": {},
     "output_type": "execute_result"
    }
   ],
   "source": [
    "# dict way:\n",
    "tuples = zip(range(5), reversed(range(5)))\n",
    "tuples"
   ]
  },
  {
   "cell_type": "code",
   "execution_count": 218,
   "id": "12b0ec6e-8f4a-417a-a113-355c2354af7c",
   "metadata": {},
   "outputs": [
    {
     "data": {
      "text/plain": [
       "{0: 4, 1: 3, 2: 2, 3: 1, 4: 0}"
      ]
     },
     "execution_count": 218,
     "metadata": {},
     "output_type": "execute_result"
    }
   ],
   "source": [
    "# the dict function accepts a list of 2-tuples:\n",
    "\n",
    "dict(tuples)"
   ]
  },
  {
   "cell_type": "code",
   "execution_count": 228,
   "id": "6ac4d9e7-6fbf-40c4-a291-3bda65fad4b2",
   "metadata": {},
   "outputs": [],
   "source": [
    "# categorizing a list of words by their first letters as a dictionary of lists:\n",
    "\n",
    "words = [\"apple\", \"bat\", \"bar\", \"atom\", \"book\", \"ass\"]\n",
    "\n",
    "by_letter = {}\n",
    "\n",
    "for word in words:\n",
    "    letter = word[0]\n",
    "    by_letter.setdefault(letter, []).append(word)"
   ]
  },
  {
   "cell_type": "code",
   "execution_count": 229,
   "id": "294d016f-30c9-4b09-9d02-b748af665bdc",
   "metadata": {},
   "outputs": [
    {
     "data": {
      "text/plain": [
       "{'a': ['apple', 'atom', 'ass'], 'b': ['bat', 'bar', 'book']}"
      ]
     },
     "execution_count": 229,
     "metadata": {},
     "output_type": "execute_result"
    }
   ],
   "source": [
    "by_letter"
   ]
  },
  {
   "cell_type": "code",
   "execution_count": 235,
   "id": "e72d18a2-3bee-4125-8d82-98bdbb6df612",
   "metadata": {},
   "outputs": [],
   "source": [
    "# collections module way:\n",
    "from collections import defaultdict\n",
    "\n",
    "by_letter = defaultdict(list)\n",
    "\n",
    "for word in words:\n",
    "    by_letter[word[0]].append(word)"
   ]
  },
  {
   "cell_type": "code",
   "execution_count": 238,
   "id": "5654d67b-52b5-43ac-9b1b-8ea872166176",
   "metadata": {},
   "outputs": [
    {
     "data": {
      "text/plain": [
       "defaultdict(list, {'a': ['apple', 'atom', 'ass'], 'b': ['bat', 'bar', 'book']})"
      ]
     },
     "execution_count": 238,
     "metadata": {},
     "output_type": "execute_result"
    }
   ],
   "source": [
    "by_letter"
   ]
  },
  {
   "cell_type": "code",
   "execution_count": 239,
   "id": "d87fb935-bb1a-416e-8a9f-850b913e6ef9",
   "metadata": {},
   "outputs": [
    {
     "data": {
      "text/plain": [
       "-7291658651132774742"
      ]
     },
     "execution_count": 239,
     "metadata": {},
     "output_type": "execute_result"
    }
   ],
   "source": [
    "# hash function:\n",
    "\n",
    "hash(\"string\")"
   ]
  },
  {
   "cell_type": "code",
   "execution_count": 241,
   "id": "b28f86b5-6c01-4ed2-b562-19c1b7d780ec",
   "metadata": {},
   "outputs": [
    {
     "data": {
      "text/plain": [
       "-6766371705598827417"
      ]
     },
     "execution_count": 241,
     "metadata": {},
     "output_type": "execute_result"
    }
   ],
   "source": [
    "hash((1, 2, 3, (4, 5)))"
   ]
  },
  {
   "cell_type": "code",
   "execution_count": 242,
   "id": "8397310f-42ed-4e1b-8495-03d39fd73441",
   "metadata": {},
   "outputs": [
    {
     "ename": "TypeError",
     "evalue": "unhashable type: 'list'",
     "output_type": "error",
     "traceback": [
      "\u001b[1;31m---------------------------------------------------------------------------\u001b[0m",
      "\u001b[1;31mTypeError\u001b[0m                                 Traceback (most recent call last)",
      "Cell \u001b[1;32mIn[242], line 1\u001b[0m\n\u001b[1;32m----> 1\u001b[0m \u001b[38;5;28;43mhash\u001b[39;49m\u001b[43m(\u001b[49m\u001b[43m(\u001b[49m\u001b[38;5;241;43m1\u001b[39;49m\u001b[43m,\u001b[49m\u001b[43m \u001b[49m\u001b[38;5;241;43m2\u001b[39;49m\u001b[43m,\u001b[49m\u001b[43m \u001b[49m\u001b[38;5;241;43m3\u001b[39;49m\u001b[43m,\u001b[49m\u001b[43m \u001b[49m\u001b[43m[\u001b[49m\u001b[38;5;241;43m4\u001b[39;49m\u001b[43m,\u001b[49m\u001b[43m \u001b[49m\u001b[38;5;241;43m5\u001b[39;49m\u001b[43m]\u001b[49m\u001b[43m)\u001b[49m\u001b[43m)\u001b[49m\n",
      "\u001b[1;31mTypeError\u001b[0m: unhashable type: 'list'"
     ]
    }
   ],
   "source": [
    "hash((1, 2, 3, [4, 5]))"
   ]
  },
  {
   "cell_type": "code",
   "execution_count": 243,
   "id": "c6a7572d-8c10-456d-b4ef-7bde145970b9",
   "metadata": {},
   "outputs": [],
   "source": [
    "# making list as a key:\n",
    "\n",
    "d = {}\n",
    "\n",
    "d[tuple([1, 2, 3])] = 4"
   ]
  },
  {
   "cell_type": "code",
   "execution_count": 244,
   "id": "4eaeec0f-567e-4f86-b7d3-1f50d23aa081",
   "metadata": {},
   "outputs": [
    {
     "data": {
      "text/plain": [
       "{(1, 2, 3): 4}"
      ]
     },
     "execution_count": 244,
     "metadata": {},
     "output_type": "execute_result"
    }
   ],
   "source": [
    "d"
   ]
  },
  {
   "cell_type": "markdown",
   "id": "a5436cd9-8432-4fbd-906a-ee78979d80c6",
   "metadata": {},
   "source": [
    "### Set"
   ]
  },
  {
   "cell_type": "code",
   "execution_count": 1,
   "id": "127d2dd1-85a8-480c-990b-3771680d9029",
   "metadata": {},
   "outputs": [
    {
     "data": {
      "text/plain": [
       "{1, 2, 3, 4, 5, 6}"
      ]
     },
     "execution_count": 1,
     "metadata": {},
     "output_type": "execute_result"
    }
   ],
   "source": [
    "# One way\n",
    "\n",
    "set([1, 2, 3, 3, 2, 4, 4, 5, 6, 6])"
   ]
  },
  {
   "cell_type": "code",
   "execution_count": 2,
   "id": "0f1ffec1-f20b-4e91-b242-41fe2c4cab88",
   "metadata": {},
   "outputs": [
    {
     "data": {
      "text/plain": [
       "{1, 2, 3, 4, 5}"
      ]
     },
     "execution_count": 2,
     "metadata": {},
     "output_type": "execute_result"
    }
   ],
   "source": [
    "# Another way\n",
    "\n",
    "{2, 2, 1, 2, 3, 5, 4, 5}"
   ]
  },
  {
   "cell_type": "code",
   "execution_count": 18,
   "id": "bcc0aa95-a2a8-4bb0-aebc-9a0f6b1d2d59",
   "metadata": {},
   "outputs": [],
   "source": [
    "# The union of these two sets is the set of distinct elements occurring in either set:\n",
    "\n",
    "a = {1, 2, 3, 4, 5, 6}\n",
    "b = {3, 4, 5, 6, 7, 8}"
   ]
  },
  {
   "cell_type": "code",
   "execution_count": 7,
   "id": "3fff1a7b-61ea-4fc8-a006-b7f15f03c736",
   "metadata": {},
   "outputs": [
    {
     "data": {
      "text/plain": [
       "{1, 2, 3, 4, 5, 6, 7, 8}"
      ]
     },
     "execution_count": 7,
     "metadata": {},
     "output_type": "execute_result"
    }
   ],
   "source": [
    "a.union(b)"
   ]
  },
  {
   "cell_type": "code",
   "execution_count": 9,
   "id": "64a351a4-44b2-4f3d-9460-071af2632aee",
   "metadata": {},
   "outputs": [
    {
     "data": {
      "text/plain": [
       "{1, 2, 3, 4, 5, 6, 7, 8}"
      ]
     },
     "execution_count": 9,
     "metadata": {},
     "output_type": "execute_result"
    }
   ],
   "source": [
    "# Another way\n",
    "\n",
    "a | b"
   ]
  },
  {
   "cell_type": "code",
   "execution_count": 10,
   "id": "6022af84-fca6-4804-94a4-816f3a55a38b",
   "metadata": {},
   "outputs": [
    {
     "data": {
      "text/plain": [
       "{3, 4, 5, 6}"
      ]
     },
     "execution_count": 10,
     "metadata": {},
     "output_type": "execute_result"
    }
   ],
   "source": [
    "# elements occurring in both sets:\n",
    "\n",
    "a.intersection(b)"
   ]
  },
  {
   "cell_type": "code",
   "execution_count": 11,
   "id": "e31891d2-83c1-440a-b2c4-3ef812faec4d",
   "metadata": {},
   "outputs": [
    {
     "data": {
      "text/plain": [
       "{3, 4, 5, 6}"
      ]
     },
     "execution_count": 11,
     "metadata": {},
     "output_type": "execute_result"
    }
   ],
   "source": [
    "a & b"
   ]
  },
  {
   "cell_type": "code",
   "execution_count": 16,
   "id": "ef3dedaf-3803-4807-9267-82045e32cf09",
   "metadata": {},
   "outputs": [],
   "source": [
    "a.intersection_update(b)"
   ]
  },
  {
   "cell_type": "code",
   "execution_count": 17,
   "id": "3ff8cf10-2df1-416f-ba2b-a130693600c4",
   "metadata": {},
   "outputs": [
    {
     "data": {
      "text/plain": [
       "{3, 4, 5, 6}"
      ]
     },
     "execution_count": 17,
     "metadata": {},
     "output_type": "execute_result"
    }
   ],
   "source": [
    "a"
   ]
  },
  {
   "cell_type": "code",
   "execution_count": 19,
   "id": "73503fb7-876a-4853-8614-dbf1aa886a8f",
   "metadata": {},
   "outputs": [],
   "source": [
    "c = a.copy()"
   ]
  },
  {
   "cell_type": "code",
   "execution_count": 26,
   "id": "461354bc-74d9-4577-beff-634a20eca132",
   "metadata": {},
   "outputs": [],
   "source": [
    "# union\n",
    "c |= b"
   ]
  },
  {
   "cell_type": "code",
   "execution_count": 22,
   "id": "991b4cd4-4d42-4db7-be15-85251c23a9cb",
   "metadata": {},
   "outputs": [
    {
     "data": {
      "text/plain": [
       "{1, 2, 3, 4, 5, 6, 7, 8}"
      ]
     },
     "execution_count": 22,
     "metadata": {},
     "output_type": "execute_result"
    }
   ],
   "source": [
    "c"
   ]
  },
  {
   "cell_type": "code",
   "execution_count": 27,
   "id": "bc95cb05-1ae6-451f-8272-811ecd4a669e",
   "metadata": {},
   "outputs": [],
   "source": [
    "# intersection\n",
    "d = a.copy()\n",
    "d &= b"
   ]
  },
  {
   "cell_type": "code",
   "execution_count": 28,
   "id": "b03ae98b-a05b-4a01-9bba-563bd5506a27",
   "metadata": {},
   "outputs": [
    {
     "data": {
      "text/plain": [
       "{3, 4, 5, 6}"
      ]
     },
     "execution_count": 28,
     "metadata": {},
     "output_type": "execute_result"
    }
   ],
   "source": [
    "d"
   ]
  },
  {
   "cell_type": "code",
   "execution_count": 34,
   "id": "8d47585a-0ab1-4f8b-9010-4651d968f72b",
   "metadata": {},
   "outputs": [],
   "source": [
    "# converting a list into tuple for storing it in a set:\n",
    "\n",
    "my_list = [1, 2, 3, 4]\n",
    "\n",
    "my_set = {tuple(my_list)}"
   ]
  },
  {
   "cell_type": "code",
   "execution_count": 46,
   "id": "a99705ef-6475-4590-8488-2d9b5be41cbd",
   "metadata": {},
   "outputs": [],
   "source": [
    "a_set = {1, 2, 3, 4, 5}"
   ]
  },
  {
   "cell_type": "code",
   "execution_count": 47,
   "id": "2d38a440-2ba3-4e46-bcdc-353f2ad89eba",
   "metadata": {},
   "outputs": [
    {
     "data": {
      "text/plain": [
       "True"
      ]
     },
     "execution_count": 47,
     "metadata": {},
     "output_type": "execute_result"
    }
   ],
   "source": [
    "# is contained in or not:\n",
    "\n",
    "{1, 2, 3}.issubset(a_set)"
   ]
  },
  {
   "cell_type": "code",
   "execution_count": 48,
   "id": "7ef56ff3-16ce-4acf-a710-1c6d6a3e4b28",
   "metadata": {},
   "outputs": [
    {
     "data": {
      "text/plain": [
       "True"
      ]
     },
     "execution_count": 48,
     "metadata": {},
     "output_type": "execute_result"
    }
   ],
   "source": [
    "# contains all the elements or not:\n",
    "\n",
    "a_set.issuperset({1, 2, 3})"
   ]
  },
  {
   "cell_type": "code",
   "execution_count": 53,
   "id": "0d0e4855-b8d0-49dd-9ba1-643a9bb6f551",
   "metadata": {},
   "outputs": [
    {
     "data": {
      "text/plain": [
       "True"
      ]
     },
     "execution_count": 53,
     "metadata": {},
     "output_type": "execute_result"
    }
   ],
   "source": [
    "# Sets are equal if and only if their contents are equal:\n",
    "\n",
    "{1, 2, 3, 2} == {3, 2, 1, 1}"
   ]
  },
  {
   "cell_type": "markdown",
   "id": "7b340a42-d6b3-46a9-97d7-e6dbbb6d9e2f",
   "metadata": {},
   "source": [
    "### Built-In Sequence Functions"
   ]
  },
  {
   "cell_type": "markdown",
   "id": "c2a0a5d4-003c-48cf-a8e9-cc5153b4e52f",
   "metadata": {},
   "source": [
    "#### enumerate"
   ]
  },
  {
   "cell_type": "code",
   "execution_count": 58,
   "id": "6cf1e0f2-dd53-4288-91e2-f1ac48a64c0c",
   "metadata": {},
   "outputs": [
    {
     "name": "stdout",
     "output_type": "stream",
     "text": [
      "0 0\n",
      "1 7\n",
      "2 14\n",
      "3 21\n",
      "4 28\n",
      "5 35\n",
      "6 42\n",
      "7 49\n"
     ]
    }
   ],
   "source": [
    "# when you want to keep track of the index along with the values (index, values):\n",
    "\n",
    "collection = [0, 7, 14, 21, 28, 35, 42, 49]\n",
    "\n",
    "for index, value in enumerate(collection):\n",
    "    print(index, value)"
   ]
  },
  {
   "cell_type": "markdown",
   "id": "53258a65-e314-4d49-89f9-81068390591f",
   "metadata": {},
   "source": [
    "#### sorted"
   ]
  },
  {
   "cell_type": "code",
   "execution_count": 59,
   "id": "2387b657-0642-4a5e-bdd8-4add151ca35c",
   "metadata": {},
   "outputs": [
    {
     "data": {
      "text/plain": [
       "['_', 'a', 'a', 'c', 'c', 'e', 'r', 'r']"
      ]
     },
     "execution_count": 59,
     "metadata": {},
     "output_type": "execute_result"
    }
   ],
   "source": [
    "# The sorted function returns a new sorted list from the elements of any sequence:\n",
    "\n",
    "sorted(\"race_car\")"
   ]
  },
  {
   "cell_type": "code",
   "execution_count": 60,
   "id": "a8f1bdab-3ec2-4d46-a911-c706f2a05b78",
   "metadata": {},
   "outputs": [
    {
     "data": {
      "text/plain": [
       "[11, 22, 33, 44, 55]"
      ]
     },
     "execution_count": 60,
     "metadata": {},
     "output_type": "execute_result"
    }
   ],
   "source": [
    "sorted([11, 55, 22, 44, 33])"
   ]
  },
  {
   "cell_type": "markdown",
   "id": "97474de2-28fa-4f7d-b64e-676de2116309",
   "metadata": {},
   "source": [
    "#### zip"
   ]
  },
  {
   "cell_type": "code",
   "execution_count": 70,
   "id": "fc8913f8-f4a5-47ba-98a2-36f42154f932",
   "metadata": {},
   "outputs": [],
   "source": [
    "# pairs up the elements of a sequence into a tuple:\n",
    "\n",
    "seq1 = [1, 2, 3, 4, 5]\n",
    "seq2 = [\"one\", \"two\", \"three\", \"four\", \"five\"]\n",
    "seq3 = [\"I\", \"II\", \"III\", \"IV\", \"V\"]\n",
    "seq4 = [\"ek\", \"do\", \"teen\", \"chaar\"]\n",
    "\n",
    "zipped = zip(seq1, seq2, seq3)"
   ]
  },
  {
   "cell_type": "code",
   "execution_count": 71,
   "id": "1d9a33a4-c4d5-4ba9-ad92-675d998e9a9c",
   "metadata": {},
   "outputs": [
    {
     "data": {
      "text/plain": [
       "[(1, 'one', 'I'),\n",
       " (2, 'two', 'II'),\n",
       " (3, 'three', 'III'),\n",
       " (4, 'four', 'IV'),\n",
       " (5, 'five', 'V')]"
      ]
     },
     "execution_count": 71,
     "metadata": {},
     "output_type": "execute_result"
    }
   ],
   "source": [
    "list(zipped)"
   ]
  },
  {
   "cell_type": "code",
   "execution_count": 72,
   "id": "3fe57409-1d13-483d-8610-c75ec85017d0",
   "metadata": {},
   "outputs": [
    {
     "data": {
      "text/plain": [
       "[(1, 'one', 'I', 'ek'),\n",
       " (2, 'two', 'II', 'do'),\n",
       " (3, 'three', 'III', 'teen'),\n",
       " (4, 'four', 'IV', 'chaar')]"
      ]
     },
     "execution_count": 72,
     "metadata": {},
     "output_type": "execute_result"
    }
   ],
   "source": [
    "# The result is determined by the shortest sequence:\n",
    "\n",
    "list(zip(seq1, seq2, seq3, seq4))"
   ]
  },
  {
   "cell_type": "code",
   "execution_count": 75,
   "id": "2c8751f4-fb05-48c0-ab97-83fbf6a26b7c",
   "metadata": {},
   "outputs": [
    {
     "name": "stdout",
     "output_type": "stream",
     "text": [
      "0: (1, 'one', 'I', 'ek')\n",
      "1: (2, 'two', 'II', 'do')\n",
      "2: (3, 'three', 'III', 'teen')\n",
      "3: (4, 'four', 'IV', 'chaar')\n"
     ]
    }
   ],
   "source": [
    "# Iterating over multiple sequences with enumerate:\n",
    "\n",
    "for index, (a,b,c,d) in enumerate(zip(seq1, seq2, seq3, seq4)):\n",
    "    print(f\"{index}: {a, b, c, d}\")"
   ]
  },
  {
   "cell_type": "markdown",
   "id": "1d518553-8d90-4bb9-9213-b131f987809e",
   "metadata": {},
   "source": [
    "#### reversed"
   ]
  },
  {
   "cell_type": "code",
   "execution_count": 85,
   "id": "900a46f4-70a1-4d95-9d5e-4f94a769a523",
   "metadata": {},
   "outputs": [
    {
     "data": {
      "text/plain": [
       "[20, 18, 16, 14, 12, 10, 8, 6, 4, 2]"
      ]
     },
     "execution_count": 85,
     "metadata": {},
     "output_type": "execute_result"
    }
   ],
   "source": [
    "# Iterates over the elements of a sequence in reverse order:\n",
    "\n",
    "list(reversed(range(2, 21, 2)))"
   ]
  },
  {
   "cell_type": "markdown",
   "id": "392e1daf-ea0f-4b33-a75a-7be75393fe38",
   "metadata": {},
   "source": [
    "### List, Set, and Dictionary Comprehensions"
   ]
  },
  {
   "cell_type": "code",
   "execution_count": 105,
   "id": "0908fe17-6f59-49a2-bd09-294c3671064d",
   "metadata": {},
   "outputs": [
    {
     "data": {
      "text/plain": [
       "['BAT', 'CAR', 'DOVE', 'PYTHON']"
      ]
     },
     "execution_count": 105,
     "metadata": {},
     "output_type": "execute_result"
    }
   ],
   "source": [
    "strings = [\"a\", \"as\", \"bat\", \"car\", \"dove\", \"python\"]\n",
    "\n",
    "[x.upper() for x in strings if len(x) > 2]"
   ]
  },
  {
   "cell_type": "code",
   "execution_count": 20,
   "id": "7245ead7-64be-42e3-8433-d36aa84c3127",
   "metadata": {},
   "outputs": [
    {
     "data": {
      "text/plain": [
       "[1, 4, 9, 16, 25, 36, 49, 64, 81, 100]"
      ]
     },
     "execution_count": 20,
     "metadata": {},
     "output_type": "execute_result"
    }
   ],
   "source": [
    "# List of squares from 1 to 10:\n",
    "\n",
    "[x*x for x in range(1, 11)]"
   ]
  },
  {
   "cell_type": "code",
   "execution_count": 18,
   "id": "d5d48ba5-2a5b-4334-a8c1-0118970550a0",
   "metadata": {},
   "outputs": [
    {
     "data": {
      "text/plain": [
       "[0, 2, 4, 6, 8, 10, 12, 14, 16, 18, 20]"
      ]
     },
     "execution_count": 18,
     "metadata": {},
     "output_type": "execute_result"
    }
   ],
   "source": [
    "# List of even numbers from 0 to 20:\n",
    "\n",
    "[x for x in range(21) if x % 2 == 0]"
   ]
  },
  {
   "cell_type": "code",
   "execution_count": 23,
   "id": "342605db-4fb7-46af-9cca-6321e2e9bf5c",
   "metadata": {},
   "outputs": [
    {
     "data": {
      "text/plain": [
       "['HELLO', 'WORLD', 'PYTHON']"
      ]
     },
     "execution_count": 23,
     "metadata": {},
     "output_type": "execute_result"
    }
   ],
   "source": [
    "# Convert to uppercase:\n",
    "\n",
    "words = [\"hello\", \"world\", 'python']\n",
    "\n",
    "[x.upper() for x in words]"
   ]
  },
  {
   "cell_type": "code",
   "execution_count": 27,
   "id": "302cf6ce-7eaf-4cfa-964f-2e58328d794f",
   "metadata": {},
   "outputs": [
    {
     "data": {
      "text/plain": [
       "['1', '2', '3', '4']"
      ]
     },
     "execution_count": 27,
     "metadata": {},
     "output_type": "execute_result"
    }
   ],
   "source": [
    "# Extract digits from a string:\n",
    "\n",
    "text = \"a1b2c3d4\"\n",
    "\n",
    "[x for x in text if x.isdigit()]"
   ]
  },
  {
   "cell_type": "code",
   "execution_count": 46,
   "id": "e5d45e13-156b-44dd-9cc7-1d870f179a8a",
   "metadata": {},
   "outputs": [
    {
     "data": {
      "text/plain": [
       "[4, 14, 3, 8]"
      ]
     },
     "execution_count": 46,
     "metadata": {},
     "output_type": "execute_result"
    }
   ],
   "source": [
    "# Get lengths of each word in a sentence:\n",
    "\n",
    "sentence = \"List comprehensions are powerful\"\n",
    "\n",
    "[len(x) for x in sentence.split()]"
   ]
  },
  {
   "cell_type": "code",
   "execution_count": 55,
   "id": "72f3cea8-5d24-40cb-b9af-b0a14008284a",
   "metadata": {},
   "outputs": [
    {
     "data": {
      "text/plain": [
       "['b', 't', 'F', 'l']"
      ]
     },
     "execution_count": 55,
     "metadata": {},
     "output_type": "execute_result"
    }
   ],
   "source": [
    "# Filter out vowels from a string:\n",
    "\n",
    "string = \"beaUtiFul\"\n",
    "\n",
    "vowels = \"aeiou\"\n",
    "\n",
    "[x for x in string if x.lower() not in vowels]"
   ]
  },
  {
   "cell_type": "code",
   "execution_count": 58,
   "id": "f74f743c-cf94-4ca8-bd32-be7f792d2c6c",
   "metadata": {},
   "outputs": [
    {
     "data": {
      "text/plain": [
       "[1, 2, 3, 4, 5, 6]"
      ]
     },
     "execution_count": 58,
     "metadata": {},
     "output_type": "execute_result"
    }
   ],
   "source": [
    "# Flatten a matrix using list comprehension:\n",
    "\n",
    "matrix = [[1, 2], [3, 4], [5, 6]]\n",
    "\n",
    "[x for sublist in matrix for x in sublist]"
   ]
  },
  {
   "cell_type": "code",
   "execution_count": 69,
   "id": "50d66983-d6c5-4dd1-b539-8da1c379c902",
   "metadata": {},
   "outputs": [
    {
     "data": {
      "text/plain": [
       "[15, 30, 45, 60, 75, 90]"
      ]
     },
     "execution_count": 69,
     "metadata": {},
     "output_type": "execute_result"
    }
   ],
   "source": [
    "# Numbers from 1 to 100 that are divisible by 3 and 5:\n",
    "\n",
    "[x for x in range(1, 101) if x % 3 == 0 and x % 5 == 0]"
   ]
  },
  {
   "cell_type": "code",
   "execution_count": 85,
   "id": "9a8c7eaa-5325-4fba-98fb-cd6a21facbe4",
   "metadata": {},
   "outputs": [
    {
     "data": {
      "text/plain": [
       "['apple', 'orange', 'umbrella']"
      ]
     },
     "execution_count": 85,
     "metadata": {},
     "output_type": "execute_result"
    }
   ],
   "source": [
    "# Get words that start with a vowel:\n",
    "\n",
    "words = [\"apple\", \"banana\", \"orange\", \"umbrella\", \"grape\"]\n",
    "\n",
    "[x for x in words if x[0].lower() in vowels]"
   ]
  },
  {
   "cell_type": "code",
   "execution_count": 93,
   "id": "bde48a4c-d6d1-4087-8d9b-6bc3abdade61",
   "metadata": {},
   "outputs": [
    {
     "data": {
      "text/plain": [
       "{'a': 'A', 'b': 'B', 'c': 'C'}"
      ]
     },
     "execution_count": 93,
     "metadata": {},
     "output_type": "execute_result"
    }
   ],
   "source": [
    "# Create a dictionary using list comprehension:\n",
    "\n",
    "items = ['a', 'b', 'c']\n",
    "\n",
    "{x: x.upper() for x in items}"
   ]
  },
  {
   "cell_type": "code",
   "execution_count": 103,
   "id": "9017bf1b-a5e9-4b6e-83de-db82a1d15914",
   "metadata": {},
   "outputs": [
    {
     "data": {
      "text/plain": [
       "[[1, 2, 3], [4, 5, 6], [7, 8, 9]]"
      ]
     },
     "execution_count": 103,
     "metadata": {},
     "output_type": "execute_result"
    }
   ],
   "source": [
    "some_tuples = [(1, 2, 3), (4, 5, 6), (7, 8, 9)]\n",
    "\n",
    "# Creating flattened list:\n",
    "numbers = [x for numbers in some_tuples for x in numbers]\n",
    "\n",
    "# Creating nested_list:\n",
    "[[x for x in numbers] for numbers in some_tuples]"
   ]
  },
  {
   "cell_type": "code",
   "execution_count": 104,
   "id": "3d0bb417-6fad-495f-b994-92fb63418f42",
   "metadata": {},
   "outputs": [
    {
     "data": {
      "text/plain": [
       "['Emily']"
      ]
     },
     "execution_count": 104,
     "metadata": {},
     "output_type": "execute_result"
    }
   ],
   "source": [
    "# Extracting names starting with vowels from a nested list:\n",
    "\n",
    "data = [[\"John\", \"Emily\", \"Michael\", \"Mary\", \"Steven\"],\n",
    "       [\"Maria\", \"Juan\", \"Javier\", \"Natalia\", \"Pilar\"]]\n",
    "\n",
    "[name for names in data for name in names if name[0].lower() in vowels]"
   ]
  },
  {
   "cell_type": "markdown",
   "id": "54361e07-f3e6-48cd-85de-b1d4212ccbed",
   "metadata": {
    "jp-MarkdownHeadingCollapsed": true
   },
   "source": [
    "## 3.2 Functions"
   ]
  },
  {
   "cell_type": "code",
   "execution_count": 106,
   "id": "66973497-b354-42c1-bbd0-f364635c9456",
   "metadata": {},
   "outputs": [],
   "source": [
    "def add(x, y):\n",
    "    return x + y"
   ]
  },
  {
   "cell_type": "code",
   "execution_count": 107,
   "id": "d95f8756-49ce-49f6-8de3-5997e7e31de4",
   "metadata": {},
   "outputs": [
    {
     "data": {
      "text/plain": [
       "69"
      ]
     },
     "execution_count": 107,
     "metadata": {},
     "output_type": "execute_result"
    }
   ],
   "source": [
    "add(34, 35)"
   ]
  },
  {
   "cell_type": "code",
   "execution_count": 108,
   "id": "8b39e441-35b8-4318-8462-2db972736a12",
   "metadata": {},
   "outputs": [],
   "source": [
    "def func_without_return(x):\n",
    "    print(x)"
   ]
  },
  {
   "cell_type": "code",
   "execution_count": 109,
   "id": "3b6f393b-2d0f-4159-9c8c-027d4d54b39c",
   "metadata": {},
   "outputs": [
    {
     "name": "stdout",
     "output_type": "stream",
     "text": [
      "hello_world\n"
     ]
    }
   ],
   "source": [
    "func_without_return(\"hello_world\")"
   ]
  },
  {
   "cell_type": "code",
   "execution_count": 110,
   "id": "b20ec561-63b1-44df-a1c0-a436b8eb94ba",
   "metadata": {},
   "outputs": [
    {
     "name": "stdout",
     "output_type": "stream",
     "text": [
      "hello_world\n",
      "None\n"
     ]
    }
   ],
   "source": [
    "print(func_without_return(\"hello_world\"))"
   ]
  },
  {
   "cell_type": "markdown",
   "id": "93b9921e-1673-4d05-a2e7-a117bb586d6f",
   "metadata": {},
   "source": [
    "### Positional arguments and Keyword arguments"
   ]
  },
  {
   "cell_type": "code",
   "execution_count": 111,
   "id": "c360b7bf-ebd1-4239-8daa-cb74377187e8",
   "metadata": {},
   "outputs": [],
   "source": [
    "def my_function(x, y, z=1.5):\n",
    "    if z > 1:\n",
    "        return z * (x + y)\n",
    "    else:\n",
    "        return z / (x + y)"
   ]
  },
  {
   "cell_type": "code",
   "execution_count": 118,
   "id": "519ba67b-8fae-47fe-ac03-3f48de3fe013",
   "metadata": {},
   "outputs": [
    {
     "data": {
      "text/plain": [
       "30.0"
      ]
     },
     "execution_count": 118,
     "metadata": {},
     "output_type": "execute_result"
    }
   ],
   "source": [
    "my_function(12, 13, z=1.2)"
   ]
  },
  {
   "cell_type": "code",
   "execution_count": 119,
   "id": "fec299b5-7c65-4030-a267-30468d2c77eb",
   "metadata": {},
   "outputs": [
    {
     "data": {
      "text/plain": [
       "0.013513513513513514"
      ]
     },
     "execution_count": 119,
     "metadata": {},
     "output_type": "execute_result"
    }
   ],
   "source": [
    "my_function(14, 23, 0.5)"
   ]
  },
  {
   "cell_type": "code",
   "execution_count": 120,
   "id": "4cc33fff-9b58-4e44-aa36-f29dc370ed4b",
   "metadata": {},
   "outputs": [
    {
     "data": {
      "text/plain": [
       "103.5"
      ]
     },
     "execution_count": 120,
     "metadata": {},
     "output_type": "execute_result"
    }
   ],
   "source": [
    "my_function(34, 35)"
   ]
  },
  {
   "cell_type": "markdown",
   "id": "24c91748-20af-46fa-a194-5be96a5139f2",
   "metadata": {},
   "source": [
    "### Namespaces"
   ]
  },
  {
   "cell_type": "code",
   "execution_count": 6,
   "id": "b5dabaf2-1bd1-455f-bae8-845227424de2",
   "metadata": {},
   "outputs": [],
   "source": [
    "# The local namespace is created when the function is called and is immediately populated by the function’s arguments. \n",
    "# After the function is finished, the local namespace is destroyed.\n",
    "\n",
    "def func():\n",
    "    a = []\n",
    "    for i in range(5):\n",
    "        a.append(i)\n",
    "\n",
    "func()"
   ]
  },
  {
   "cell_type": "code",
   "execution_count": 20,
   "id": "800d83fd-9347-4596-b5e8-d2928a388faf",
   "metadata": {},
   "outputs": [
    {
     "data": {
      "text/plain": [
       "[0, 1, 2, 3, 4, 0, 1, 2, 3, 4]"
      ]
     },
     "execution_count": 20,
     "metadata": {},
     "output_type": "execute_result"
    }
   ],
   "source": [
    "# Each call to func will modify list a if it's outside the function:\n",
    "\n",
    "a = []\n",
    "\n",
    "def func():\n",
    "    for i in range(5):\n",
    "        a.append(i)\n",
    "\n",
    "func()\n",
    "\n",
    "func()\n",
    "\n",
    "a"
   ]
  },
  {
   "cell_type": "markdown",
   "id": "2e89b9e9-081e-44af-91a1-ea99c5fa3e39",
   "metadata": {},
   "source": [
    "### Returning Multiple Values"
   ]
  },
  {
   "cell_type": "code",
   "execution_count": 33,
   "id": "205cb303-a5ac-426c-9b55-4797406b093f",
   "metadata": {},
   "outputs": [],
   "source": [
    "def f():\n",
    "    a = 14\n",
    "    b = 28\n",
    "    c = 42\n",
    "    return a, b, c"
   ]
  },
  {
   "cell_type": "code",
   "execution_count": 28,
   "id": "236dafd7-1463-4cc0-9ea6-c19e54898b1c",
   "metadata": {},
   "outputs": [
    {
     "data": {
      "text/plain": [
       "(14, 28, 42)"
      ]
     },
     "execution_count": 28,
     "metadata": {},
     "output_type": "execute_result"
    }
   ],
   "source": [
    "x, y, z = f()\n",
    "x, y, z"
   ]
  },
  {
   "cell_type": "code",
   "execution_count": 29,
   "id": "026d5fbd-322e-4d6f-884a-98d48b75df11",
   "metadata": {},
   "outputs": [
    {
     "data": {
      "text/plain": [
       "(14, 28, 42)"
      ]
     },
     "execution_count": 29,
     "metadata": {},
     "output_type": "execute_result"
    }
   ],
   "source": [
    "return_value = f()\n",
    "return_value"
   ]
  },
  {
   "cell_type": "code",
   "execution_count": 30,
   "id": "ccffcfcd-01d7-41cb-991c-50cdb758a426",
   "metadata": {},
   "outputs": [],
   "source": [
    "# Alternative in a dict form:\n",
    "\n",
    "def f():\n",
    "    a = 7\n",
    "    b = 14\n",
    "    c = 21\n",
    "    return {\"a\": a, \"b\": b, \"c\": c}"
   ]
  },
  {
   "cell_type": "code",
   "execution_count": 31,
   "id": "684bef14-35dc-4274-86d5-6489c278f2f6",
   "metadata": {},
   "outputs": [
    {
     "data": {
      "text/plain": [
       "{'a': 7, 'b': 14, 'c': 21}"
      ]
     },
     "execution_count": 31,
     "metadata": {},
     "output_type": "execute_result"
    }
   ],
   "source": [
    "f()"
   ]
  },
  {
   "cell_type": "markdown",
   "id": "0496b044-3456-4345-be22-124dd29e55c5",
   "metadata": {},
   "source": [
    "### Functions Are Objects"
   ]
  },
  {
   "cell_type": "code",
   "execution_count": 35,
   "id": "cd294ad9-3bfa-49b2-9767-d0d79267bce0",
   "metadata": {},
   "outputs": [],
   "source": [
    "states = [\"   Alabama \", \"Georgia!\", \"Georgia\", \"georgia\", \"FlOrIda\", \"south   carolina##\", \"West virginia?\"]"
   ]
  },
  {
   "cell_type": "code",
   "execution_count": 82,
   "id": "571bc75c-126b-474c-b565-77ec224f0ce8",
   "metadata": {},
   "outputs": [],
   "source": [
    "def clean_strings(strings):\n",
    "    result = []\n",
    "    for value in strings:\n",
    "        value = value.strip(\" [!#?]\")     # removes whitespaces from both ends\n",
    "        value = value.title()             # capitalizes first letter\n",
    "        result.append(value)\n",
    "    return result"
   ]
  },
  {
   "cell_type": "code",
   "execution_count": 83,
   "id": "9816c8ee-b8f6-4e1f-9dfd-b84c723907b8",
   "metadata": {},
   "outputs": [
    {
     "data": {
      "text/plain": [
       "['Alabama',\n",
       " 'Georgia',\n",
       " 'Georgia',\n",
       " 'Georgia',\n",
       " 'Florida',\n",
       " 'South   Carolina',\n",
       " 'West Virginia']"
      ]
     },
     "execution_count": 83,
     "metadata": {},
     "output_type": "execute_result"
    }
   ],
   "source": [
    "clean_strings(states)"
   ]
  },
  {
   "cell_type": "markdown",
   "id": "09f9defb-ec7e-4a2d-8970-28ef52019484",
   "metadata": {},
   "source": [
    "### Anonymous (Lambda) Functions"
   ]
  },
  {
   "cell_type": "code",
   "execution_count": 99,
   "id": "75fd9cbd-9600-4110-b0af-a1ed2dda4057",
   "metadata": {},
   "outputs": [
    {
     "data": {
      "text/plain": [
       "69"
      ]
     },
     "execution_count": 99,
     "metadata": {},
     "output_type": "execute_result"
    }
   ],
   "source": [
    "add_ten = lambda x: x + 10\n",
    "\n",
    "add_ten(59)"
   ]
  },
  {
   "cell_type": "code",
   "execution_count": 98,
   "id": "b47a7d49-62aa-4ca8-a335-c7d78ea90965",
   "metadata": {},
   "outputs": [
    {
     "data": {
      "text/plain": [
       "200"
      ]
     },
     "execution_count": 98,
     "metadata": {},
     "output_type": "execute_result"
    }
   ],
   "source": [
    "multiply_nos = lambda x, y: x * y\n",
    "\n",
    "multiply_nos(10,20)"
   ]
  },
  {
   "cell_type": "code",
   "execution_count": 100,
   "id": "e327df39-71cb-43d4-8b21-07901e3a9352",
   "metadata": {},
   "outputs": [
    {
     "data": {
      "text/plain": [
       "49"
      ]
     },
     "execution_count": 100,
     "metadata": {},
     "output_type": "execute_result"
    }
   ],
   "source": [
    "square = lambda x: x*x\n",
    "\n",
    "square(7)"
   ]
  },
  {
   "cell_type": "code",
   "execution_count": 111,
   "id": "d281f13b-1ae4-4166-a57a-e3a96ddd35f0",
   "metadata": {},
   "outputs": [
    {
     "data": {
      "text/plain": [
       "[2, 4, 6, 8]"
      ]
     },
     "execution_count": 111,
     "metadata": {},
     "output_type": "execute_result"
    }
   ],
   "source": [
    "nums = [1, 2, 3, 4, 5, 6, 7, 8]\n",
    "\n",
    "list(filter(lambda x: x % 2 == 0, nums))"
   ]
  },
  {
   "cell_type": "code",
   "execution_count": 129,
   "id": "1abec428-41be-4fc8-b0b3-33f852fa43e0",
   "metadata": {},
   "outputs": [
    {
     "data": {
      "text/plain": [
       "[(5, 1), (3, 2), (1, 3)]"
      ]
     },
     "execution_count": 129,
     "metadata": {},
     "output_type": "execute_result"
    }
   ],
   "source": [
    "pairs = [(1, 3), (3, 2), (5, 1)]\n",
    "\n",
    "pairs.sort(key=lambda x: x[1])\n",
    "pairs"
   ]
  },
  {
   "cell_type": "code",
   "execution_count": 131,
   "id": "1950b1b2-3d46-4083-9f54-ebef3746d4e2",
   "metadata": {},
   "outputs": [
    {
     "data": {
      "text/plain": [
       "[32.0, 50.0, 68.0, 86.0]"
      ]
     },
     "execution_count": 131,
     "metadata": {},
     "output_type": "execute_result"
    }
   ],
   "source": [
    "celsius = [0, 10, 20, 30]\n",
    "\n",
    "list(map(lambda c: c*(9/5) + 32, celsius))"
   ]
  },
  {
   "cell_type": "code",
   "execution_count": 133,
   "id": "353174c6-6879-41f7-808c-b1910ee78db4",
   "metadata": {},
   "outputs": [
    {
     "data": {
      "text/plain": [
       "['1', '3', '4']"
      ]
     },
     "execution_count": 133,
     "metadata": {},
     "output_type": "execute_result"
    }
   ],
   "source": [
    "s = \"ab1c3d4\"\n",
    "\n",
    "list(filter(lambda x: x.isdigit(), s))"
   ]
  },
  {
   "cell_type": "code",
   "execution_count": 135,
   "id": "8d2bb2bb-edba-4244-9916-eb9f9d083d3a",
   "metadata": {},
   "outputs": [
    {
     "data": {
      "text/plain": [
       "['madam', 'racecar', 'noon']"
      ]
     },
     "execution_count": 135,
     "metadata": {},
     "output_type": "execute_result"
    }
   ],
   "source": [
    "words = ['madam', 'racecar', 'python', 'noon']\n",
    "\n",
    "list(filter(lambda x: x == x[::-1], words))"
   ]
  },
  {
   "cell_type": "code",
   "execution_count": 156,
   "id": "1d09e153-093d-4d84-b817-ee6c7002360d",
   "metadata": {},
   "outputs": [
    {
     "data": {
      "text/plain": [
       "{'name': 'Bob', 'score': 95}"
      ]
     },
     "execution_count": 156,
     "metadata": {},
     "output_type": "execute_result"
    }
   ],
   "source": [
    "students = [\n",
    "    {\"name\": \"Alice\", \"score\": 88},\n",
    "    {\"name\": \"Bob\", \"score\": 95},\n",
    "    {\"name\": \"Charlie\", \"score\": 91}\n",
    "]\n",
    "\n",
    "max(students, key=lambda x: x[\"score\"])"
   ]
  },
  {
   "cell_type": "code",
   "execution_count": 158,
   "id": "456cc76c-2231-4c5b-a9a9-111e48e93ac4",
   "metadata": {},
   "outputs": [],
   "source": [
    "odd_even = lambda x: \"Even\" if x % 2 == 0 else \"Odd\""
   ]
  },
  {
   "cell_type": "code",
   "execution_count": 161,
   "id": "68734476-d4ca-4cde-8130-f33c0ac57fd4",
   "metadata": {},
   "outputs": [
    {
     "data": {
      "text/plain": [
       "'Odd'"
      ]
     },
     "execution_count": 161,
     "metadata": {},
     "output_type": "execute_result"
    }
   ],
   "source": [
    "odd_even(11)"
   ]
  },
  {
   "cell_type": "code",
   "execution_count": 163,
   "id": "78c9ec13-af81-479b-9007-c37c1b604360",
   "metadata": {},
   "outputs": [],
   "source": [
    "strings = [\"foo\", \"card\", \"bar\", \"aaaa\", \"abab\"]\n",
    "\n",
    "strings.sort(key=lambda x: len(set(x)))"
   ]
  },
  {
   "cell_type": "code",
   "execution_count": 164,
   "id": "ce9deb6a-4ce9-4836-a193-41c19a3bd93b",
   "metadata": {},
   "outputs": [
    {
     "data": {
      "text/plain": [
       "['aaaa', 'foo', 'abab', 'bar', 'card']"
      ]
     },
     "execution_count": 164,
     "metadata": {},
     "output_type": "execute_result"
    }
   ],
   "source": [
    "strings"
   ]
  },
  {
   "cell_type": "markdown",
   "id": "576f9115-0120-4290-98ab-14bc4a4c0812",
   "metadata": {},
   "source": [
    "### Generators"
   ]
  },
  {
   "cell_type": "markdown",
   "id": "ec93a4fb-e0f4-433b-854b-43973d2355fd",
   "metadata": {},
   "source": [
    "#### iter()"
   ]
  },
  {
   "cell_type": "code",
   "execution_count": 14,
   "id": "becbfbba-58b1-47bd-95a7-602a6eacf3e2",
   "metadata": {},
   "outputs": [
    {
     "name": "stdout",
     "output_type": "stream",
     "text": [
      "a\n",
      "b\n",
      "c\n"
     ]
    }
   ],
   "source": [
    "# Iterating over a dictionary yields the dictionary keys:\n",
    "\n",
    "some_dict = {\"a\": 1, \"b\": 2, \"c\": 3}\n",
    "\n",
    "for key in some_dict:\n",
    "    print(key)"
   ]
  },
  {
   "cell_type": "code",
   "execution_count": 15,
   "id": "de3cbb8e-73cc-436d-9064-88943e014704",
   "metadata": {},
   "outputs": [
    {
     "data": {
      "text/plain": [
       "['a', 'b', 'c']"
      ]
     },
     "execution_count": 15,
     "metadata": {},
     "output_type": "execute_result"
    }
   ],
   "source": [
    "# The Python interpreter to creates an iterator out of some_dict\n",
    "\n",
    "list(iter(some_dict))"
   ]
  },
  {
   "cell_type": "code",
   "execution_count": 20,
   "id": "815c3683-51f0-490b-bda1-4dc048d51298",
   "metadata": {},
   "outputs": [
    {
     "data": {
      "text/plain": [
       "['h', 'e', 'l', 'l', 'o', '_', 'w', 'o', 'r', 'l', 'd']"
      ]
     },
     "execution_count": 20,
     "metadata": {},
     "output_type": "execute_result"
    }
   ],
   "source": [
    "list(iter(\"hello_world\"))"
   ]
  },
  {
   "cell_type": "markdown",
   "id": "e70743f1-54c6-4ed4-b129-c3a483acfab0",
   "metadata": {},
   "source": [
    "#### Generator expressions"
   ]
  },
  {
   "cell_type": "code",
   "execution_count": 41,
   "id": "a30bf46d-8d8b-4348-928d-fc8499960b70",
   "metadata": {},
   "outputs": [
    {
     "data": {
      "text/plain": [
       "[1, 4, 9, 16, 25, 36, 49, 64, 81, 100]"
      ]
     },
     "execution_count": 41,
     "metadata": {},
     "output_type": "execute_result"
    }
   ],
   "source": [
    "# To create one, enclose what would otherwise be a list comprehension within parentheses instead of brackets:\n",
    "# Generator expressions can be used instead of list comprehensions\n",
    "\n",
    "list(x*x for x in range(1, 11))"
   ]
  },
  {
   "cell_type": "code",
   "execution_count": 39,
   "id": "fbf926d3-43da-4d13-9fa6-6b45dffdc214",
   "metadata": {},
   "outputs": [
    {
     "data": {
      "text/plain": [
       "{1: 1,\n",
       " 2: 8,\n",
       " 3: 27,\n",
       " 4: 64,\n",
       " 5: 125,\n",
       " 6: 216,\n",
       " 7: 343,\n",
       " 8: 512,\n",
       " 9: 729,\n",
       " 10: 1000,\n",
       " 11: 1331,\n",
       " 12: 1728,\n",
       " 13: 2197,\n",
       " 14: 2744,\n",
       " 15: 3375,\n",
       " 16: 4096,\n",
       " 17: 4913,\n",
       " 18: 5832,\n",
       " 19: 6859,\n",
       " 20: 8000}"
      ]
     },
     "execution_count": 39,
     "metadata": {},
     "output_type": "execute_result"
    }
   ],
   "source": [
    "dict((x, x*x*x) for x in range(1, 21))"
   ]
  },
  {
   "cell_type": "markdown",
   "id": "ff7b606b-08ee-4332-a356-19b852a48956",
   "metadata": {},
   "source": [
    "#### itertools module"
   ]
  },
  {
   "cell_type": "code",
   "execution_count": 61,
   "id": "bc6ff019-8465-486c-836d-050b438f7c5b",
   "metadata": {},
   "outputs": [
    {
     "name": "stdout",
     "output_type": "stream",
     "text": [
      "A: ['Adam', 'Alan', 'Albert']\n",
      "J: ['Jatin', 'Jyoti']\n",
      "S: ['Sachin', 'Steven']\n",
      "W: ['Wes', 'Will']\n"
     ]
    }
   ],
   "source": [
    "import itertools\n",
    "\n",
    "names = [\"Alan\", \"Adam\", \"Wes\", \"Will\", \"Albert\", \"Steven\", \"Jyoti\", \"Jatin\", \"Sachin\"]\n",
    "names.sort()\n",
    "\n",
    "for letter, names in itertools.groupby(names, key=lambda x: x[0]):\n",
    "    print(f\"{letter}: {list(names)}\")     # names is the generator"
   ]
  },
  {
   "cell_type": "markdown",
   "id": "bb90fa25-4046-4336-9a7f-ce1baf9dea03",
   "metadata": {},
   "source": [
    "### Errors and Exception Handling"
   ]
  },
  {
   "cell_type": "code",
   "execution_count": 78,
   "id": "5c1738a0-d094-4dde-ae2b-b47347fbc8dc",
   "metadata": {},
   "outputs": [],
   "source": [
    "# Returns the input if it's a string without the ValueError\n",
    "# You might want to suppress only ValueError, since a TypeError might indicate a legitimate bug in your program.\n",
    "# The code in the except part will only be executed if float(x) raises an exception:\n",
    "\n",
    "def attempt_float(x):\n",
    "    try:\n",
    "        return float(x)\n",
    "    except ValueError:     # can use multiple exceptions with using parentheses (ValueError, TypeError)\n",
    "        return x"
   ]
  },
  {
   "cell_type": "code",
   "execution_count": 68,
   "id": "39d3cfcb-2c7a-480b-bfe1-9303fce64118",
   "metadata": {},
   "outputs": [
    {
     "data": {
      "text/plain": [
       "21.0"
      ]
     },
     "execution_count": 68,
     "metadata": {},
     "output_type": "execute_result"
    }
   ],
   "source": [
    "attempt_float(\"21\")"
   ]
  },
  {
   "cell_type": "code",
   "execution_count": 76,
   "id": "b9106569-02e7-48ed-a188-4c9ee6b1716d",
   "metadata": {},
   "outputs": [
    {
     "data": {
      "text/plain": [
       "'hello_world'"
      ]
     },
     "execution_count": 76,
     "metadata": {},
     "output_type": "execute_result"
    }
   ],
   "source": [
    "attempt_float(\"hello_world\")"
   ]
  },
  {
   "cell_type": "code",
   "execution_count": 75,
   "id": "45f02b9a-8822-42bf-b360-1ef65410b51b",
   "metadata": {},
   "outputs": [
    {
     "ename": "TypeError",
     "evalue": "float() argument must be a string or a real number, not 'tuple'",
     "output_type": "error",
     "traceback": [
      "\u001b[1;31m---------------------------------------------------------------------------\u001b[0m",
      "\u001b[1;31mTypeError\u001b[0m                                 Traceback (most recent call last)",
      "Cell \u001b[1;32mIn[75], line 1\u001b[0m\n\u001b[1;32m----> 1\u001b[0m \u001b[43mattempt_float\u001b[49m\u001b[43m(\u001b[49m\u001b[43m(\u001b[49m\u001b[38;5;241;43m1\u001b[39;49m\u001b[43m,\u001b[49m\u001b[38;5;241;43m2\u001b[39;49m\u001b[43m)\u001b[49m\u001b[43m)\u001b[49m\n",
      "Cell \u001b[1;32mIn[74], line 7\u001b[0m, in \u001b[0;36mattempt_float\u001b[1;34m(x)\u001b[0m\n\u001b[0;32m      5\u001b[0m \u001b[38;5;28;01mdef\u001b[39;00m\u001b[38;5;250m \u001b[39m\u001b[38;5;21mattempt_float\u001b[39m(x):\n\u001b[0;32m      6\u001b[0m     \u001b[38;5;28;01mtry\u001b[39;00m:\n\u001b[1;32m----> 7\u001b[0m         \u001b[38;5;28;01mreturn\u001b[39;00m \u001b[38;5;28;43mfloat\u001b[39;49m\u001b[43m(\u001b[49m\u001b[43mx\u001b[49m\u001b[43m)\u001b[49m\n\u001b[0;32m      8\u001b[0m     \u001b[38;5;28;01mexcept\u001b[39;00m \u001b[38;5;167;01mValueError\u001b[39;00m:\n\u001b[0;32m      9\u001b[0m         \u001b[38;5;28;01mreturn\u001b[39;00m x\n",
      "\u001b[1;31mTypeError\u001b[0m: float() argument must be a string or a real number, not 'tuple'"
     ]
    }
   ],
   "source": [
    "attempt_float((1,2))"
   ]
  },
  {
   "cell_type": "code",
   "execution_count": null,
   "id": "39a89b62-2afe-4570-8358-4466060ea8d3",
   "metadata": {},
   "outputs": [],
   "source": [
    "# When you want to suppress an exception whether or not try: succeeds, use finally:\n",
    "\n",
    "f = open(path, mode=\"w\")\n",
    "\n",
    "try:\n",
    "    write_to_file(f)\n",
    "finally:\n",
    "    f.close()     # file f will always get closed"
   ]
  },
  {
   "cell_type": "code",
   "execution_count": null,
   "id": "23a850a0-23a7-4e1b-99a0-2f0938be1671",
   "metadata": {},
   "outputs": [],
   "source": [
    "# When you want try: to succeed, use it with else:\n",
    "\n",
    "f = open(path, mode=\"w\")\n",
    "\n",
    "try:\n",
    "    write_to_file(f)\n",
    "except:\n",
    "    print(\"failed\")\n",
    "else:\n",
    "    print(\"succeeded\")\n",
    "finally:\n",
    "    f.close()"
   ]
  },
  {
   "cell_type": "markdown",
   "id": "87c37252-186d-4388-95b9-a59ef36199ef",
   "metadata": {
    "jp-MarkdownHeadingCollapsed": true
   },
   "source": [
    "## 3.3 Files and the Operating System"
   ]
  },
  {
   "cell_type": "code",
   "execution_count": 96,
   "id": "17e128de-1984-4554-bc78-45f1cc4d24e9",
   "metadata": {},
   "outputs": [],
   "source": [
    "f = open(\"project_report.txt\", encoding=\"utf-8\")"
   ]
  },
  {
   "cell_type": "code",
   "execution_count": 98,
   "id": "67d0c008-10d1-4a4a-97e1-ea42406b01b5",
   "metadata": {},
   "outputs": [],
   "source": [
    "for line in f:\n",
    "    print(line)\n",
    "\n",
    "f.close()"
   ]
  },
  {
   "cell_type": "code",
   "execution_count": 99,
   "id": "bb4cfe0e-481a-4b14-b225-5ecab48d73c5",
   "metadata": {},
   "outputs": [],
   "source": [
    "# An EOL-free list of lines in a file:\n",
    "\n",
    "[x.rstrip() for x in open(\"project_report.txt\", encoding=\"utf-8\")]\n",
    "\n",
    "f.close()"
   ]
  },
  {
   "cell_type": "code",
   "execution_count": 1,
   "id": "bc8faa38-c257-4c78-8387-a4394e084fdd",
   "metadata": {},
   "outputs": [],
   "source": [
    "# This will automatically close the file f when exiting with block:\n",
    "\n",
    "with open(\"project_report.txt\", encoding=\"utf-8\") as f:\n",
    "    lines = [line.rstrip() for line in f]"
   ]
  },
  {
   "cell_type": "code",
   "execution_count": 2,
   "id": "8766fe12-51dc-48d1-aa69-6be2355555d1",
   "metadata": {},
   "outputs": [],
   "source": [
    "# Commonly used methods:\n",
    "\n",
    "f1 = open(\"star_wars.txt\")\n",
    "\n",
    "f2 = open(\"star_wars.txt\", mode=\"rb\")"
   ]
  },
  {
   "cell_type": "code",
   "execution_count": 3,
   "id": "88859213-e15f-4baf-909b-fb675ae5ab40",
   "metadata": {},
   "outputs": [
    {
     "data": {
      "text/plain": [
       "'may the force be with you'"
      ]
     },
     "execution_count": 3,
     "metadata": {},
     "output_type": "execute_result"
    }
   ],
   "source": [
    "# The \"read\" method advances the file object position by the number of bytes read. \"tell\" gives you the current pointer position:\n",
    "\n",
    "f1.read()"
   ]
  },
  {
   "cell_type": "code",
   "execution_count": 227,
   "id": "bb23fe41-8e21-4b89-a1d4-0bc82fac8c8f",
   "metadata": {},
   "outputs": [
    {
     "data": {
      "text/plain": [
       "b'may \\r\\nthe \\r\\nforce \\r\\nbe \\r\\nwith \\r\\nyou'"
      ]
     },
     "execution_count": 227,
     "metadata": {},
     "output_type": "execute_result"
    }
   ],
   "source": [
    "f2.read()"
   ]
  },
  {
   "cell_type": "code",
   "execution_count": 6,
   "id": "80077d09-b278-42ad-8473-fc494ff1293b",
   "metadata": {},
   "outputs": [
    {
     "data": {
      "text/plain": [
       "10"
      ]
     },
     "execution_count": 6,
     "metadata": {},
     "output_type": "execute_result"
    }
   ],
   "source": [
    "f1.tell()"
   ]
  },
  {
   "cell_type": "code",
   "execution_count": 228,
   "id": "7d45351f-00a5-45bc-87c2-24d89b4bf15c",
   "metadata": {},
   "outputs": [
    {
     "data": {
      "text/plain": [
       "35"
      ]
     },
     "execution_count": 228,
     "metadata": {},
     "output_type": "execute_result"
    }
   ],
   "source": [
    "f2.tell()"
   ]
  },
  {
   "cell_type": "code",
   "execution_count": 229,
   "id": "12122f08-898d-47ac-b66b-58c2030fb51d",
   "metadata": {},
   "outputs": [
    {
     "data": {
      "text/plain": [
       "'utf-8'"
      ]
     },
     "execution_count": 229,
     "metadata": {},
     "output_type": "execute_result"
    }
   ],
   "source": [
    "# Checking the default encoder:\n",
    "\n",
    "import sys\n",
    "\n",
    "sys.getdefaultencoding()"
   ]
  },
  {
   "cell_type": "code",
   "execution_count": 5,
   "id": "99a27653-d2d5-4f41-bf34-abcc1ab9788d",
   "metadata": {},
   "outputs": [
    {
     "data": {
      "text/plain": [
       "10"
      ]
     },
     "execution_count": 5,
     "metadata": {},
     "output_type": "execute_result"
    }
   ],
   "source": [
    "# \"seek\" changes the file position to the indicated byte in the file:\n",
    "\n",
    "f1.seek(10)"
   ]
  },
  {
   "cell_type": "code",
   "execution_count": 244,
   "id": "280b0eb0-ca4a-40d0-bb7c-398f99d7fd0f",
   "metadata": {},
   "outputs": [
    {
     "data": {
      "text/plain": [
       "'\\nf'"
      ]
     },
     "execution_count": 244,
     "metadata": {},
     "output_type": "execute_result"
    }
   ],
   "source": [
    "f1.read(2)"
   ]
  },
  {
   "cell_type": "code",
   "execution_count": 245,
   "id": "67267bd5-3a75-4334-870c-8ce754a79c5c",
   "metadata": {},
   "outputs": [
    {
     "data": {
      "text/plain": [
       "13"
      ]
     },
     "execution_count": 245,
     "metadata": {},
     "output_type": "execute_result"
    }
   ],
   "source": [
    "f1.tell()"
   ]
  },
  {
   "cell_type": "code",
   "execution_count": 7,
   "id": "d49fea2e-7452-401e-b4ab-9173a5745678",
   "metadata": {},
   "outputs": [],
   "source": [
    "# Closing the files:\n",
    "\n",
    "f1.close()\n",
    "f2.close()"
   ]
  },
  {
   "cell_type": "code",
   "execution_count": 256,
   "id": "7171e6cd-e4ce-46d4-b540-c9deadaa9eac",
   "metadata": {},
   "outputs": [
    {
     "data": {
      "text/plain": [
       "['may \\n', 'the \\n', 'force \\n', 'be \\n', 'with \\n', 'you']"
      ]
     },
     "execution_count": 256,
     "metadata": {},
     "output_type": "execute_result"
    }
   ],
   "source": [
    "# Writing:\n",
    "\n",
    "with open(\"new_file.txt\", \"w\") as handle:\n",
    "    handle.writelines(x for x in open(\"star_wars.txt\") if len(x) > 1)\n",
    "\n",
    "with open(\"new_file.txt\") as f:\n",
    "    lines = f.readlines()\n",
    "\n",
    "lines"
   ]
  },
  {
   "cell_type": "markdown",
   "id": "9630b7f5-6f54-480a-83c0-6165807b4ba0",
   "metadata": {},
   "source": [
    "### Bytes and Unicode with Files"
   ]
  },
  {
   "cell_type": "code",
   "execution_count": 270,
   "id": "2006eb31-2518-46d6-acc1-55dc92ec754c",
   "metadata": {},
   "outputs": [
    {
     "data": {
      "text/plain": [
       "25"
      ]
     },
     "execution_count": 270,
     "metadata": {},
     "output_type": "execute_result"
    }
   ],
   "source": [
    "# The default behavior for Python files is text mode (Python string i.e. the Unicode):\n",
    "# This contrasts with binary mode, which you can obtain by appending b to the file mode:\n",
    "\n",
    "with open(\"star_wars.txt\") as f:\n",
    "    chars = f.read(25)\n",
    "\n",
    "len(chars)"
   ]
  },
  {
   "cell_type": "code",
   "execution_count": 272,
   "id": "1070c0f5-ae4f-4d47-bd6e-af9d986d39e3",
   "metadata": {},
   "outputs": [
    {
     "data": {
      "text/plain": [
       "'may the force be with you'"
      ]
     },
     "execution_count": 272,
     "metadata": {},
     "output_type": "execute_result"
    }
   ],
   "source": [
    "chars"
   ]
  },
  {
   "cell_type": "code",
   "execution_count": 279,
   "id": "00da250e-5aeb-47f0-bcdc-92c15e67b067",
   "metadata": {},
   "outputs": [
    {
     "data": {
      "text/plain": [
       "b'may the force be with you'"
      ]
     },
     "execution_count": 279,
     "metadata": {},
     "output_type": "execute_result"
    }
   ],
   "source": [
    "# \"rb\" mode reads requests that exact number of bytes:\n",
    "\n",
    "with open(\"star_wars.txt\", \"rb\") as f:\n",
    "    data = f.read(25)\n",
    "\n",
    "data"
   ]
  },
  {
   "cell_type": "code",
   "execution_count": 286,
   "id": "6bc6593c-7b57-4241-9975-aa19f9d0463f",
   "metadata": {},
   "outputs": [
    {
     "data": {
      "text/plain": [
       "'may the force be with you'"
      ]
     },
     "execution_count": 286,
     "metadata": {},
     "output_type": "execute_result"
    }
   ],
   "source": [
    "# decoding the bytes to a str object (possible only if each of the encoded Unicode characters is fully formed):\n",
    "\n",
    "data.decode(\"utf-8\")"
   ]
  },
  {
   "cell_type": "code",
   "execution_count": 289,
   "id": "f7e62695-353f-42a8-a778-c99db3ff8d43",
   "metadata": {},
   "outputs": [
    {
     "data": {
      "text/plain": [
       "'force'"
      ]
     },
     "execution_count": 289,
     "metadata": {},
     "output_type": "execute_result"
    }
   ],
   "source": [
    "data[8:13].decode(\"utf-8\")"
   ]
  },
  {
   "cell_type": "code",
   "execution_count": 304,
   "id": "a9c02c6c-c362-4604-bff1-6db41e24442d",
   "metadata": {},
   "outputs": [],
   "source": [
    "f = open(\"star_wars.txt\")"
   ]
  },
  {
   "cell_type": "code",
   "execution_count": 305,
   "id": "77f1fbc3-2ee1-4668-af6d-2de47dac2483",
   "metadata": {},
   "outputs": [
    {
     "data": {
      "text/plain": [
       "'may t'"
      ]
     },
     "execution_count": 305,
     "metadata": {},
     "output_type": "execute_result"
    }
   ],
   "source": [
    "# Beware using seek when opening files in any mode other than binary:\n",
    "\n",
    "f.read(5)"
   ]
  },
  {
   "cell_type": "code",
   "execution_count": 306,
   "id": "e4a687ab-cecc-4958-9bb3-543002cded2a",
   "metadata": {},
   "outputs": [
    {
     "data": {
      "text/plain": [
       "4"
      ]
     },
     "execution_count": 306,
     "metadata": {},
     "output_type": "execute_result"
    }
   ],
   "source": [
    "f.seek(4)"
   ]
  },
  {
   "cell_type": "code",
   "execution_count": 307,
   "id": "5d8fa746-81b1-404e-a7f9-0261e9cc815d",
   "metadata": {},
   "outputs": [
    {
     "data": {
      "text/plain": [
       "'t'"
      ]
     },
     "execution_count": 307,
     "metadata": {},
     "output_type": "execute_result"
    }
   ],
   "source": [
    "f.read(1)"
   ]
  }
 ],
 "metadata": {
  "kernelspec": {
   "display_name": "Python 3 (ipykernel)",
   "language": "python",
   "name": "python3"
  },
  "language_info": {
   "codemirror_mode": {
    "name": "ipython",
    "version": 3
   },
   "file_extension": ".py",
   "mimetype": "text/x-python",
   "name": "python",
   "nbconvert_exporter": "python",
   "pygments_lexer": "ipython3",
   "version": "3.12.5"
  }
 },
 "nbformat": 4,
 "nbformat_minor": 5
}
