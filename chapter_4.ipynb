{
 "cells": [
  {
   "cell_type": "markdown",
   "id": "1df1ebac-6c94-4733-b622-1d027c32276c",
   "metadata": {},
   "source": [
    "# Chapter 4: NumPy Basics: Arrays and Vectorized Computation"
   ]
  },
  {
   "cell_type": "code",
   "execution_count": 1,
   "id": "29b719e9-2b87-4bf2-bc36-09732427e5c2",
   "metadata": {},
   "outputs": [],
   "source": [
    "import numpy as np"
   ]
  },
  {
   "cell_type": "code",
   "execution_count": 10,
   "id": "ad60c7b9-2201-401d-82d7-656645f915dc",
   "metadata": {},
   "outputs": [],
   "source": [
    "# Array vs. List\n",
    "\n",
    "my_arr = np.arange(1_000_000)\n",
    "\n",
    "my_list = list(range(1_000_000))"
   ]
  },
  {
   "cell_type": "code",
   "execution_count": 15,
   "id": "bedd73c5-743b-44a5-ad58-4bfca4b1528e",
   "metadata": {},
   "outputs": [
    {
     "name": "stdout",
     "output_type": "stream",
     "text": [
      "2.68 ms ± 404 μs per loop (mean ± std. dev. of 7 runs, 100 loops each)\n"
     ]
    }
   ],
   "source": [
    "%timeit my_arr*2"
   ]
  },
  {
   "cell_type": "code",
   "execution_count": 16,
   "id": "f8db3c75-e0c0-4763-818d-9af7e4241acb",
   "metadata": {},
   "outputs": [
    {
     "name": "stdout",
     "output_type": "stream",
     "text": [
      "55.4 ms ± 1.61 ms per loop (mean ± std. dev. of 7 runs, 10 loops each)\n"
     ]
    }
   ],
   "source": [
    "%timeit [x*2 for x in my_list]"
   ]
  },
  {
   "cell_type": "markdown",
   "id": "af0718a9-94b0-4866-8a79-5a1ee29f694e",
   "metadata": {},
   "source": [
    "## 4.1 The NumPy ndarray: A Multidimensional Object"
   ]
  },
  {
   "cell_type": "code",
   "execution_count": 20,
   "id": "aa0d6638-a18c-4085-abaa-719d08d358fa",
   "metadata": {},
   "outputs": [
    {
     "data": {
      "text/plain": [
       "array([[ 2,  4,  6],\n",
       "       [ 8, 10, 12]])"
      ]
     },
     "execution_count": 20,
     "metadata": {},
     "output_type": "execute_result"
    }
   ],
   "source": [
    "data = np.array([[2, 4, 6], [8, 10, 12]])\n",
    "\n",
    "data"
   ]
  },
  {
   "cell_type": "code",
   "execution_count": 23,
   "id": "b7056c9c-deeb-4460-a38a-2e1d6e97017e",
   "metadata": {},
   "outputs": [
    {
     "data": {
      "text/plain": [
       "array([[ 8, 16, 24],\n",
       "       [32, 40, 48]])"
      ]
     },
     "execution_count": 23,
     "metadata": {},
     "output_type": "execute_result"
    }
   ],
   "source": [
    "data * 4"
   ]
  },
  {
   "cell_type": "code",
   "execution_count": 24,
   "id": "29b8927c-f0c0-46ab-af13-187ded18f95a",
   "metadata": {},
   "outputs": [
    {
     "data": {
      "text/plain": [
       "array([[ 4,  8, 12],\n",
       "       [16, 20, 24]])"
      ]
     },
     "execution_count": 24,
     "metadata": {},
     "output_type": "execute_result"
    }
   ],
   "source": [
    "data + data"
   ]
  },
  {
   "cell_type": "code",
   "execution_count": 25,
   "id": "ce2090be-776b-48a1-8d48-735d88f6c43b",
   "metadata": {},
   "outputs": [
    {
     "data": {
      "text/plain": [
       "(2, 3)"
      ]
     },
     "execution_count": 25,
     "metadata": {},
     "output_type": "execute_result"
    }
   ],
   "source": [
    "data.shape"
   ]
  },
  {
   "cell_type": "code",
   "execution_count": 26,
   "id": "41d2761e-1cb2-4042-86ba-e35085f5a53f",
   "metadata": {},
   "outputs": [
    {
     "data": {
      "text/plain": [
       "dtype('int64')"
      ]
     },
     "execution_count": 26,
     "metadata": {},
     "output_type": "execute_result"
    }
   ],
   "source": [
    "data.dtype"
   ]
  },
  {
   "cell_type": "markdown",
   "id": "6113e407-14ee-414d-812c-b2ac2017e893",
   "metadata": {},
   "source": [
    "### Creating ndarrays"
   ]
  },
  {
   "cell_type": "code",
   "execution_count": 35,
   "id": "27ffe55e-5633-4741-a13f-ec1d6c40565a",
   "metadata": {},
   "outputs": [
    {
     "data": {
      "text/plain": [
       "array([ 1.5,  3. ,  4.5,  6. ,  7.5, 10. ])"
      ]
     },
     "execution_count": 35,
     "metadata": {},
     "output_type": "execute_result"
    }
   ],
   "source": [
    "list1 = [1.5, 3, 4.5, 6, 7.5, 10]\n",
    "\n",
    "arr1 = np.array(list1)\n",
    "\n",
    "arr1"
   ]
  },
  {
   "cell_type": "code",
   "execution_count": 41,
   "id": "4dc99c81-efcb-4931-aa6c-735f53f4d94a",
   "metadata": {},
   "outputs": [
    {
     "data": {
      "text/plain": [
       "array([[ 7, 14, 21],\n",
       "       [28, 35, 42]])"
      ]
     },
     "execution_count": 41,
     "metadata": {},
     "output_type": "execute_result"
    }
   ],
   "source": [
    "# Nested sequences, like a list of equal-length lists, will be converted into a multidimensional array:\n",
    "\n",
    "list2 = [[7, 14, 21], [28, 35, 42]]\n",
    "\n",
    "arr2 = np.array(list2)\n",
    "\n",
    "arr2"
   ]
  },
  {
   "cell_type": "code",
   "execution_count": 42,
   "id": "01de9f02-3565-48c9-a9b7-dc606329ddd2",
   "metadata": {},
   "outputs": [
    {
     "data": {
      "text/plain": [
       "2"
      ]
     },
     "execution_count": 42,
     "metadata": {},
     "output_type": "execute_result"
    }
   ],
   "source": [
    "arr2.ndim"
   ]
  },
  {
   "cell_type": "code",
   "execution_count": 43,
   "id": "aba86c83-7f24-4094-b43b-4e95c21a2061",
   "metadata": {},
   "outputs": [
    {
     "data": {
      "text/plain": [
       "(2, 3)"
      ]
     },
     "execution_count": 43,
     "metadata": {},
     "output_type": "execute_result"
    }
   ],
   "source": [
    "arr2.shape"
   ]
  },
  {
   "cell_type": "code",
   "execution_count": 46,
   "id": "4ad0c401-1823-4be3-92a4-01a5cec7ea50",
   "metadata": {},
   "outputs": [
    {
     "data": {
      "text/plain": [
       "dtype('int64')"
      ]
     },
     "execution_count": 46,
     "metadata": {},
     "output_type": "execute_result"
    }
   ],
   "source": [
    "arr2.dtype"
   ]
  },
  {
   "cell_type": "code",
   "execution_count": 61,
   "id": "786d133a-05ca-47ab-9a5d-2242d69d1bfd",
   "metadata": {},
   "outputs": [
    {
     "data": {
      "text/plain": [
       "array([0., 0., 0., 0., 0., 0., 0., 0., 0., 0.])"
      ]
     },
     "execution_count": 61,
     "metadata": {},
     "output_type": "execute_result"
    }
   ],
   "source": [
    "# np.zeros and np.ones create arrays of 0s and 1s:\n",
    "# To create a higher dimensional array with these methods, pass a tuple for the shape:\n",
    "\n",
    "np.zeros(10)"
   ]
  },
  {
   "cell_type": "code",
   "execution_count": 59,
   "id": "5cd7983d-ac57-4a38-927a-6103f5480191",
   "metadata": {},
   "outputs": [
    {
     "data": {
      "text/plain": [
       "array([[1., 1., 1., 1., 1.],\n",
       "       [1., 1., 1., 1., 1.],\n",
       "       [1., 1., 1., 1., 1.],\n",
       "       [1., 1., 1., 1., 1.],\n",
       "       [1., 1., 1., 1., 1.]])"
      ]
     },
     "execution_count": 59,
     "metadata": {},
     "output_type": "execute_result"
    }
   ],
   "source": [
    "np.ones((5, 5))"
   ]
  },
  {
   "cell_type": "code",
   "execution_count": 73,
   "id": "f814e3f6-f33b-4e27-9881-18a8446c8d5e",
   "metadata": {},
   "outputs": [],
   "source": [
    "# np.empty creates an array without initializing its values to any particular value:\n",
    "# use only when you want to populate the new array with data:\n",
    "\n",
    "emp = np.empty((3, 3, 3))"
   ]
  },
  {
   "cell_type": "code",
   "execution_count": 72,
   "id": "1020aef8-5128-4ac7-9c16-141a6ece77bc",
   "metadata": {},
   "outputs": [
    {
     "data": {
      "text/plain": [
       "array([ 0,  2,  4,  6,  8, 10])"
      ]
     },
     "execution_count": 72,
     "metadata": {},
     "output_type": "execute_result"
    }
   ],
   "source": [
    "# numpy.arange is an array-valued version of the built-in Python range function:\n",
    "\n",
    "np.arange(0, 11, 2)"
   ]
  },
  {
   "cell_type": "code",
   "execution_count": 76,
   "id": "2a7b5a9d-1ba1-4a66-8651-375e44d2eb4b",
   "metadata": {},
   "outputs": [
    {
     "data": {
      "text/plain": [
       "array([[[1., 1., 1.],\n",
       "        [1., 1., 1.],\n",
       "        [1., 1., 1.]],\n",
       "\n",
       "       [[1., 1., 1.],\n",
       "        [1., 1., 1.],\n",
       "        [1., 1., 1.]],\n",
       "\n",
       "       [[1., 1., 1.],\n",
       "        [1., 1., 1.],\n",
       "        [1., 1., 1.]]])"
      ]
     },
     "execution_count": 76,
     "metadata": {},
     "output_type": "execute_result"
    }
   ],
   "source": [
    "# Produces a ones array of the same shape and data type:\n",
    "\n",
    "np.ones_like(emp)"
   ]
  },
  {
   "cell_type": "code",
   "execution_count": 83,
   "id": "9d84b1a2-18a1-497e-85cd-57a643e4cf9c",
   "metadata": {},
   "outputs": [
    {
     "data": {
      "text/plain": [
       "array([[[69, 69, 69],\n",
       "        [69, 69, 69],\n",
       "        [69, 69, 69]],\n",
       "\n",
       "       [[69, 69, 69],\n",
       "        [69, 69, 69],\n",
       "        [69, 69, 69]]])"
      ]
     },
     "execution_count": 83,
     "metadata": {},
     "output_type": "execute_result"
    }
   ],
   "source": [
    "# Produce an array with all values set to the specified \"fill value\":\n",
    "\n",
    "np.full((2, 3, 3), 69)"
   ]
  },
  {
   "cell_type": "code",
   "execution_count": 87,
   "id": "13b5aac8-0225-4698-8fa8-6767ece85a24",
   "metadata": {},
   "outputs": [
    {
     "data": {
      "text/plain": [
       "(array([[1., 0., 0., 0., 0.],\n",
       "        [0., 1., 0., 0., 0.],\n",
       "        [0., 0., 1., 0., 0.],\n",
       "        [0., 0., 0., 1., 0.],\n",
       "        [0., 0., 0., 0., 1.]]),\n",
       " array([[1., 0., 0., 0., 0.],\n",
       "        [0., 1., 0., 0., 0.],\n",
       "        [0., 0., 1., 0., 0.],\n",
       "        [0., 0., 0., 1., 0.],\n",
       "        [0., 0., 0., 0., 1.]]))"
      ]
     },
     "execution_count": 87,
     "metadata": {},
     "output_type": "execute_result"
    }
   ],
   "source": [
    "# Create a square N × N identity matrix (1s on the diagonal and 0s elsewhere)\n",
    "\n",
    "np.identity(5), np.eye(5)"
   ]
  },
  {
   "cell_type": "markdown",
   "id": "6b2b9cc0-05e7-4f5b-8385-db7027562bf1",
   "metadata": {},
   "source": [
    "### Data Types for ndarrays"
   ]
  },
  {
   "cell_type": "code",
   "execution_count": 90,
   "id": "dd2b71b5-7480-4c36-bae1-6ab4cc30f622",
   "metadata": {},
   "outputs": [
    {
     "data": {
      "text/plain": [
       "dtype('float32')"
      ]
     },
     "execution_count": 90,
     "metadata": {},
     "output_type": "execute_result"
    }
   ],
   "source": [
    "arr1 = np.array([1, 2, 3], dtype=np.float32)\n",
    "\n",
    "arr1.dtype"
   ]
  },
  {
   "cell_type": "code",
   "execution_count": 91,
   "id": "3a8e6807-bc29-43a6-b849-b4fd61ff64e1",
   "metadata": {},
   "outputs": [
    {
     "data": {
      "text/plain": [
       "dtype('int32')"
      ]
     },
     "execution_count": 91,
     "metadata": {},
     "output_type": "execute_result"
    }
   ],
   "source": [
    "arr2 = np.array([1, 2, 3], dtype=np.int32)\n",
    "\n",
    "arr2.dtype"
   ]
  },
  {
   "cell_type": "code",
   "execution_count": 101,
   "id": "3b255380-4c47-48c6-90b8-fc0097b4cef4",
   "metadata": {},
   "outputs": [
    {
     "data": {
      "text/plain": [
       "dtype('int64')"
      ]
     },
     "execution_count": 101,
     "metadata": {},
     "output_type": "execute_result"
    }
   ],
   "source": [
    "# Converting dtypes:\n",
    "\n",
    "arr1 = np.array([1, 2, 3, 4, 5, 6])\n",
    "\n",
    "arr1.dtype"
   ]
  },
  {
   "cell_type": "code",
   "execution_count": 102,
   "id": "e3e41552-55d2-4b08-a030-cedc7641d2f4",
   "metadata": {},
   "outputs": [
    {
     "data": {
      "text/plain": [
       "dtype('float64')"
      ]
     },
     "execution_count": 102,
     "metadata": {},
     "output_type": "execute_result"
    }
   ],
   "source": [
    "float_arr1 = arr.astype(np.float64)\n",
    "\n",
    "float_arr1.dtype"
   ]
  },
  {
   "cell_type": "code",
   "execution_count": 104,
   "id": "4b97ce95-459b-4caa-8f8c-ec77bb9a3958",
   "metadata": {},
   "outputs": [
    {
     "data": {
      "text/plain": [
       "array([ 3, -1, -2,  0, 12, 10])"
      ]
     },
     "execution_count": 104,
     "metadata": {},
     "output_type": "execute_result"
    }
   ],
   "source": [
    "# the decimal part will be truncated:\n",
    "\n",
    "arr2 = np.array([3.7, -1.2, -2.6, 0.5, 12.9, 10.1])\n",
    "\n",
    "arr2.astype(np.int64)"
   ]
  },
  {
   "cell_type": "code",
   "execution_count": 110,
   "id": "ba857867-15c4-4cc0-b4e8-4338ec8864ad",
   "metadata": {},
   "outputs": [
    {
     "data": {
      "text/plain": [
       "array([5.7, 2.1, 3. ])"
      ]
     },
     "execution_count": 110,
     "metadata": {},
     "output_type": "execute_result"
    }
   ],
   "source": [
    "# If you have an array of strings representing numbers, you can use astype to convert them to numeric form:\n",
    "\n",
    "numeric_strings = np.array([\"5.7\", \"2.1\", 3], dtype=np.str_)\n",
    "\n",
    "numeric_strings.astype(np.float64)"
   ]
  },
  {
   "cell_type": "code",
   "execution_count": 117,
   "id": "eee058ae-bf23-4adf-84d8-16dc61d7e672",
   "metadata": {},
   "outputs": [
    {
     "data": {
      "text/plain": [
       "array([0., 1., 2., 3., 4., 5., 6., 7., 8., 9.])"
      ]
     },
     "execution_count": 117,
     "metadata": {},
     "output_type": "execute_result"
    }
   ],
   "source": [
    "# You can also use another array’s dtype:\n",
    "\n",
    "int_arr = np.arange(10)\n",
    "\n",
    "calibers = np.array([.22, .270, .357, .380, .44, .50])\n",
    "\n",
    "int_arr.astype(calibers.dtype)"
   ]
  },
  {
   "cell_type": "code",
   "execution_count": 121,
   "id": "1c96c33c-87ee-4abc-a06c-7b21e1eb79bc",
   "metadata": {},
   "outputs": [],
   "source": [
    "# There are shorthand type code strings you can also use to refer to a dtype:\n",
    "\n",
    "zeros_unit32 = np.zeros((2, 3, 3), dtype=\"u4\")"
   ]
  },
  {
   "cell_type": "code",
   "execution_count": 119,
   "id": "844e56fa-4520-4711-beea-40c4a2d35128",
   "metadata": {},
   "outputs": [
    {
     "data": {
      "text/plain": [
       "array([[[0, 0, 0],\n",
       "        [0, 0, 0],\n",
       "        [0, 0, 0]],\n",
       "\n",
       "       [[0, 0, 0],\n",
       "        [0, 0, 0],\n",
       "        [0, 0, 0]]], dtype=uint32)"
      ]
     },
     "execution_count": 119,
     "metadata": {},
     "output_type": "execute_result"
    }
   ],
   "source": [
    "zeros_unit32"
   ]
  },
  {
   "cell_type": "code",
   "execution_count": 126,
   "id": "89a040b1-d0f6-4702-b17f-4bb297b3643f",
   "metadata": {},
   "outputs": [
    {
     "ename": "OverflowError",
     "evalue": "Python integer -1 out of bounds for uint32",
     "output_type": "error",
     "traceback": [
      "\u001b[1;31m---------------------------------------------------------------------------\u001b[0m",
      "\u001b[1;31mOverflowError\u001b[0m                             Traceback (most recent call last)",
      "Cell \u001b[1;32mIn[126], line 3\u001b[0m\n\u001b[0;32m      1\u001b[0m \u001b[38;5;66;03m# Unsigned integer can't represent minus values:\u001b[39;00m\n\u001b[1;32m----> 3\u001b[0m \u001b[43mnp\u001b[49m\u001b[38;5;241;43m.\u001b[39;49m\u001b[43mfull\u001b[49m\u001b[43m(\u001b[49m\u001b[43m(\u001b[49m\u001b[38;5;241;43m2\u001b[39;49m\u001b[43m,\u001b[49m\u001b[43m \u001b[49m\u001b[38;5;241;43m2\u001b[39;49m\u001b[43m)\u001b[49m\u001b[43m,\u001b[49m\u001b[43m \u001b[49m\u001b[38;5;241;43m-\u001b[39;49m\u001b[38;5;241;43m1\u001b[39;49m\u001b[43m,\u001b[49m\u001b[43m \u001b[49m\u001b[43mdtype\u001b[49m\u001b[38;5;241;43m=\u001b[39;49m\u001b[38;5;124;43m\"\u001b[39;49m\u001b[38;5;124;43mu4\u001b[39;49m\u001b[38;5;124;43m\"\u001b[39;49m\u001b[43m)\u001b[49m\n",
      "File \u001b[1;32m~\\AppData\\Local\\Programs\\Python\\Python312\\Lib\\site-packages\\numpy\\_core\\numeric.py:366\u001b[0m, in \u001b[0;36mfull\u001b[1;34m(shape, fill_value, dtype, order, device, like)\u001b[0m\n\u001b[0;32m    364\u001b[0m     dtype \u001b[38;5;241m=\u001b[39m fill_value\u001b[38;5;241m.\u001b[39mdtype\n\u001b[0;32m    365\u001b[0m a \u001b[38;5;241m=\u001b[39m empty(shape, dtype, order, device\u001b[38;5;241m=\u001b[39mdevice)\n\u001b[1;32m--> 366\u001b[0m \u001b[43mmultiarray\u001b[49m\u001b[38;5;241;43m.\u001b[39;49m\u001b[43mcopyto\u001b[49m\u001b[43m(\u001b[49m\u001b[43ma\u001b[49m\u001b[43m,\u001b[49m\u001b[43m \u001b[49m\u001b[43mfill_value\u001b[49m\u001b[43m,\u001b[49m\u001b[43m \u001b[49m\u001b[43mcasting\u001b[49m\u001b[38;5;241;43m=\u001b[39;49m\u001b[38;5;124;43m'\u001b[39;49m\u001b[38;5;124;43munsafe\u001b[39;49m\u001b[38;5;124;43m'\u001b[39;49m\u001b[43m)\u001b[49m\n\u001b[0;32m    367\u001b[0m \u001b[38;5;28;01mreturn\u001b[39;00m a\n",
      "\u001b[1;31mOverflowError\u001b[0m: Python integer -1 out of bounds for uint32"
     ]
    }
   ],
   "source": [
    "# Unsigned integer can't represent minus values:\n",
    "\n",
    "np.full((2, 2), -1, dtype=\"u4\")"
   ]
  },
  {
   "cell_type": "markdown",
   "id": "f597dcbb-ebb3-4dc3-8cd8-a91edabcd992",
   "metadata": {},
   "source": [
    "### Arithmetic with NumPy Arrays"
   ]
  },
  {
   "cell_type": "code",
   "execution_count": 128,
   "id": "f396c551-e257-41a9-8e2e-130693a8b7cf",
   "metadata": {},
   "outputs": [
    {
     "data": {
      "text/plain": [
       "array([[1., 2., 3.],\n",
       "       [4., 5., 6.]])"
      ]
     },
     "execution_count": 128,
     "metadata": {},
     "output_type": "execute_result"
    }
   ],
   "source": [
    "# Any arithmetic operations between equal-size arrays apply the operation element-wise:\n",
    "\n",
    "arr = np.array([[1., 2., 3.], [4., 5., 6.]])\n",
    "\n",
    "arr"
   ]
  },
  {
   "cell_type": "code",
   "execution_count": 129,
   "id": "64e0ca0b-6f2b-47e8-a57b-69016cb43267",
   "metadata": {},
   "outputs": [
    {
     "data": {
      "text/plain": [
       "array([[ 1.,  4.,  9.],\n",
       "       [16., 25., 36.]])"
      ]
     },
     "execution_count": 129,
     "metadata": {},
     "output_type": "execute_result"
    }
   ],
   "source": [
    "arr * arr"
   ]
  },
  {
   "cell_type": "code",
   "execution_count": 130,
   "id": "844496ad-12a1-40ae-a3c1-c4a26609e81f",
   "metadata": {},
   "outputs": [
    {
     "data": {
      "text/plain": [
       "array([[0., 0., 0.],\n",
       "       [0., 0., 0.]])"
      ]
     },
     "execution_count": 130,
     "metadata": {},
     "output_type": "execute_result"
    }
   ],
   "source": [
    "arr - arr"
   ]
  },
  {
   "cell_type": "code",
   "execution_count": 131,
   "id": "68514896-ba6e-4d8f-8c53-fb9cd12c1541",
   "metadata": {},
   "outputs": [
    {
     "data": {
      "text/plain": [
       "array([[1.        , 0.5       , 0.33333333],\n",
       "       [0.25      , 0.2       , 0.16666667]])"
      ]
     },
     "execution_count": 131,
     "metadata": {},
     "output_type": "execute_result"
    }
   ],
   "source": [
    "1 / arr"
   ]
  },
  {
   "cell_type": "code",
   "execution_count": 135,
   "id": "1405b1a8-7431-4652-89f1-3f74e9a7cbc5",
   "metadata": {},
   "outputs": [
    {
     "data": {
      "text/plain": [
       "array([[ 1.,  4.,  9.],\n",
       "       [16., 25., 36.]])"
      ]
     },
     "execution_count": 135,
     "metadata": {},
     "output_type": "execute_result"
    }
   ],
   "source": [
    "# Arithmetic operations with scalars propagate the scalar argument to each element in the array:\n",
    "\n",
    "arr ** 2"
   ]
  },
  {
   "cell_type": "code",
   "execution_count": 139,
   "id": "e60d08c2-e3df-4494-8770-c931695ab4e9",
   "metadata": {},
   "outputs": [
    {
     "data": {
      "text/plain": [
       "array([[ 0.,  4.,  1.],\n",
       "       [ 7.,  2., 12.]])"
      ]
     },
     "execution_count": 139,
     "metadata": {},
     "output_type": "execute_result"
    }
   ],
   "source": [
    "# Comparisons between arrays of the same size yield Boolean arrays:\n",
    "\n",
    "arr2 = np.array([[0., 4., 1.], [7., 2., 12.]])\n",
    "\n",
    "arr2"
   ]
  },
  {
   "cell_type": "code",
   "execution_count": 138,
   "id": "c9c94980-efd4-4803-a928-1038a9d9145e",
   "metadata": {},
   "outputs": [
    {
     "data": {
      "text/plain": [
       "array([[False,  True, False],\n",
       "       [ True, False,  True]])"
      ]
     },
     "execution_count": 138,
     "metadata": {},
     "output_type": "execute_result"
    }
   ],
   "source": [
    "arr2 > arr"
   ]
  },
  {
   "cell_type": "markdown",
   "id": "36463cd4-2052-4787-8ec4-6bfe01e4f45a",
   "metadata": {},
   "source": [
    "### Basic Indexing and Slicing"
   ]
  },
  {
   "cell_type": "code",
   "execution_count": 4,
   "id": "cc74ff4a-e683-472c-9eca-a9cdb5375649",
   "metadata": {},
   "outputs": [
    {
     "data": {
      "text/plain": [
       "array([ 0,  1,  2,  3,  4,  5,  6,  7,  8,  9, 10])"
      ]
     },
     "execution_count": 4,
     "metadata": {},
     "output_type": "execute_result"
    }
   ],
   "source": [
    "arr = np.arange(11)\n",
    "\n",
    "arr"
   ]
  },
  {
   "cell_type": "code",
   "execution_count": 12,
   "id": "6d5ef11e-8e0c-40af-9f31-93ad3fb51837",
   "metadata": {},
   "outputs": [
    {
     "data": {
      "text/plain": [
       "np.int64(5)"
      ]
     },
     "execution_count": 12,
     "metadata": {},
     "output_type": "execute_result"
    }
   ],
   "source": [
    "arr[5]"
   ]
  },
  {
   "cell_type": "code",
   "execution_count": 19,
   "id": "4614aa27-7e34-4884-82c0-9bc0d73e414a",
   "metadata": {},
   "outputs": [
    {
     "data": {
      "text/plain": [
       "array([   11, 12345,    13,    14])"
      ]
     },
     "execution_count": 19,
     "metadata": {},
     "output_type": "execute_result"
    }
   ],
   "source": [
    "# Array slices are views of the og array and not a copy.\n",
    "# Any modifications to the view will be relfected on the og array.\n",
    "\n",
    "arr[5:9]"
   ]
  },
  {
   "cell_type": "code",
   "execution_count": 14,
   "id": "cbdc4c3f-2377-4907-8796-1832037d131c",
   "metadata": {},
   "outputs": [],
   "source": [
    "arr[5:9] = [11, 12, 13, 14]"
   ]
  },
  {
   "cell_type": "code",
   "execution_count": 15,
   "id": "52423fc4-1716-4cf2-a4e2-a9ce7f2b6032",
   "metadata": {},
   "outputs": [
    {
     "data": {
      "text/plain": [
       "array([ 0,  1,  2,  3,  4, 11, 12, 13, 14,  9, 10])"
      ]
     },
     "execution_count": 15,
     "metadata": {},
     "output_type": "execute_result"
    }
   ],
   "source": [
    "arr"
   ]
  },
  {
   "cell_type": "code",
   "execution_count": 16,
   "id": "23dbd43e-8224-4fc7-bbd8-c689424832bb",
   "metadata": {},
   "outputs": [
    {
     "data": {
      "text/plain": [
       "array([11, 12, 13, 14])"
      ]
     },
     "execution_count": 16,
     "metadata": {},
     "output_type": "execute_result"
    }
   ],
   "source": [
    "arr_slice = arr[5:9]\n",
    "\n",
    "arr_slice"
   ]
  },
  {
   "cell_type": "code",
   "execution_count": 20,
   "id": "958aa63e-b895-471a-bae4-c34d18bffa47",
   "metadata": {},
   "outputs": [],
   "source": [
    "# This modification will also make changes to the og array:\n",
    "\n",
    "arr_slice[1] = 12345"
   ]
  },
  {
   "cell_type": "code",
   "execution_count": 18,
   "id": "9f4b10ef-793d-44a5-9810-33c816bef42f",
   "metadata": {},
   "outputs": [
    {
     "data": {
      "text/plain": [
       "array([    0,     1,     2,     3,     4,    11, 12345,    13,    14,\n",
       "           9,    10])"
      ]
     },
     "execution_count": 18,
     "metadata": {},
     "output_type": "execute_result"
    }
   ],
   "source": [
    "arr"
   ]
  },
  {
   "cell_type": "code",
   "execution_count": 21,
   "id": "e981ce10-3a0b-47b0-be7f-a42cc1e8770e",
   "metadata": {},
   "outputs": [],
   "source": [
    "# This assigns to all the values:\n",
    "\n",
    "arr_slice[:] = 69"
   ]
  },
  {
   "cell_type": "code",
   "execution_count": 22,
   "id": "fb55d45b-9c0f-4410-bcbe-ec17358a81e1",
   "metadata": {},
   "outputs": [
    {
     "data": {
      "text/plain": [
       "array([ 0,  1,  2,  3,  4, 69, 69, 69, 69,  9, 10])"
      ]
     },
     "execution_count": 22,
     "metadata": {},
     "output_type": "execute_result"
    }
   ],
   "source": [
    "arr"
   ]
  },
  {
   "cell_type": "code",
   "execution_count": 24,
   "id": "1c752ff7-c4a2-4555-bd9f-2ae22e866e03",
   "metadata": {},
   "outputs": [
    {
     "data": {
      "text/plain": [
       "array([69, 69, 69])"
      ]
     },
     "execution_count": 24,
     "metadata": {},
     "output_type": "execute_result"
    }
   ],
   "source": [
    "# Correct way to copy a slice of an array instead of just a view:\n",
    "\n",
    "arr[5:8].copy()"
   ]
  },
  {
   "cell_type": "code",
   "execution_count": 32,
   "id": "b7cc50b8-0d27-4852-ba71-22885e51dff2",
   "metadata": {},
   "outputs": [
    {
     "data": {
      "text/plain": [
       "array([[1, 2, 3],\n",
       "       [4, 5, 6],\n",
       "       [7, 8, 9]])"
      ]
     },
     "execution_count": 32,
     "metadata": {},
     "output_type": "execute_result"
    }
   ],
   "source": [
    "# Two-Dimensional Array:\n",
    "\n",
    "arr2d = np.array([[1, 2, 3], [4, 5, 6], [7, 8, 9]])\n",
    "\n",
    "arr2d"
   ]
  },
  {
   "cell_type": "code",
   "execution_count": 37,
   "id": "d3b8ae4f-8cf6-4546-956f-3c2200085a94",
   "metadata": {},
   "outputs": [
    {
     "data": {
      "text/plain": [
       "array([5, 6])"
      ]
     },
     "execution_count": 37,
     "metadata": {},
     "output_type": "execute_result"
    }
   ],
   "source": [
    "# Here axis 0 is \"rows\" and axis 1 is \"columns\"\n",
    "\n",
    "arr2d[1,1:3]"
   ]
  },
  {
   "cell_type": "code",
   "execution_count": 43,
   "id": "72550068-8873-449b-b070-e54a7c0d1f41",
   "metadata": {},
   "outputs": [
    {
     "data": {
      "text/plain": [
       "array([[[ 1,  2,  3],\n",
       "        [ 4,  5,  6]],\n",
       "\n",
       "       [[ 7,  8,  9],\n",
       "        [10, 11, 12]]])"
      ]
     },
     "execution_count": 43,
     "metadata": {},
     "output_type": "execute_result"
    }
   ],
   "source": [
    "# Three-Dimensional Array:\n",
    "\n",
    "arr3d = np.array([[[1, 2, 3], [4, 5, 6]], [[7, 8, 9], [10, 11, 12]]])\n",
    "\n",
    "arr3d"
   ]
  },
  {
   "cell_type": "code",
   "execution_count": 39,
   "id": "ea897729-6503-4245-bd2b-e912927b481b",
   "metadata": {},
   "outputs": [
    {
     "data": {
      "text/plain": [
       "np.int64(7)"
      ]
     },
     "execution_count": 39,
     "metadata": {},
     "output_type": "execute_result"
    }
   ],
   "source": [
    "# Here axis 0 is \"stack\", axis 1 is \"rows\" and axis 2 is \"columns\"\n",
    "\n",
    "arr3d[1, 0, 0]"
   ]
  },
  {
   "cell_type": "code",
   "execution_count": 44,
   "id": "9294590b-f92f-47bb-ab0b-42ce12d77661",
   "metadata": {},
   "outputs": [],
   "source": [
    "old_values = arr3d[0].copy()\n",
    "\n",
    "arr3d[0] = 69"
   ]
  },
  {
   "cell_type": "code",
   "execution_count": 45,
   "id": "249c4c29-7957-477b-b442-2be9019fde34",
   "metadata": {},
   "outputs": [
    {
     "data": {
      "text/plain": [
       "array([[[69, 69, 69],\n",
       "        [69, 69, 69]],\n",
       "\n",
       "       [[ 7,  8,  9],\n",
       "        [10, 11, 12]]])"
      ]
     },
     "execution_count": 45,
     "metadata": {},
     "output_type": "execute_result"
    }
   ],
   "source": [
    "arr3d"
   ]
  },
  {
   "cell_type": "code",
   "execution_count": 46,
   "id": "5d730cda-dddc-49ed-8b4e-89636feba269",
   "metadata": {},
   "outputs": [
    {
     "data": {
      "text/plain": [
       "array([[[ 1,  2,  3],\n",
       "        [ 4,  5,  6]],\n",
       "\n",
       "       [[ 7,  8,  9],\n",
       "        [10, 11, 12]]])"
      ]
     },
     "execution_count": 46,
     "metadata": {},
     "output_type": "execute_result"
    }
   ],
   "source": [
    "arr3d[0] = old_values\n",
    "\n",
    "arr3d"
   ]
  },
  {
   "cell_type": "code",
   "execution_count": 49,
   "id": "325fcd64-2208-470e-a566-65f21958506e",
   "metadata": {},
   "outputs": [
    {
     "data": {
      "text/plain": [
       "array([[1, 2, 3],\n",
       "       [4, 5, 6],\n",
       "       [7, 8, 9]])"
      ]
     },
     "execution_count": 49,
     "metadata": {},
     "output_type": "execute_result"
    }
   ],
   "source": [
    "# Indexing with slices:\n",
    "\n",
    "arr2d"
   ]
  },
  {
   "cell_type": "code",
   "execution_count": 53,
   "id": "dc430434-db8f-4a47-a747-810180536f35",
   "metadata": {},
   "outputs": [
    {
     "data": {
      "text/plain": [
       "array([[1, 2, 3],\n",
       "       [4, 5, 6]])"
      ]
     },
     "execution_count": 53,
     "metadata": {},
     "output_type": "execute_result"
    }
   ],
   "source": [
    "# Selecting the first two rows:\n",
    "\n",
    "arr2d[:2]"
   ]
  },
  {
   "cell_type": "code",
   "execution_count": 56,
   "id": "cbc1ca8d-17f4-4cfb-bc43-2eab00f3cd42",
   "metadata": {},
   "outputs": [
    {
     "data": {
      "text/plain": [
       "array([[2, 3],\n",
       "       [5, 6]])"
      ]
     },
     "execution_count": 56,
     "metadata": {},
     "output_type": "execute_result"
    }
   ],
   "source": [
    "# You can pass multiple slices just like you can pass multiple indexes:\n",
    "\n",
    "arr2d[:2, 1:]"
   ]
  },
  {
   "cell_type": "code",
   "execution_count": 65,
   "id": "3797526a-465a-4e25-8fb7-3c7bcd131f03",
   "metadata": {},
   "outputs": [
    {
     "data": {
      "text/plain": [
       "array([4, 5])"
      ]
     },
     "execution_count": 65,
     "metadata": {},
     "output_type": "execute_result"
    }
   ],
   "source": [
    "# Selecting the 2nd row and the 1st two columns which makes it a 1d array:\n",
    "\n",
    "lower_dim_slice = arr2d[1,:2]\n",
    "lower_dim_slice"
   ]
  },
  {
   "cell_type": "code",
   "execution_count": 69,
   "id": "0b5a7e2b-1628-441d-bc68-d3b384469285",
   "metadata": {},
   "outputs": [
    {
     "data": {
      "text/plain": [
       "array([3, 6])"
      ]
     },
     "execution_count": 69,
     "metadata": {},
     "output_type": "execute_result"
    }
   ],
   "source": [
    "arr2d[:2,2]"
   ]
  },
  {
   "cell_type": "code",
   "execution_count": 72,
   "id": "aac32a09-7548-435a-be75-4171a2208eec",
   "metadata": {},
   "outputs": [
    {
     "data": {
      "text/plain": [
       "array([[1],\n",
       "       [4],\n",
       "       [7]])"
      ]
     },
     "execution_count": 72,
     "metadata": {},
     "output_type": "execute_result"
    }
   ],
   "source": [
    "# A colon by itself means to take the entire axis:\n",
    "\n",
    "arr2d[:, :1]"
   ]
  },
  {
   "cell_type": "markdown",
   "id": "9155a85d-20f7-46b6-993d-c5808d2e715e",
   "metadata": {},
   "source": [
    "### Boolean Indexing"
   ]
  },
  {
   "cell_type": "code",
   "execution_count": 73,
   "id": "6e576cc8-f672-4809-93a9-32b8894ded18",
   "metadata": {},
   "outputs": [],
   "source": [
    "names = np.array([\"Bob\", \"Joe\", \"Will\", \"Bob\", \"Will\", \"Joe\", \"Joe\"])\n",
    "\n",
    "data = np.array([[4, 7], [0, 2], [-5, 6], [0, 0], [1, 2], [-12, -4], [3, 4]])"
   ]
  },
  {
   "cell_type": "code",
   "execution_count": 74,
   "id": "400bd32d-4d53-47d2-80cd-170a79179437",
   "metadata": {},
   "outputs": [
    {
     "data": {
      "text/plain": [
       "array(['Bob', 'Joe', 'Will', 'Bob', 'Will', 'Joe', 'Joe'], dtype='<U4')"
      ]
     },
     "execution_count": 74,
     "metadata": {},
     "output_type": "execute_result"
    }
   ],
   "source": [
    "names"
   ]
  },
  {
   "cell_type": "code",
   "execution_count": 75,
   "id": "8046bc41-c11c-4097-af3f-b27e3f831fa2",
   "metadata": {},
   "outputs": [
    {
     "data": {
      "text/plain": [
       "array([[  4,   7],\n",
       "       [  0,   2],\n",
       "       [ -5,   6],\n",
       "       [  0,   0],\n",
       "       [  1,   2],\n",
       "       [-12,  -4],\n",
       "       [  3,   4]])"
      ]
     },
     "execution_count": 75,
     "metadata": {},
     "output_type": "execute_result"
    }
   ],
   "source": [
    "data"
   ]
  },
  {
   "cell_type": "code",
   "execution_count": 88,
   "id": "b71352e0-b4b4-421a-8c7f-7d5463b55229",
   "metadata": {},
   "outputs": [
    {
     "data": {
      "text/plain": [
       "array([[4, 7],\n",
       "       [0, 0]])"
      ]
     },
     "execution_count": 88,
     "metadata": {},
     "output_type": "execute_result"
    }
   ],
   "source": [
    "# Suppose each name corresponds to a row in the data array and \n",
    "# we wanted to select all the rows with the corresponding name \"Bob\"\n",
    "# The Boolean array must be of the same length as the array axis it’s indexing:\n",
    "\n",
    "data[names == \"Bob\"]"
   ]
  },
  {
   "cell_type": "code",
   "execution_count": 78,
   "id": "fd709c16-6cec-4ec0-b709-5a25971d20da",
   "metadata": {},
   "outputs": [
    {
     "data": {
      "text/plain": [
       "array([ True, False, False,  True, False, False, False])"
      ]
     },
     "execution_count": 78,
     "metadata": {},
     "output_type": "execute_result"
    }
   ],
   "source": [
    "# Trues only where there's a \"Bob\"\n",
    "\n",
    "names == \"Bob\""
   ]
  },
  {
   "cell_type": "code",
   "execution_count": 81,
   "id": "6d1e5341-7f48-450f-bc2d-74f9dc8eec8c",
   "metadata": {},
   "outputs": [
    {
     "data": {
      "text/plain": [
       "array([[7],\n",
       "       [0]])"
      ]
     },
     "execution_count": 81,
     "metadata": {},
     "output_type": "execute_result"
    }
   ],
   "source": [
    "# Selecting rows where there's \"Bob\" and indexing the columns:\n",
    "\n",
    "data[names == \"Bob\", 1:]"
   ]
  },
  {
   "cell_type": "code",
   "execution_count": 84,
   "id": "4f2a6f18-2220-410c-804f-2e463167b8e7",
   "metadata": {},
   "outputs": [
    {
     "data": {
      "text/plain": [
       "array([7, 0])"
      ]
     },
     "execution_count": 84,
     "metadata": {},
     "output_type": "execute_result"
    }
   ],
   "source": [
    "data[names == \"Bob\", 1]"
   ]
  },
  {
   "cell_type": "code",
   "execution_count": 93,
   "id": "17783695-a754-48d0-8084-5beefba7c7a6",
   "metadata": {},
   "outputs": [
    {
     "data": {
      "text/plain": [
       "array([False,  True,  True, False,  True,  True,  True])"
      ]
     },
     "execution_count": 93,
     "metadata": {},
     "output_type": "execute_result"
    }
   ],
   "source": [
    "# To select everything but \"Bob\":\n",
    "\n",
    "names != \"Bob\""
   ]
  },
  {
   "cell_type": "code",
   "execution_count": 91,
   "id": "b707b3c9-b27d-45e1-9c99-93463fe6f965",
   "metadata": {},
   "outputs": [
    {
     "data": {
      "text/plain": [
       "array([[  0,   2],\n",
       "       [ -5,   6],\n",
       "       [  1,   2],\n",
       "       [-12,  -4],\n",
       "       [  3,   4]])"
      ]
     },
     "execution_count": 91,
     "metadata": {},
     "output_type": "execute_result"
    }
   ],
   "source": [
    "# Another way:\n",
    "\n",
    "data[~(names == \"Bob\")]"
   ]
  },
  {
   "cell_type": "code",
   "execution_count": 98,
   "id": "fbd22220-4e67-4a80-8cf9-04afd10dd804",
   "metadata": {},
   "outputs": [
    {
     "data": {
      "text/plain": [
       "array([[  4,   7],\n",
       "       [  0,   2],\n",
       "       [  0,   0],\n",
       "       [-12,  -4],\n",
       "       [  3,   4]])"
      ]
     },
     "execution_count": 98,
     "metadata": {},
     "output_type": "execute_result"
    }
   ],
   "source": [
    "# The Python keywords \"and\" and \"or\" do not work with Boolean arrays. Use & (and) and | (or) instead.\n",
    "\n",
    "data[(names == \"Bob\") | (names == \"Joe\")]"
   ]
  },
  {
   "cell_type": "code",
   "execution_count": 101,
   "id": "4e305f2a-f954-4228-a107-8e75f72bfbd7",
   "metadata": {},
   "outputs": [],
   "source": [
    "# Setting 0 where ever there's minus values:\n",
    "\n",
    "data[data < 0] = 0"
   ]
  },
  {
   "cell_type": "code",
   "execution_count": 100,
   "id": "57658bb5-3443-4328-be94-52a8004d917c",
   "metadata": {},
   "outputs": [
    {
     "data": {
      "text/plain": [
       "array([[4, 7],\n",
       "       [0, 2],\n",
       "       [0, 6],\n",
       "       [0, 0],\n",
       "       [1, 2],\n",
       "       [0, 0],\n",
       "       [3, 4]])"
      ]
     },
     "execution_count": 100,
     "metadata": {},
     "output_type": "execute_result"
    }
   ],
   "source": [
    "data"
   ]
  },
  {
   "cell_type": "code",
   "execution_count": 105,
   "id": "9da01a66-1c6e-4072-b582-3e3ec14990df",
   "metadata": {},
   "outputs": [],
   "source": [
    "# Setting 7 where ever the corresponding \"Joe\" is in data:\n",
    "\n",
    "data[names != \"Joe\"] = 7"
   ]
  },
  {
   "cell_type": "code",
   "execution_count": 103,
   "id": "7febc333-4046-416e-9e93-05347c3e9f31",
   "metadata": {},
   "outputs": [
    {
     "data": {
      "text/plain": [
       "array([[7, 7],\n",
       "       [0, 2],\n",
       "       [7, 7],\n",
       "       [7, 7],\n",
       "       [7, 7],\n",
       "       [0, 0],\n",
       "       [3, 4]])"
      ]
     },
     "execution_count": 103,
     "metadata": {},
     "output_type": "execute_result"
    }
   ],
   "source": [
    "data"
   ]
  },
  {
   "cell_type": "markdown",
   "id": "9b9c8bf3-c276-44ca-babd-c174bdefe481",
   "metadata": {},
   "source": [
    "### Fancy Indexing"
   ]
  },
  {
   "cell_type": "code",
   "execution_count": 3,
   "id": "7f6536ea-17f4-4f05-91e1-2a061046d65c",
   "metadata": {},
   "outputs": [
    {
     "data": {
      "text/plain": [
       "array([[0., 0., 0., 0.],\n",
       "       [0., 0., 0., 0.],\n",
       "       [0., 0., 0., 0.],\n",
       "       [0., 0., 0., 0.],\n",
       "       [0., 0., 0., 0.],\n",
       "       [0., 0., 0., 0.],\n",
       "       [0., 0., 0., 0.],\n",
       "       [0., 0., 0., 0.]])"
      ]
     },
     "execution_count": 3,
     "metadata": {},
     "output_type": "execute_result"
    }
   ],
   "source": [
    "# Fancy indexing is a term adopted by NumPy to describe indexing using integer arrays:\n",
    "\n",
    "arr = np.zeros((8, 4))\n",
    "\n",
    "arr"
   ]
  },
  {
   "cell_type": "code",
   "execution_count": 12,
   "id": "bae6a284-e7c4-4d9b-9dc4-057f76838427",
   "metadata": {},
   "outputs": [],
   "source": [
    "# Making each row an i:\n",
    "\n",
    "for i in range(8):\n",
    "    arr[i] = i"
   ]
  },
  {
   "cell_type": "code",
   "execution_count": 11,
   "id": "0270384a-3302-4b1a-b038-24e638ef552e",
   "metadata": {},
   "outputs": [
    {
     "data": {
      "text/plain": [
       "array([[0., 0., 0., 0.],\n",
       "       [1., 1., 1., 1.],\n",
       "       [2., 2., 2., 2.],\n",
       "       [3., 3., 3., 3.],\n",
       "       [4., 4., 4., 4.],\n",
       "       [5., 5., 5., 5.],\n",
       "       [6., 6., 6., 6.],\n",
       "       [7., 7., 7., 7.]])"
      ]
     },
     "execution_count": 11,
     "metadata": {},
     "output_type": "execute_result"
    }
   ],
   "source": [
    "arr"
   ]
  },
  {
   "cell_type": "code",
   "execution_count": 16,
   "id": "721c8bf4-0921-4076-a0e3-2c4a5fd3d0e8",
   "metadata": {},
   "outputs": [
    {
     "data": {
      "text/plain": [
       "array([[1., 1., 1., 1.],\n",
       "       [7., 7., 7., 7.],\n",
       "       [5., 5., 5., 5.]])"
      ]
     },
     "execution_count": 16,
     "metadata": {},
     "output_type": "execute_result"
    }
   ],
   "source": [
    "# To select a subset of the rows in a particular order, pass a list of integers specifying the desired order:\n",
    "\n",
    "arr[[1, 7, 5]]"
   ]
  },
  {
   "cell_type": "code",
   "execution_count": 18,
   "id": "7a774410-88a6-47a6-abcf-4ea77c309562",
   "metadata": {},
   "outputs": [
    {
     "data": {
      "text/plain": [
       "array([[1., 1., 1., 1.],\n",
       "       [7., 7., 7., 7.],\n",
       "       [5., 5., 5., 5.]])"
      ]
     },
     "execution_count": 18,
     "metadata": {},
     "output_type": "execute_result"
    }
   ],
   "source": [
    "# Negative indices selects rows from the end:\n",
    "\n",
    "arr[[-7, -1, -3]]"
   ]
  },
  {
   "cell_type": "code",
   "execution_count": 28,
   "id": "0f00a05a-9266-4f67-9c9c-c5b8d11b6c79",
   "metadata": {},
   "outputs": [
    {
     "data": {
      "text/plain": [
       "array([[ 1,  2,  3,  4,  5],\n",
       "       [ 6,  7,  8,  9, 10],\n",
       "       [11, 12, 13, 14, 15],\n",
       "       [16, 17, 18, 19, 20],\n",
       "       [21, 22, 23, 24, 25],\n",
       "       [26, 27, 28, 29, 30],\n",
       "       [31, 32, 33, 34, 35],\n",
       "       [36, 37, 38, 39, 40]])"
      ]
     },
     "execution_count": 28,
     "metadata": {},
     "output_type": "execute_result"
    }
   ],
   "source": [
    "### Making a one-dimensional array and reshaping it to 8x5:\n",
    "\n",
    "arr1 = np.arange(1, 41).reshape((8, 5))\n",
    "\n",
    "arr1"
   ]
  },
  {
   "cell_type": "code",
   "execution_count": 30,
   "id": "a813eed0-21be-42e9-926c-48f826ab5d0d",
   "metadata": {},
   "outputs": [
    {
     "data": {
      "text/plain": [
       "array([ 7, 14, 21, 28, 35])"
      ]
     },
     "execution_count": 30,
     "metadata": {},
     "output_type": "execute_result"
    }
   ],
   "source": [
    "# Passing multiple lists as index makes the 1st list as rows and 2nd as columns:\n",
    "\n",
    "arr1[[1, 2, 4, 5, 6], [1, 3, 0, 2, 4]]"
   ]
  },
  {
   "cell_type": "code",
   "execution_count": 33,
   "id": "8888719b-b15a-4747-b0f3-12bf2421d55d",
   "metadata": {},
   "outputs": [
    {
     "data": {
      "text/plain": [
       "array([[ 0,  9,  6,  8, 10],\n",
       "       [12,  0, 11, 13, 15],\n",
       "       [22, 24,  0, 23, 25],\n",
       "       [27, 29, 26,  0, 30],\n",
       "       [32, 34, 31, 33,  0]])"
      ]
     },
     "execution_count": 33,
     "metadata": {},
     "output_type": "execute_result"
    }
   ],
   "source": [
    "arr1[[1, 2, 4, 5, 6]][:, [1, 3, 0, 2, 4]]"
   ]
  },
  {
   "cell_type": "code",
   "execution_count": 32,
   "id": "542d8ca4-63ef-494e-9d24-af04fdf7280f",
   "metadata": {},
   "outputs": [
    {
     "data": {
      "text/plain": [
       "array([[ 1,  2,  3,  4,  5],\n",
       "       [ 6,  0,  8,  9, 10],\n",
       "       [11, 12, 13,  0, 15],\n",
       "       [16, 17, 18, 19, 20],\n",
       "       [ 0, 22, 23, 24, 25],\n",
       "       [26, 27,  0, 29, 30],\n",
       "       [31, 32, 33, 34,  0],\n",
       "       [36, 37, 38, 39, 40]])"
      ]
     },
     "execution_count": 32,
     "metadata": {},
     "output_type": "execute_result"
    }
   ],
   "source": [
    "# Makes changes to the og array:\n",
    "\n",
    "arr1[[1, 2, 4, 5, 6], [1, 3, 0, 2, 4]] = 0\n",
    "\n",
    "arr1"
   ]
  },
  {
   "cell_type": "markdown",
   "id": "3b9c2c4e-0801-42a0-979a-cab909dcdd8f",
   "metadata": {},
   "source": [
    "### Transposing Arrays and Swapping Axes"
   ]
  },
  {
   "cell_type": "code",
   "execution_count": 36,
   "id": "bb6cf727-694e-42d0-a948-8afc891feb32",
   "metadata": {},
   "outputs": [
    {
     "data": {
      "text/plain": [
       "array([[ 1,  2,  3,  4,  5],\n",
       "       [ 6,  7,  8,  9, 10],\n",
       "       [11, 12, 13, 14, 15]])"
      ]
     },
     "execution_count": 36,
     "metadata": {},
     "output_type": "execute_result"
    }
   ],
   "source": [
    "arr = np.arange(1, 16).reshape((3, 5))\n",
    "\n",
    "arr"
   ]
  },
  {
   "cell_type": "code",
   "execution_count": 43,
   "id": "6439d7c3-2fc6-48d4-9908-ceb5f65e6232",
   "metadata": {},
   "outputs": [
    {
     "data": {
      "text/plain": [
       "array([[ 1,  6, 11],\n",
       "       [ 2,  7, 12],\n",
       "       [ 3,  8, 13],\n",
       "       [ 4,  9, 14],\n",
       "       [ 5, 10, 15]])"
      ]
     },
     "execution_count": 43,
     "metadata": {},
     "output_type": "execute_result"
    }
   ],
   "source": [
    "# Arrays have the transpose method and the special T attribute:\n",
    "# Also a view and not a copy:\n",
    "\n",
    "arr.T"
   ]
  },
  {
   "cell_type": "code",
   "execution_count": 44,
   "id": "37e1326a-faee-4ddc-8721-31e48f445996",
   "metadata": {},
   "outputs": [
    {
     "data": {
      "text/plain": [
       "array([[ 0,  1,  0],\n",
       "       [ 1,  2, -2],\n",
       "       [ 6,  3,  2],\n",
       "       [-1,  0, -1],\n",
       "       [ 1,  0,  1]])"
      ]
     },
     "execution_count": 44,
     "metadata": {},
     "output_type": "execute_result"
    }
   ],
   "source": [
    "arr1 = np.array([[0, 1, 0], [1, 2, -2], [6, 3, 2], [-1, 0, -1], [1, 0, 1]])\n",
    "\n",
    "arr1"
   ]
  },
  {
   "cell_type": "code",
   "execution_count": 48,
   "id": "8030dd81-d8ba-4c5a-928e-278158b4bc02",
   "metadata": {},
   "outputs": [
    {
     "data": {
      "text/plain": [
       "array([[39, 20, 12],\n",
       "       [20, 14,  2],\n",
       "       [12,  2, 10]])"
      ]
     },
     "execution_count": 48,
     "metadata": {},
     "output_type": "execute_result"
    }
   ],
   "source": [
    "# For matrix multiplication, the no. of columns of 1st matrix == no. rows of the 2nd matrix:\n",
    "# Computing the inner matrix product using numpy.dot:\n",
    "\n",
    "np.dot(arr1.T, arr1)"
   ]
  },
  {
   "cell_type": "code",
   "execution_count": 49,
   "id": "2dd350d4-59ab-458d-bab1-e4aa1b87920d",
   "metadata": {},
   "outputs": [
    {
     "data": {
      "text/plain": [
       "array([[39, 20, 12],\n",
       "       [20, 14,  2],\n",
       "       [12,  2, 10]])"
      ]
     },
     "execution_count": 49,
     "metadata": {},
     "output_type": "execute_result"
    }
   ],
   "source": [
    "# Another way:\n",
    "\n",
    "arr1.T @ arr1"
   ]
  },
  {
   "cell_type": "code",
   "execution_count": 50,
   "id": "b2561996-069b-4d35-9b32-2e9976cecd6f",
   "metadata": {},
   "outputs": [
    {
     "data": {
      "text/plain": [
       "array([[39, 20, 12],\n",
       "       [20, 14,  2],\n",
       "       [12,  2, 10]])"
      ]
     },
     "execution_count": 50,
     "metadata": {},
     "output_type": "execute_result"
    }
   ],
   "source": [
    "# Another way:\n",
    "\n",
    "np.matmul(arr1.T, arr1)"
   ]
  },
  {
   "cell_type": "code",
   "execution_count": 52,
   "id": "bd3ab9e1-cb52-4a96-be22-b087fcf640c1",
   "metadata": {},
   "outputs": [
    {
     "data": {
      "text/plain": [
       "array([[ 0,  1,  0],\n",
       "       [ 1,  2, -2],\n",
       "       [ 6,  3,  2],\n",
       "       [-1,  0, -1],\n",
       "       [ 1,  0,  1]])"
      ]
     },
     "execution_count": 52,
     "metadata": {},
     "output_type": "execute_result"
    }
   ],
   "source": [
    "arr1"
   ]
  },
  {
   "cell_type": "code",
   "execution_count": 54,
   "id": "b3ba8954-9b47-40da-9759-dd6f3ee6fe71",
   "metadata": {},
   "outputs": [
    {
     "data": {
      "text/plain": [
       "array([[ 1,  6, 11],\n",
       "       [ 2,  7, 12],\n",
       "       [ 3,  8, 13],\n",
       "       [ 4,  9, 14],\n",
       "       [ 5, 10, 15]])"
      ]
     },
     "execution_count": 54,
     "metadata": {},
     "output_type": "execute_result"
    }
   ],
   "source": [
    "# This method also returns a view without making a copy:\n",
    "\n",
    "arr.swapaxes(0, 1)"
   ]
  },
  {
   "cell_type": "markdown",
   "id": "bff880aa-d96f-427f-b4a2-93807dafc03a",
   "metadata": {},
   "source": [
    "## 4.2 Pseudorandom Number Generation"
   ]
  },
  {
   "cell_type": "code",
   "execution_count": 55,
   "id": "ed914ef8-4c34-4b7d-b74a-c26bafc7a0e3",
   "metadata": {},
   "outputs": [
    {
     "data": {
      "text/plain": [
       "array([[ 1.92020621,  0.36721892, -1.04653288,  1.1850436 ],\n",
       "       [-1.41193332,  0.94231519,  1.05908916,  0.62708017],\n",
       "       [ 0.74747436,  0.32796956, -0.14046924, -0.54684167],\n",
       "       [ 0.79574056,  1.19640085, -0.94953727, -0.42564512]])"
      ]
     },
     "execution_count": 55,
     "metadata": {},
     "output_type": "execute_result"
    }
   ],
   "source": [
    "# 4×4 array of samples from the standard normal distribution:\n",
    "\n",
    "np.random.standard_normal(size=(4,4))"
   ]
  },
  {
   "cell_type": "code",
   "execution_count": 56,
   "id": "d84647bf-64c9-4e99-8c3d-0c8cd37d03f1",
   "metadata": {},
   "outputs": [],
   "source": [
    "# numpy.random is again faster than bulit-in Python random:\n",
    "\n",
    "from random import normalvariate\n",
    "\n",
    "N = 1_000_000"
   ]
  },
  {
   "cell_type": "code",
   "execution_count": 58,
   "id": "e9d27c2c-e279-473c-aaef-128661fbf5fa",
   "metadata": {},
   "outputs": [
    {
     "name": "stdout",
     "output_type": "stream",
     "text": [
      "992 ms ± 11.6 ms per loop (mean ± std. dev. of 7 runs, 1 loop each)\n"
     ]
    }
   ],
   "source": [
    "%timeit [normalvariate(0, 1) for _ in range(N)]"
   ]
  },
  {
   "cell_type": "code",
   "execution_count": 59,
   "id": "db8a1dc7-a163-4321-8adf-ea912e9545ae",
   "metadata": {},
   "outputs": [
    {
     "name": "stdout",
     "output_type": "stream",
     "text": [
      "42.1 ms ± 1.6 ms per loop (mean ± std. dev. of 7 runs, 10 loops each)\n"
     ]
    }
   ],
   "source": [
    "%timeit np.random.standard_normal(N)"
   ]
  },
  {
   "cell_type": "code",
   "execution_count": 34,
   "id": "dc3e5225-3394-4c2c-97f7-111ccd86337d",
   "metadata": {},
   "outputs": [],
   "source": [
    "# These random numbers are not truly random (rather, pseudorandom) but instead are generated by a random number generator\n",
    "# but your code can be configured to use an explicit generator:\n",
    "\n",
    "rng = np.random.default_rng(seed=12345)\n",
    "\n",
    "# Drawing samples from a standard normal distribution (there are sereval other distributions too):\n",
    "\n",
    "data = rng.standard_normal((2, 3))"
   ]
  },
  {
   "cell_type": "code",
   "execution_count": 63,
   "id": "a2ab0e95-985a-489c-8596-ad582c401f44",
   "metadata": {},
   "outputs": [
    {
     "data": {
      "text/plain": [
       "array([[-1.42382504,  1.26372846, -0.87066174],\n",
       "       [-0.25917323, -0.07534331, -0.74088465]])"
      ]
     },
     "execution_count": 63,
     "metadata": {},
     "output_type": "execute_result"
    }
   ],
   "source": [
    "# Provides a better estimate at random than numpy:\n",
    "\n",
    "data"
   ]
  },
  {
   "cell_type": "code",
   "execution_count": 92,
   "id": "ea4278c7-6c3a-48c8-b2a2-96b081afde12",
   "metadata": {},
   "outputs": [
    {
     "data": {
      "text/plain": [
       "numpy.random._generator.Generator"
      ]
     },
     "execution_count": 92,
     "metadata": {},
     "output_type": "execute_result"
    }
   ],
   "source": [
    "type(rng)"
   ]
  },
  {
   "cell_type": "code",
   "execution_count": 90,
   "id": "298a0db1-22f2-4814-b3fa-2852ebaabb17",
   "metadata": {},
   "outputs": [],
   "source": [
    "perm_arr = [1, 3, 5, 7, 9]\n",
    "\n",
    "shuff_arr = [1, 3, 5, 7, 9]"
   ]
  },
  {
   "cell_type": "code",
   "execution_count": 104,
   "id": "31ba0aee-16db-4369-962e-1400cea47ee2",
   "metadata": {},
   "outputs": [
    {
     "data": {
      "text/plain": [
       "array([1, 9, 7, 5, 3])"
      ]
     },
     "execution_count": 104,
     "metadata": {},
     "output_type": "execute_result"
    }
   ],
   "source": [
    "# The permutation() returns a re-arranged array and leaves the original array un-changed:\n",
    "\n",
    "rng.permutation(perm_arr)"
   ]
  },
  {
   "cell_type": "code",
   "execution_count": 105,
   "id": "5d6a7a3d-e6c7-4ff6-8fc1-95a602b2d151",
   "metadata": {},
   "outputs": [],
   "source": [
    "# The shuffle() method makes changes to the original array:\n",
    "\n",
    "rng.shuffle(shuff_arr)"
   ]
  },
  {
   "cell_type": "code",
   "execution_count": 146,
   "id": "10d8206d-c1a9-4a9e-9b88-a83d27334863",
   "metadata": {},
   "outputs": [
    {
     "data": {
      "text/plain": [
       "array([[ 8, 34,  9, 25, 14],\n",
       "       [11, 14, 32, 20, 11],\n",
       "       [ 7, 16, 32,  8, 20],\n",
       "       [17, 11, 27, 20, 10],\n",
       "       [34, 28, 20, 18, 23]])"
      ]
     },
     "execution_count": 146,
     "metadata": {},
     "output_type": "execute_result"
    }
   ],
   "source": [
    "# Random integers:\n",
    "\n",
    "rng.integers(7, 35, size=(5, 5))"
   ]
  },
  {
   "cell_type": "markdown",
   "id": "f177407d-ae86-4213-9ef5-b0b1cbfc7a36",
   "metadata": {},
   "source": [
    "## 4.3 Universal Functions: Fast Element-Wise Array Functions"
   ]
  },
  {
   "cell_type": "code",
   "execution_count": 151,
   "id": "39d1837a-797d-47ad-857d-7e1de744360e",
   "metadata": {},
   "outputs": [
    {
     "data": {
      "text/plain": [
       "array([ 1,  2,  3,  4,  5,  6,  7,  8,  9, 10])"
      ]
     },
     "execution_count": 151,
     "metadata": {},
     "output_type": "execute_result"
    }
   ],
   "source": [
    "# ufunc is a function that performs element-wise operations on data in ndarrays:\n",
    "\n",
    "arr = np.arange(1, 11)\n",
    "\n",
    "arr"
   ]
  },
  {
   "cell_type": "code",
   "execution_count": 159,
   "id": "f3479415-b586-4a30-9d5d-c852dbb15477",
   "metadata": {},
   "outputs": [
    {
     "data": {
      "text/plain": [
       "array([  1,   4,   9,  16,  25,  36,  49,  64,  81, 100])"
      ]
     },
     "execution_count": 159,
     "metadata": {},
     "output_type": "execute_result"
    }
   ],
   "source": [
    "# Unary (single) ufuncs perform simple element-wise transformations:\n",
    "\n",
    "np.square(arr)"
   ]
  },
  {
   "cell_type": "code",
   "execution_count": 155,
   "id": "07af3ff4-1395-4193-ae80-9d31cd4df204",
   "metadata": {},
   "outputs": [
    {
     "data": {
      "text/plain": [
       "array([1.        , 1.41421356, 1.73205081, 2.        , 2.23606798,\n",
       "       2.44948974, 2.64575131, 2.82842712, 3.        , 3.16227766])"
      ]
     },
     "execution_count": 155,
     "metadata": {},
     "output_type": "execute_result"
    }
   ],
   "source": [
    "np.sqrt(arr)"
   ]
  },
  {
   "cell_type": "code",
   "execution_count": 158,
   "id": "dfaa3fc0-1d34-4d11-97f7-ae6e1ac519da",
   "metadata": {},
   "outputs": [
    {
     "data": {
      "text/plain": [
       "array([2.71828183e+00, 7.38905610e+00, 2.00855369e+01, 5.45981500e+01,\n",
       "       1.48413159e+02, 4.03428793e+02, 1.09663316e+03, 2.98095799e+03,\n",
       "       8.10308393e+03, 2.20264658e+04])"
      ]
     },
     "execution_count": 158,
     "metadata": {},
     "output_type": "execute_result"
    }
   ],
   "source": [
    "# Computes the exponential of all elements:\n",
    "\n",
    "np.exp(arr)"
   ]
  },
  {
   "cell_type": "code",
   "execution_count": 163,
   "id": "1ec64c05-0255-4899-b206-5c2efbe07ef1",
   "metadata": {},
   "outputs": [],
   "source": [
    "# Binary (double) ufucns take two arrays and return a single array:\n",
    "\n",
    "x = rng.standard_normal(8)\n",
    "\n",
    "y = rng.standard_normal(8)"
   ]
  },
  {
   "cell_type": "code",
   "execution_count": 164,
   "id": "ed4015f0-161d-4782-a54a-1362499c89d3",
   "metadata": {},
   "outputs": [
    {
     "data": {
      "text/plain": [
       "array([-0.45131364,  1.08619096, -0.64608539, -1.34019998, -0.14230889,\n",
       "        0.44858437,  0.68578851, -1.76697479])"
      ]
     },
     "execution_count": 164,
     "metadata": {},
     "output_type": "execute_result"
    }
   ],
   "source": [
    "np.add(x, y)"
   ]
  },
  {
   "cell_type": "code",
   "execution_count": 165,
   "id": "d42b982d-41cf-494a-a565-081200ac1670",
   "metadata": {},
   "outputs": [
    {
     "data": {
      "text/plain": [
       "array([ 2.00603633,  0.57107543, -1.27189123, -1.0785766 , -2.68227513,\n",
       "        0.63450929,  0.81809028,  0.44945415])"
      ]
     },
     "execution_count": 165,
     "metadata": {},
     "output_type": "execute_result"
    }
   ],
   "source": [
    "np.subtract(x, y)"
   ]
  },
  {
   "cell_type": "code",
   "execution_count": 166,
   "id": "2c638107-a728-4248-8bd4-98119f044444",
   "metadata": {},
   "outputs": [
    {
     "data": {
      "text/plain": [
       "array([ 0.77736134,  0.8286332 ,  0.31290292, -0.13081169,  1.26998312,\n",
       "        0.54154683,  0.7519394 , -0.65876032])"
      ]
     },
     "execution_count": 166,
     "metadata": {},
     "output_type": "execute_result"
    }
   ],
   "source": [
    "np.maximum(x, y)"
   ]
  },
  {
   "cell_type": "code",
   "execution_count": 173,
   "id": "aec351c3-f271-45ef-a172-c4a8b61138f3",
   "metadata": {},
   "outputs": [
    {
     "data": {
      "text/plain": [
       "array([ 2.68360485,  3.09175007, -3.97508728,  1.50015473, -8.01350796,\n",
       "        1.33399415, -6.30811891])"
      ]
     },
     "execution_count": 173,
     "metadata": {},
     "output_type": "execute_result"
    }
   ],
   "source": [
    "# While not common, a ufunc can return multiple arrays:\n",
    "# It returns the fractional and integral parts of a floating-point array:\n",
    "\n",
    "arr = rng.standard_normal(7) * 5\n",
    "\n",
    "arr"
   ]
  },
  {
   "cell_type": "code",
   "execution_count": 169,
   "id": "3a1332c5-4ae9-471b-8acc-f48c4cbbe233",
   "metadata": {},
   "outputs": [],
   "source": [
    "remainder, whole_part = np.modf(arr)"
   ]
  },
  {
   "cell_type": "code",
   "execution_count": 170,
   "id": "be72ba6c-6220-4ee6-a26f-ba00f179c2b1",
   "metadata": {},
   "outputs": [
    {
     "data": {
      "text/plain": [
       "array([0.67978425, 0.73538882, 0.3057201 , 0.354573  , 0.16827269,\n",
       "       0.3874183 , 0.65126193])"
      ]
     },
     "execution_count": 170,
     "metadata": {},
     "output_type": "execute_result"
    }
   ],
   "source": [
    "remainder"
   ]
  },
  {
   "cell_type": "code",
   "execution_count": 171,
   "id": "d3e32963-d17b-47b5-83ab-d724b9b3b56e",
   "metadata": {},
   "outputs": [
    {
     "data": {
      "text/plain": [
       "array([0., 6., 0., 0., 2., 1., 2.])"
      ]
     },
     "execution_count": 171,
     "metadata": {},
     "output_type": "execute_result"
    }
   ],
   "source": [
    "whole_part"
   ]
  },
  {
   "cell_type": "code",
   "execution_count": 179,
   "id": "999b77d0-51d2-4ce3-8e64-d328947f4267",
   "metadata": {},
   "outputs": [
    {
     "data": {
      "text/plain": [
       "array([ 2.68360485,  3.09175007, -3.97508728,  1.50015473, -8.01350796,\n",
       "        1.33399415, -6.30811891])"
      ]
     },
     "execution_count": 179,
     "metadata": {},
     "output_type": "execute_result"
    }
   ],
   "source": [
    "arr"
   ]
  },
  {
   "cell_type": "code",
   "execution_count": 177,
   "id": "d15265c4-a6da-43f2-a981-92c046980369",
   "metadata": {},
   "outputs": [
    {
     "data": {
      "text/plain": [
       "array([0., 0., 0., 0., 0., 0., 0.])"
      ]
     },
     "execution_count": 177,
     "metadata": {},
     "output_type": "execute_result"
    }
   ],
   "source": [
    "out = np.zeros_like(arr)\n",
    "\n",
    "out"
   ]
  },
  {
   "cell_type": "code",
   "execution_count": 182,
   "id": "c84ec11a-2e3d-4e47-95f1-16260f828472",
   "metadata": {},
   "outputs": [
    {
     "data": {
      "text/plain": [
       "array([ 3.68360485,  4.09175007, -2.97508728,  2.50015473, -7.01350796,\n",
       "        2.33399415, -5.30811891])"
      ]
     },
     "execution_count": 182,
     "metadata": {},
     "output_type": "execute_result"
    }
   ],
   "source": [
    "# The \"out\" argument helps assign the results into an existing array rather than create one:\n",
    " \n",
    "np.add(arr, 1, out=out)"
   ]
  },
  {
   "cell_type": "code",
   "execution_count": 184,
   "id": "96d83e2c-d0f3-4a25-b557-dd9994927188",
   "metadata": {},
   "outputs": [
    {
     "data": {
      "text/plain": [
       "array([ 3.68360485,  4.09175007, -2.97508728,  2.50015473, -7.01350796,\n",
       "        2.33399415, -5.30811891])"
      ]
     },
     "execution_count": 184,
     "metadata": {},
     "output_type": "execute_result"
    }
   ],
   "source": [
    "out"
   ]
  },
  {
   "cell_type": "markdown",
   "id": "15eff4d9-02c9-4344-a3fd-4d90ccae7395",
   "metadata": {},
   "source": [
    "## 4.4 Array-Oriented Programming with Arrays"
   ]
  },
  {
   "cell_type": "code",
   "execution_count": 2,
   "id": "54b3bb77-1a29-4c82-aa2f-b8cb77835624",
   "metadata": {},
   "outputs": [],
   "source": [
    "point = np.arange(1, 11)"
   ]
  },
  {
   "cell_type": "code",
   "execution_count": 8,
   "id": "5b60ec44-c6c1-4b88-a92e-0c493994b731",
   "metadata": {},
   "outputs": [
    {
     "data": {
      "text/plain": [
       "(array([[ 1,  2,  3,  4,  5,  6,  7,  8,  9, 10],\n",
       "        [ 1,  2,  3,  4,  5,  6,  7,  8,  9, 10],\n",
       "        [ 1,  2,  3,  4,  5,  6,  7,  8,  9, 10],\n",
       "        [ 1,  2,  3,  4,  5,  6,  7,  8,  9, 10],\n",
       "        [ 1,  2,  3,  4,  5,  6,  7,  8,  9, 10],\n",
       "        [ 1,  2,  3,  4,  5,  6,  7,  8,  9, 10],\n",
       "        [ 1,  2,  3,  4,  5,  6,  7,  8,  9, 10],\n",
       "        [ 1,  2,  3,  4,  5,  6,  7,  8,  9, 10],\n",
       "        [ 1,  2,  3,  4,  5,  6,  7,  8,  9, 10],\n",
       "        [ 1,  2,  3,  4,  5,  6,  7,  8,  9, 10]]),\n",
       " array([[ 1,  1,  1,  1,  1,  1,  1,  1,  1,  1],\n",
       "        [ 2,  2,  2,  2,  2,  2,  2,  2,  2,  2],\n",
       "        [ 3,  3,  3,  3,  3,  3,  3,  3,  3,  3],\n",
       "        [ 4,  4,  4,  4,  4,  4,  4,  4,  4,  4],\n",
       "        [ 5,  5,  5,  5,  5,  5,  5,  5,  5,  5],\n",
       "        [ 6,  6,  6,  6,  6,  6,  6,  6,  6,  6],\n",
       "        [ 7,  7,  7,  7,  7,  7,  7,  7,  7,  7],\n",
       "        [ 8,  8,  8,  8,  8,  8,  8,  8,  8,  8],\n",
       "        [ 9,  9,  9,  9,  9,  9,  9,  9,  9,  9],\n",
       "        [10, 10, 10, 10, 10, 10, 10, 10, 10, 10]]))"
      ]
     },
     "execution_count": 8,
     "metadata": {},
     "output_type": "execute_result"
    }
   ],
   "source": [
    "np.meshgrid(point, point)"
   ]
  },
  {
   "cell_type": "code",
   "execution_count": 6,
   "id": "8314a3f0-a6d2-4990-b5b6-9c51459c4746",
   "metadata": {},
   "outputs": [
    {
     "data": {
      "text/plain": [
       "1"
      ]
     },
     "execution_count": 6,
     "metadata": {},
     "output_type": "execute_result"
    }
   ],
   "source": [
    "point.ndim"
   ]
  },
  {
   "cell_type": "code",
   "execution_count": 4,
   "id": "9334ac16-d89f-4877-bf46-2a4a8ff103c7",
   "metadata": {},
   "outputs": [
    {
     "data": {
      "text/plain": [
       "array([-5.00000000e+00, -4.90000000e+00, -4.80000000e+00, -4.70000000e+00,\n",
       "       -4.60000000e+00, -4.50000000e+00, -4.40000000e+00, -4.30000000e+00,\n",
       "       -4.20000000e+00, -4.10000000e+00, -4.00000000e+00, -3.90000000e+00,\n",
       "       -3.80000000e+00, -3.70000000e+00, -3.60000000e+00, -3.50000000e+00,\n",
       "       -3.40000000e+00, -3.30000000e+00, -3.20000000e+00, -3.10000000e+00,\n",
       "       -3.00000000e+00, -2.90000000e+00, -2.80000000e+00, -2.70000000e+00,\n",
       "       -2.60000000e+00, -2.50000000e+00, -2.40000000e+00, -2.30000000e+00,\n",
       "       -2.20000000e+00, -2.10000000e+00, -2.00000000e+00, -1.90000000e+00,\n",
       "       -1.80000000e+00, -1.70000000e+00, -1.60000000e+00, -1.50000000e+00,\n",
       "       -1.40000000e+00, -1.30000000e+00, -1.20000000e+00, -1.10000000e+00,\n",
       "       -1.00000000e+00, -9.00000000e-01, -8.00000000e-01, -7.00000000e-01,\n",
       "       -6.00000000e-01, -5.00000000e-01, -4.00000000e-01, -3.00000000e-01,\n",
       "       -2.00000000e-01, -1.00000000e-01, -1.77635684e-14,  1.00000000e-01,\n",
       "        2.00000000e-01,  3.00000000e-01,  4.00000000e-01,  5.00000000e-01,\n",
       "        6.00000000e-01,  7.00000000e-01,  8.00000000e-01,  9.00000000e-01,\n",
       "        1.00000000e+00,  1.10000000e+00,  1.20000000e+00,  1.30000000e+00,\n",
       "        1.40000000e+00,  1.50000000e+00,  1.60000000e+00,  1.70000000e+00,\n",
       "        1.80000000e+00,  1.90000000e+00,  2.00000000e+00,  2.10000000e+00,\n",
       "        2.20000000e+00,  2.30000000e+00,  2.40000000e+00,  2.50000000e+00,\n",
       "        2.60000000e+00,  2.70000000e+00,  2.80000000e+00,  2.90000000e+00,\n",
       "        3.00000000e+00,  3.10000000e+00,  3.20000000e+00,  3.30000000e+00,\n",
       "        3.40000000e+00,  3.50000000e+00,  3.60000000e+00,  3.70000000e+00,\n",
       "        3.80000000e+00,  3.90000000e+00,  4.00000000e+00,  4.10000000e+00,\n",
       "        4.20000000e+00,  4.30000000e+00,  4.40000000e+00,  4.50000000e+00,\n",
       "        4.60000000e+00,  4.70000000e+00,  4.80000000e+00,  4.90000000e+00])"
      ]
     },
     "execution_count": 4,
     "metadata": {},
     "output_type": "execute_result"
    }
   ],
   "source": [
    "points = np.arange(-5, 5, 0.1)    # 100 equally spaced points\n",
    "\n",
    "points"
   ]
  },
  {
   "cell_type": "code",
   "execution_count": 9,
   "id": "6f7bed26-0ed5-48f1-89d6-b2070186d3ac",
   "metadata": {},
   "outputs": [],
   "source": [
    "xs, ys = np.meshgrid(points, points)"
   ]
  },
  {
   "cell_type": "code",
   "execution_count": 12,
   "id": "8e38e60b-0659-4585-8396-41e5bef55d04",
   "metadata": {},
   "outputs": [
    {
     "data": {
      "text/plain": [
       "array([[-5. , -4.9, -4.8, ...,  4.7,  4.8,  4.9],\n",
       "       [-5. , -4.9, -4.8, ...,  4.7,  4.8,  4.9],\n",
       "       [-5. , -4.9, -4.8, ...,  4.7,  4.8,  4.9],\n",
       "       ...,\n",
       "       [-5. , -4.9, -4.8, ...,  4.7,  4.8,  4.9],\n",
       "       [-5. , -4.9, -4.8, ...,  4.7,  4.8,  4.9],\n",
       "       [-5. , -4.9, -4.8, ...,  4.7,  4.8,  4.9]])"
      ]
     },
     "execution_count": 12,
     "metadata": {},
     "output_type": "execute_result"
    }
   ],
   "source": [
    "# xs contains the x-coordinates across the rows:\n",
    "\n",
    "xs"
   ]
  },
  {
   "cell_type": "code",
   "execution_count": 13,
   "id": "6b873afc-cbce-4c35-9bab-27ef7a045b2d",
   "metadata": {},
   "outputs": [
    {
     "data": {
      "text/plain": [
       "array([[-5. , -5. , -5. , ..., -5. , -5. , -5. ],\n",
       "       [-4.9, -4.9, -4.9, ..., -4.9, -4.9, -4.9],\n",
       "       [-4.8, -4.8, -4.8, ..., -4.8, -4.8, -4.8],\n",
       "       ...,\n",
       "       [ 4.7,  4.7,  4.7, ...,  4.7,  4.7,  4.7],\n",
       "       [ 4.8,  4.8,  4.8, ...,  4.8,  4.8,  4.8],\n",
       "       [ 4.9,  4.9,  4.9, ...,  4.9,  4.9,  4.9]])"
      ]
     },
     "execution_count": 13,
     "metadata": {},
     "output_type": "execute_result"
    }
   ],
   "source": [
    "# ys contains the y-coordinates across the columns:\n",
    "\n",
    "ys"
   ]
  },
  {
   "cell_type": "code",
   "execution_count": 195,
   "id": "bfbfbb3e-4e2d-4872-a0b1-5b903fe5a374",
   "metadata": {},
   "outputs": [
    {
     "data": {
      "text/plain": [
       "array([[7.07106781, 7.00071425, 6.93108938, ..., 6.86221539, 6.93108938,\n",
       "        7.00071425],\n",
       "       [7.00071425, 6.92964646, 6.85930026, ..., 6.78969808, 6.85930026,\n",
       "        6.92964646],\n",
       "       [6.93108938, 6.85930026, 6.7882251 , ..., 6.71788657, 6.7882251 ,\n",
       "        6.85930026],\n",
       "       ...,\n",
       "       [6.86221539, 6.78969808, 6.71788657, ..., 6.64680374, 6.71788657,\n",
       "        6.78969808],\n",
       "       [6.93108938, 6.85930026, 6.7882251 , ..., 6.71788657, 6.7882251 ,\n",
       "        6.85930026],\n",
       "       [7.00071425, 6.92964646, 6.85930026, ..., 6.78969808, 6.85930026,\n",
       "        6.92964646]])"
      ]
     },
     "execution_count": 195,
     "metadata": {},
     "output_type": "execute_result"
    }
   ],
   "source": [
    "z = np.sqrt(xs ** 2 + ys ** 2)\n",
    "\n",
    "z"
   ]
  },
  {
   "cell_type": "code",
   "execution_count": 196,
   "id": "67146ce6-d8ff-4497-a38d-420e9037c242",
   "metadata": {},
   "outputs": [],
   "source": [
    "import matplotlib.pyplot as plt"
   ]
  },
  {
   "cell_type": "code",
   "execution_count": 202,
   "id": "28342b8a-dde3-45a9-89af-0d083f06d96e",
   "metadata": {},
   "outputs": [
    {
     "name": "stderr",
     "output_type": "stream",
     "text": [
      "<>:3: SyntaxWarning: invalid escape sequence '\\s'\n",
      "<>:3: SyntaxWarning: invalid escape sequence '\\s'\n",
      "C:\\Users\\Saroj\\AppData\\Local\\Temp\\ipykernel_81068\\482495642.py:3: SyntaxWarning: invalid escape sequence '\\s'\n",
      "  plt.title(\"Image plot of $\\sqrt{x^2 + y^2}$ for a grid of values\")\n"
     ]
    },
    {
     "data": {
      "image/png": "[encoded data removed]",
      "text/plain": [
       "<Figure size 640x480 with 2 Axes>"
      ]
     },
     "metadata": {},
     "output_type": "display_data"
    }
   ],
   "source": [
    "plt.imshow(z, cmap=plt.cm.gray, extent=[-5, 5, -5, 5])\n",
    "plt.colorbar()\n",
    "plt.title(\"Image plot of $\\sqrt{x^2 + y^2}$ for a grid of values\")\n",
    "plt.show()\n",
    "plt.close(\"all\")"
   ]
  },
  {
   "cell_type": "markdown",
   "id": "92a612e4-f839-4aa6-954a-9cae8dfd9ba7",
   "metadata": {},
   "source": [
    "### Expressing Conditional Logic as Array Operations"
   ]
  },
  {
   "cell_type": "code",
   "execution_count": 14,
   "id": "0a01ea11-827b-4edd-ba54-a632759d3245",
   "metadata": {},
   "outputs": [],
   "source": [
    "# The numpy.where function is a vectorized version of the ternary expression x if condition else y:\n",
    "\n",
    "xarr = np.array([1.1, 1.2, 1.3, 1.4, 1.5])\n",
    "\n",
    "yarr = np.array([2.1, 2.2, 2.3, 2.4, 2.5])\n",
    "\n",
    "cond = np.array([True, False, True, True, False])"
   ]
  },
  {
   "cell_type": "code",
   "execution_count": 16,
   "id": "011780f6-1b1a-4f25-9b2b-6c1313e5d2c0",
   "metadata": {},
   "outputs": [
    {
     "data": {
      "text/plain": [
       "array([1.1, 2.2, 1.3, 1.4, 2.5])"
      ]
     },
     "execution_count": 16,
     "metadata": {},
     "output_type": "execute_result"
    }
   ],
   "source": [
    "# Suppose we want to take values from \"xarr\" when there's a True and else (False) take values from \"yarr\":\n",
    "\n",
    "np.where(cond, xarr, yarr)"
   ]
  },
  {
   "cell_type": "code",
   "execution_count": 25,
   "id": "97f41b02-5fa3-4238-b059-9a530001ceb4",
   "metadata": {},
   "outputs": [
    {
     "data": {
      "text/plain": [
       "array([[-1.06364272,  1.3017145 ,  0.74787294,  0.98087591],\n",
       "       [-0.11041869,  0.46791853,  0.89060715,  1.02300937],\n",
       "       [ 0.31238339, -0.06190469, -0.35947965, -0.74864398],\n",
       "       [-0.96547891,  0.36003466, -0.24455253, -1.99585661]])"
      ]
     },
     "execution_count": 25,
     "metadata": {},
     "output_type": "execute_result"
    }
   ],
   "source": [
    "# The 2nd and 3rd arguments don’t need to be arrays; one or both of them can be scalars:\n",
    "\n",
    "# Suppose we want to replace all the +ve values with 2 and -ve values with -2:\n",
    "\n",
    "arr = rng.standard_normal((4, 4))\n",
    "\n",
    "arr"
   ]
  },
  {
   "cell_type": "code",
   "execution_count": 31,
   "id": "d9a0ff4e-57c8-479b-9ff4-b1489c6f0fe4",
   "metadata": {},
   "outputs": [
    {
     "data": {
      "text/plain": [
       "array([[-2,  2,  2,  2],\n",
       "       [-2,  2,  2,  2],\n",
       "       [ 2, -2, -2, -2],\n",
       "       [-2,  2, -2, -2]])"
      ]
     },
     "execution_count": 31,
     "metadata": {},
     "output_type": "execute_result"
    }
   ],
   "source": [
    "np.where(arr > 0, 2, -2)"
   ]
  },
  {
   "cell_type": "code",
   "execution_count": 32,
   "id": "46f475cf-9f78-428c-af0f-3d83df742eb2",
   "metadata": {},
   "outputs": [
    {
     "data": {
      "text/plain": [
       "array([[-1.06364272,  2.        ,  2.        ,  2.        ],\n",
       "       [-0.11041869,  2.        ,  2.        ,  2.        ],\n",
       "       [ 2.        , -0.06190469, -0.35947965, -0.74864398],\n",
       "       [-0.96547891,  2.        , -0.24455253, -1.99585661]])"
      ]
     },
     "execution_count": 32,
     "metadata": {},
     "output_type": "execute_result"
    }
   ],
   "source": [
    "# You can combine scalars and arrays when using numpy.where\n",
    "\n",
    "# You can also set only positve values to 2 and leave the rest:\n",
    "\n",
    "np.where(arr > 0, 2, arr)"
   ]
  },
  {
   "cell_type": "markdown",
   "id": "da91c04d-b7de-4a84-8d1c-db33419ec180",
   "metadata": {},
   "source": [
    "### Mathematical and Statistical Methods"
   ]
  },
  {
   "cell_type": "code",
   "execution_count": 43,
   "id": "3f871ebf-5d4b-4ef1-8fdc-8ccd82561c79",
   "metadata": {},
   "outputs": [
    {
     "data": {
      "text/plain": [
       "array([[-2.17088985,  0.62848817,  0.60119653,  0.95075786],\n",
       "       [-0.86924667, -0.52900707,  0.0456841 , -1.02755181],\n",
       "       [-1.2292893 , -0.88335847, -0.07089346,  0.37405335],\n",
       "       [-0.02459374,  0.07726066, -0.68391322, -0.72083767],\n",
       "       [ 1.12062282, -0.05481416, -0.08241372,  0.9359865 ]])"
      ]
     },
     "execution_count": 43,
     "metadata": {},
     "output_type": "execute_result"
    }
   ],
   "source": [
    "arr = rng.standard_normal((5,4))\n",
    "\n",
    "arr"
   ]
  },
  {
   "cell_type": "code",
   "execution_count": 44,
   "id": "ad4a24dc-1439-4dbd-8cdd-fda34aab1322",
   "metadata": {},
   "outputs": [
    {
     "data": {
      "text/plain": [
       "np.float64(-3.612759162940142)"
      ]
     },
     "execution_count": 44,
     "metadata": {},
     "output_type": "execute_result"
    }
   ],
   "source": [
    "arr.sum()"
   ]
  },
  {
   "cell_type": "code",
   "execution_count": 45,
   "id": "befe2b7b-4fc6-47cc-9bd4-a3b264069ffe",
   "metadata": {},
   "outputs": [
    {
     "data": {
      "text/plain": [
       "np.float64(0.8181051809221832)"
      ]
     },
     "execution_count": 45,
     "metadata": {},
     "output_type": "execute_result"
    }
   ],
   "source": [
    "arr.std()"
   ]
  },
  {
   "cell_type": "code",
   "execution_count": 46,
   "id": "bee5eec3-11fd-4c3d-9c99-33f984215f5c",
   "metadata": {},
   "outputs": [
    {
     "data": {
      "text/plain": [
       "np.float64(-0.1806379581470071)"
      ]
     },
     "execution_count": 46,
     "metadata": {},
     "output_type": "execute_result"
    }
   ],
   "source": [
    "arr.mean()"
   ]
  },
  {
   "cell_type": "code",
   "execution_count": 47,
   "id": "b40d4df5-a5fe-46f7-aec6-4ea440015ea7",
   "metadata": {},
   "outputs": [
    {
     "data": {
      "text/plain": [
       "np.float64(-0.06285381198142043)"
      ]
     },
     "execution_count": 47,
     "metadata": {},
     "output_type": "execute_result"
    }
   ],
   "source": [
    "np.median(arr)"
   ]
  },
  {
   "cell_type": "code",
   "execution_count": 50,
   "id": "c70bb68f-52ed-4fd0-8a2f-463189b24d0d",
   "metadata": {},
   "outputs": [
    {
     "data": {
      "text/plain": [
       "array([ 0.00238818, -0.59503036, -0.45237197, -0.33802099,  0.47984536])"
      ]
     },
     "execution_count": 50,
     "metadata": {},
     "output_type": "execute_result"
    }
   ],
   "source": [
    "# Axis 1 meaning by rows and Axis 0 meaning by columns:\n",
    "\n",
    "arr.mean(axis=1)"
   ]
  },
  {
   "cell_type": "code",
   "execution_count": 51,
   "id": "65c4d3ad-b752-474d-8a52-2634dc3aaf53",
   "metadata": {},
   "outputs": [
    {
     "data": {
      "text/plain": [
       "array([-3.17339674, -0.76143087, -0.19033978,  0.51240823])"
      ]
     },
     "execution_count": 51,
     "metadata": {},
     "output_type": "execute_result"
    }
   ],
   "source": [
    "arr.sum(axis=0)"
   ]
  },
  {
   "cell_type": "code",
   "execution_count": 57,
   "id": "e6c0b88a-a256-41fe-821c-b2c85b3f5ccd",
   "metadata": {},
   "outputs": [],
   "source": [
    "arr1 = np.array([1, 2, 3, 4, 5, 6, 7, 8, 9])"
   ]
  },
  {
   "cell_type": "code",
   "execution_count": 60,
   "id": "ed87a9b0-7d92-4bae-90e1-a9cef7bdad82",
   "metadata": {},
   "outputs": [
    {
     "data": {
      "text/plain": [
       "array([ 1,  3,  6, 10, 15, 21, 28, 36, 45])"
      ]
     },
     "execution_count": 60,
     "metadata": {},
     "output_type": "execute_result"
    }
   ],
   "source": [
    "# cumsum and cumprod do not aggregate, instead producing an array of the intermediate results:\n",
    "\n",
    "arr1.cumsum()"
   ]
  },
  {
   "cell_type": "code",
   "execution_count": 59,
   "id": "a23899d1-4fa8-4336-87d5-3522d495a966",
   "metadata": {},
   "outputs": [
    {
     "data": {
      "text/plain": [
       "array([     1,      2,      6,     24,    120,    720,   5040,  40320,\n",
       "       362880])"
      ]
     },
     "execution_count": 59,
     "metadata": {},
     "output_type": "execute_result"
    }
   ],
   "source": [
    "arr1.cumprod()"
   ]
  },
  {
   "cell_type": "code",
   "execution_count": 62,
   "id": "29240498-6108-430e-b017-e49103356077",
   "metadata": {},
   "outputs": [
    {
     "data": {
      "text/plain": [
       "array([[1, 2, 3],\n",
       "       [4, 5, 6],\n",
       "       [7, 8, 9]])"
      ]
     },
     "execution_count": 62,
     "metadata": {},
     "output_type": "execute_result"
    }
   ],
   "source": [
    "# cumsum in 2d arrays:\n",
    "\n",
    "arr2 = np.array([[1, 2, 3], [4, 5, 6], [7, 8, 9]])\n",
    "\n",
    "arr2"
   ]
  },
  {
   "cell_type": "code",
   "execution_count": 66,
   "id": "54e503fa-69c8-4fa8-9a16-2a89edabc9d5",
   "metadata": {},
   "outputs": [
    {
     "data": {
      "text/plain": [
       "array([[ 1,  2,  3],\n",
       "       [ 5,  7,  9],\n",
       "       [12, 15, 18]])"
      ]
     },
     "execution_count": 66,
     "metadata": {},
     "output_type": "execute_result"
    }
   ],
   "source": [
    "# By columns:\n",
    "\n",
    "arr2.cumsum(axis=0)"
   ]
  },
  {
   "cell_type": "code",
   "execution_count": 67,
   "id": "9319c080-e229-4639-8883-e24d6c8aede7",
   "metadata": {},
   "outputs": [
    {
     "data": {
      "text/plain": [
       "array([[ 1,  3,  6],\n",
       "       [ 4,  9, 15],\n",
       "       [ 7, 15, 24]])"
      ]
     },
     "execution_count": 67,
     "metadata": {},
     "output_type": "execute_result"
    }
   ],
   "source": [
    "# By rows:\n",
    "\n",
    "arr2.cumsum(axis=1)"
   ]
  },
  {
   "cell_type": "markdown",
   "id": "e72f4a6e-2b1c-422e-bd35-cad537914fdd",
   "metadata": {},
   "source": [
    "### Methods for Boolean Arrays"
   ]
  },
  {
   "cell_type": "code",
   "execution_count": 68,
   "id": "1c7f0b50-969f-4201-874e-0467a1c171c9",
   "metadata": {},
   "outputs": [
    {
     "data": {
      "text/plain": [
       "array([ 1.23853712,  1.27279553,  0.40589222, -0.05032522,  0.28931754,\n",
       "        0.17930568,  1.39748056,  0.29204679,  0.63840567, -0.02788771,\n",
       "        1.37105185, -2.05280763,  0.38050908,  0.75539067, -1.15912585,\n",
       "        2.15031011, -0.15027022, -0.16116428, -1.07944248,  0.87796618,\n",
       "        0.22446741, -0.59159345,  0.2262628 ,  0.68618251,  1.21500461,\n",
       "        0.21605944, -0.96482356, -0.5566078 , -2.29838764, -0.73208213,\n",
       "        0.7364691 ,  0.46571672, -0.10787605, -0.34143629,  1.58453379,\n",
       "        0.28224121,  0.90954639,  0.39507157, -0.66937652,  1.55536898,\n",
       "       -1.23813903, -1.19617346, -0.42914951, -0.72965989, -0.5574689 ,\n",
       "       -0.59995306,  0.9868272 ,  0.05419468,  0.35190744, -1.58796951,\n",
       "       -0.84695135,  1.08457026, -1.20382665,  1.17853089, -1.03066585,\n",
       "        0.29921833, -0.84623997,  0.1966203 , -0.89963782, -0.25660543,\n",
       "        1.67254777, -0.37526965,  2.03679478, -0.4587934 , -1.17576966,\n",
       "        0.0750525 , -0.40899022,  1.75653198,  0.86092307,  1.18127398,\n",
       "        0.63167017,  2.47099711,  0.79430252,  0.53135288, -0.8293986 ,\n",
       "       -0.90930383,  0.18423593,  0.99773818,  1.11695904, -0.94400054,\n",
       "        0.5314067 ,  0.193346  , -1.11826358,  0.51184558, -2.27056629,\n",
       "        0.26316355,  2.47131349, -1.0198852 ,  0.01875261, -1.89426422,\n",
       "       -0.75500166,  0.75619774, -1.04246201, -0.03425814, -0.3551683 ,\n",
       "       -0.37842837,  0.19064869,  0.48439629,  1.23026775,  0.83297062])"
      ]
     },
     "execution_count": 68,
     "metadata": {},
     "output_type": "execute_result"
    }
   ],
   "source": [
    "arr = rng.standard_normal(100)\n",
    "arr"
   ]
  },
  {
   "cell_type": "code",
   "execution_count": 73,
   "id": "54a017f1-c7c9-471c-9bed-b89bdc68a8f7",
   "metadata": {},
   "outputs": [
    {
     "data": {
      "text/plain": [
       "np.int64(56)"
      ]
     },
     "execution_count": 73,
     "metadata": {},
     "output_type": "execute_result"
    }
   ],
   "source": [
    "# The parentheses here are necessary:\n",
    "\n",
    "(arr > 0).sum()"
   ]
  },
  {
   "cell_type": "code",
   "execution_count": 74,
   "id": "94c76a6e-5bd3-4e5f-97bd-cd18acb19430",
   "metadata": {},
   "outputs": [
    {
     "data": {
      "text/plain": [
       "np.int64(44)"
      ]
     },
     "execution_count": 74,
     "metadata": {},
     "output_type": "execute_result"
    }
   ],
   "source": [
    "(arr <= 0).sum()"
   ]
  },
  {
   "cell_type": "code",
   "execution_count": 86,
   "id": "868cd947-c4e7-42a9-b099-e5514f23b8a5",
   "metadata": {},
   "outputs": [],
   "source": [
    "bools = np.array([True, True, True, True, True])\n"
   ]
  },
  {
   "cell_type": "code",
   "execution_count": 87,
   "id": "d028ff5c-18a5-4966-a72f-ee03c198d3e8",
   "metadata": {},
   "outputs": [
    {
     "data": {
      "text/plain": [
       "np.True_"
      ]
     },
     "execution_count": 87,
     "metadata": {},
     "output_type": "execute_result"
    }
   ],
   "source": [
    "# any checks whether one or more value is True:\n",
    "\n",
    "bools.any()"
   ]
  },
  {
   "cell_type": "code",
   "execution_count": 88,
   "id": "2ed5ab3e-4b1d-4323-a7a1-8f5bc71390fd",
   "metadata": {},
   "outputs": [
    {
     "data": {
      "text/plain": [
       "np.True_"
      ]
     },
     "execution_count": 88,
     "metadata": {},
     "output_type": "execute_result"
    }
   ],
   "source": [
    "# all checks whether all values are True:\n",
    "\n",
    "bools.all()"
   ]
  },
  {
   "cell_type": "code",
   "execution_count": null,
   "id": "2cf048d0-885c-412d-9c43-ec490c72c42c",
   "metadata": {},
   "outputs": [],
   "source": [
    "# These methods also work with non-Boolean arrays, where nonzero elements are treated as True."
   ]
  },
  {
   "cell_type": "markdown",
   "id": "7e0c97d8-79ff-41eb-8715-f624ea7fc0b0",
   "metadata": {},
   "source": [
    "### Sorting"
   ]
  },
  {
   "cell_type": "code",
   "execution_count": 93,
   "id": "f664f645-df41-4cd7-9631-f52ef084dd87",
   "metadata": {},
   "outputs": [
    {
     "data": {
      "text/plain": [
       "array([-0.63763575,  1.14449564, -1.64090191, -1.31400358, -0.51035251,\n",
       "       -0.09986088, -0.12950676, -1.39670506,  0.19380935, -0.12929273])"
      ]
     },
     "execution_count": 93,
     "metadata": {},
     "output_type": "execute_result"
    }
   ],
   "source": [
    "arr = rng.standard_normal(10)\n",
    "\n",
    "arr"
   ]
  },
  {
   "cell_type": "code",
   "execution_count": 95,
   "id": "7dab8458-dbf2-4542-9ebf-dc557ddc752e",
   "metadata": {},
   "outputs": [],
   "source": [
    "arr.sort()"
   ]
  },
  {
   "cell_type": "code",
   "execution_count": 96,
   "id": "ad433330-0d93-45eb-8c07-92d32394539d",
   "metadata": {},
   "outputs": [
    {
     "data": {
      "text/plain": [
       "array([-1.64090191, -1.39670506, -1.31400358, -0.63763575, -0.51035251,\n",
       "       -0.12950676, -0.12929273, -0.09986088,  0.19380935,  1.14449564])"
      ]
     },
     "execution_count": 96,
     "metadata": {},
     "output_type": "execute_result"
    }
   ],
   "source": [
    "arr"
   ]
  },
  {
   "cell_type": "code",
   "execution_count": 105,
   "id": "8d34b009-3a45-4dd8-ab5a-48a96af3a232",
   "metadata": {},
   "outputs": [
    {
     "data": {
      "text/plain": [
       "array([[-0.63090634,  0.70950138,  0.05969517],\n",
       "       [-0.77247575, -0.90623909,  1.16547928],\n",
       "       [ 0.6310474 ,  1.97551858, -0.5266552 ],\n",
       "       [-0.74354059,  0.40389057,  1.37940685],\n",
       "       [ 0.5967524 ,  0.43315307,  1.88698807]])"
      ]
     },
     "execution_count": 105,
     "metadata": {},
     "output_type": "execute_result"
    }
   ],
   "source": [
    "arr2d = rng.standard_normal((5, 3))\n",
    "\n",
    "arr2d"
   ]
  },
  {
   "cell_type": "code",
   "execution_count": 106,
   "id": "4edcc919-275f-4ae7-b5d6-224242caf3d5",
   "metadata": {},
   "outputs": [
    {
     "data": {
      "text/plain": [
       "array([[-0.63090634,  0.05969517,  0.70950138],\n",
       "       [-0.90623909, -0.77247575,  1.16547928],\n",
       "       [-0.5266552 ,  0.6310474 ,  1.97551858],\n",
       "       [-0.74354059,  0.40389057,  1.37940685],\n",
       "       [ 0.43315307,  0.5967524 ,  1.88698807]])"
      ]
     },
     "execution_count": 106,
     "metadata": {},
     "output_type": "execute_result"
    }
   ],
   "source": [
    "# By each row:\n",
    "\n",
    "arr2d.sort(axis=1)\n",
    "\n",
    "arr2d"
   ]
  },
  {
   "cell_type": "code",
   "execution_count": 104,
   "id": "d3615e00-e6e6-4602-98a5-45a1bddf0748",
   "metadata": {},
   "outputs": [
    {
     "data": {
      "text/plain": [
       "array([[-1.63251948, -1.77110716, -0.22310006],\n",
       "       [-1.20221832, -0.84569363, -0.01560552],\n",
       "       [-0.71044661,  0.36998768,  0.07226048],\n",
       "       [-0.00734697,  0.42375063,  0.32999736],\n",
       "       [ 0.47109807,  0.83107567,  1.60083585]])"
      ]
     },
     "execution_count": 104,
     "metadata": {},
     "output_type": "execute_result"
    }
   ],
   "source": [
    "# By each column:\n",
    "\n",
    "arr2d.sort(axis=0)\n",
    "\n",
    "arr2d"
   ]
  },
  {
   "cell_type": "code",
   "execution_count": 107,
   "id": "c7c2f709-ee2f-41fb-a3e1-a679c105908b",
   "metadata": {},
   "outputs": [],
   "source": [
    "arr3 = np.array([5, -10, 7, 1, 0, -3])"
   ]
  },
  {
   "cell_type": "code",
   "execution_count": 110,
   "id": "10d97457-75c6-4a7e-bfc2-8e71c5f4ce9b",
   "metadata": {},
   "outputs": [
    {
     "data": {
      "text/plain": [
       "array([-10,  -3,   0,   1,   5,   7])"
      ]
     },
     "execution_count": 110,
     "metadata": {},
     "output_type": "execute_result"
    }
   ],
   "source": [
    "# Returns a copy instead of making changes to the og array:\n",
    "\n",
    "np.sort(arr3)"
   ]
  },
  {
   "cell_type": "code",
   "execution_count": 109,
   "id": "ef5787d5-94a7-4237-952c-08413bce8fe9",
   "metadata": {},
   "outputs": [
    {
     "data": {
      "text/plain": [
       "array([  5, -10,   7,   1,   0,  -3])"
      ]
     },
     "execution_count": 109,
     "metadata": {},
     "output_type": "execute_result"
    }
   ],
   "source": [
    "arr3"
   ]
  },
  {
   "cell_type": "markdown",
   "id": "1d393824-df5c-464f-b856-51bd345fc7a1",
   "metadata": {},
   "source": [
    "### Unique and Other Set Logic"
   ]
  },
  {
   "cell_type": "code",
   "execution_count": 113,
   "id": "e3fa2a5b-3d01-463e-a334-42caea52aa89",
   "metadata": {},
   "outputs": [
    {
     "data": {
      "text/plain": [
       "array(['Bob', 'Joe', 'Will'], dtype='<U4')"
      ]
     },
     "execution_count": 113,
     "metadata": {},
     "output_type": "execute_result"
    }
   ],
   "source": [
    "# numpy.unique() similar to set sequence and it also sorts the array:\n",
    "\n",
    "names = np.array([\"Bob\", \"Will\", \"Joe\", \"Bob\", \"Will\", \"Joe\", \"Joe\"])\n",
    "\n",
    "np.unique(names)"
   ]
  },
  {
   "cell_type": "code",
   "execution_count": 112,
   "id": "3b202578-a1b1-4238-a5ce-2568988a1c2a",
   "metadata": {},
   "outputs": [
    {
     "data": {
      "text/plain": [
       "array([1, 2, 3, 4, 5])"
      ]
     },
     "execution_count": 112,
     "metadata": {},
     "output_type": "execute_result"
    }
   ],
   "source": [
    "arr = np.array([2, 1, 2, 3, 1, 2, 4, 1, 5, 5, 3])\n",
    "\n",
    "np.unique(arr)"
   ]
  },
  {
   "cell_type": "code",
   "execution_count": 117,
   "id": "27f47795-f677-4aa0-9327-b0b237fa3ce8",
   "metadata": {},
   "outputs": [
    {
     "data": {
      "text/plain": [
       "array([False, False, False,  True,  True,  True, False])"
      ]
     },
     "execution_count": 117,
     "metadata": {},
     "output_type": "execute_result"
    }
   ],
   "source": [
    "# Checks if the given list of elements are in the array:\n",
    "\n",
    "values = np.array([6, 0, 0, 3, 2, 5, 6])\n",
    "\n",
    "np.isin(values, [2, 3, 5])"
   ]
  },
  {
   "cell_type": "code",
   "execution_count": 120,
   "id": "61cf68c1-0de7-4be4-bbdc-ab91f9a145f7",
   "metadata": {},
   "outputs": [
    {
     "data": {
      "text/plain": [
       "array([ True, False, False,  True, False, False, False])"
      ]
     },
     "execution_count": 120,
     "metadata": {},
     "output_type": "execute_result"
    }
   ],
   "source": [
    "np.isin(names, \"Bob\")"
   ]
  },
  {
   "cell_type": "code",
   "execution_count": 122,
   "id": "714ad19b-110f-47ab-8eb9-a1b1302cd6e4",
   "metadata": {},
   "outputs": [
    {
     "data": {
      "text/plain": [
       "array([1, 4])"
      ]
     },
     "execution_count": 122,
     "metadata": {},
     "output_type": "execute_result"
    }
   ],
   "source": [
    "# Elements in x that are not in y:\n",
    "\n",
    "np.setdiff1d(arr, values)     # 1 & 4 are not in the values array"
   ]
  },
  {
   "cell_type": "code",
   "execution_count": 123,
   "id": "088cce65-f55c-47c5-ac17-4bcb4195a97d",
   "metadata": {},
   "outputs": [
    {
     "data": {
      "text/plain": [
       "array([0, 1, 2, 3, 4, 5, 6])"
      ]
     },
     "execution_count": 123,
     "metadata": {},
     "output_type": "execute_result"
    }
   ],
   "source": [
    "# A sorted union of arrays:\n",
    "\n",
    "np.union1d(arr, values)"
   ]
  },
  {
   "cell_type": "markdown",
   "id": "b130071c-49ad-43d3-b504-73d652b2d24a",
   "metadata": {},
   "source": [
    "## 4.5 File Input and Output with Arrays"
   ]
  },
  {
   "cell_type": "code",
   "execution_count": 3,
   "id": "5a16e930-2106-4f61-84a2-54275e653d83",
   "metadata": {},
   "outputs": [
    {
     "data": {
      "text/plain": [
       "array([ 1,  2,  3,  4,  5,  6,  7,  8,  9, 10])"
      ]
     },
     "execution_count": 3,
     "metadata": {},
     "output_type": "execute_result"
    }
   ],
   "source": [
    "arr = np.arange(1, 11)\n",
    "arr"
   ]
  },
  {
   "cell_type": "code",
   "execution_count": 6,
   "id": "6f6b3e90-1279-4dce-b151-8b85d361d51b",
   "metadata": {},
   "outputs": [],
   "source": [
    "# Extention will be written if not present:\n",
    "\n",
    "np.save(\"some_array\", arr)"
   ]
  },
  {
   "cell_type": "code",
   "execution_count": 7,
   "id": "c632823e-e4f6-473f-9a13-82a4ac2a29fe",
   "metadata": {},
   "outputs": [
    {
     "data": {
      "text/plain": [
       "array([ 1,  2,  3,  4,  5,  6,  7,  8,  9, 10])"
      ]
     },
     "execution_count": 7,
     "metadata": {},
     "output_type": "execute_result"
    }
   ],
   "source": [
    "np.load(\"some_array.npy\")"
   ]
  },
  {
   "cell_type": "code",
   "execution_count": 16,
   "id": "e6c99430-f192-422f-8c39-94cbc5bcde51",
   "metadata": {},
   "outputs": [],
   "source": [
    "# You can save multiple arrays in an uncompressed archive:\n",
    "\n",
    "np.savez(\"array_archive.npz\", a=arr, b=arr)"
   ]
  },
  {
   "cell_type": "code",
   "execution_count": 9,
   "id": "7834bb41-8240-4e62-943b-778150971ce0",
   "metadata": {},
   "outputs": [],
   "source": [
    "arch = np.load(\"array_archive.npz\")"
   ]
  },
  {
   "cell_type": "code",
   "execution_count": 15,
   "id": "b8c8a316-bf01-4a81-bb29-6360df6983c4",
   "metadata": {},
   "outputs": [
    {
     "data": {
      "text/plain": [
       "array([ 1,  2,  3,  4,  5,  6,  7,  8,  9, 10])"
      ]
     },
     "execution_count": 15,
     "metadata": {},
     "output_type": "execute_result"
    }
   ],
   "source": [
    "arch[\"b\"]"
   ]
  },
  {
   "cell_type": "code",
   "execution_count": 17,
   "id": "9bcfc98e-7f32-4ccd-912c-955c455780f5",
   "metadata": {},
   "outputs": [],
   "source": [
    "# If your data compresses well, you may wish to use numpy.savez_compressed instead:\n",
    "\n",
    "np.savez_compressed(\"array_compressed\", a=arr, b=arr)"
   ]
  },
  {
   "cell_type": "code",
   "execution_count": 20,
   "id": "58e6e608-1a47-44e2-a660-6c1061447b8b",
   "metadata": {},
   "outputs": [
    {
     "data": {
      "text/plain": [
       "array([ 1,  2,  3,  4,  5,  6,  7,  8,  9, 10])"
      ]
     },
     "execution_count": 20,
     "metadata": {},
     "output_type": "execute_result"
    }
   ],
   "source": [
    "np.load(\"array_compressed.npz\")[\"a\"]"
   ]
  },
  {
   "cell_type": "markdown",
   "id": "46d5f1f9-0034-49e0-b7ec-1aacf494ee51",
   "metadata": {},
   "source": [
    "## 4.6 Linear Algebra"
   ]
  },
  {
   "cell_type": "code",
   "execution_count": 21,
   "id": "4528ccb2-2bf2-4dd5-9cce-045addc31fca",
   "metadata": {},
   "outputs": [],
   "source": [
    "# Multiplying two 2d arrays with * is an element-wise product:\n",
    "# While matrix multiplication require using dot or @ or np.matmul()\n",
    "\n",
    "x = np.array([[1., 2., 3.], [4., 5., 6.]])\n",
    "\n",
    "y = np.array([[6., 23.], [-1, 7], [8, 9]])"
   ]
  },
  {
   "cell_type": "code",
   "execution_count": 22,
   "id": "0d2244cb-e242-4b54-87c0-af3d4187b0b4",
   "metadata": {},
   "outputs": [
    {
     "data": {
      "text/plain": [
       "array([[1., 2., 3.],\n",
       "       [4., 5., 6.]])"
      ]
     },
     "execution_count": 22,
     "metadata": {},
     "output_type": "execute_result"
    }
   ],
   "source": [
    "x"
   ]
  },
  {
   "cell_type": "code",
   "execution_count": 23,
   "id": "1a06e8e1-88d5-45da-b86c-ee0b10ad2334",
   "metadata": {},
   "outputs": [
    {
     "data": {
      "text/plain": [
       "array([[ 6., 23.],\n",
       "       [-1.,  7.],\n",
       "       [ 8.,  9.]])"
      ]
     },
     "execution_count": 23,
     "metadata": {},
     "output_type": "execute_result"
    }
   ],
   "source": [
    "y"
   ]
  },
  {
   "cell_type": "code",
   "execution_count": 30,
   "id": "f95947a1-06ec-4a73-b3a2-c9ea905ee0ea",
   "metadata": {},
   "outputs": [
    {
     "data": {
      "text/plain": [
       "array([[ 28.,  64.],\n",
       "       [ 67., 181.]])"
      ]
     },
     "execution_count": 30,
     "metadata": {},
     "output_type": "execute_result"
    }
   ],
   "source": [
    "# Matrix multiplication ways:\n",
    "\n",
    "x.dot(y)"
   ]
  },
  {
   "cell_type": "code",
   "execution_count": 25,
   "id": "8792b035-980e-4374-8306-aed18f5190f1",
   "metadata": {},
   "outputs": [
    {
     "data": {
      "text/plain": [
       "array([[ 28.,  64.],\n",
       "       [ 67., 181.]])"
      ]
     },
     "execution_count": 25,
     "metadata": {},
     "output_type": "execute_result"
    }
   ],
   "source": [
    "np.dot(x, y)"
   ]
  },
  {
   "cell_type": "code",
   "execution_count": 26,
   "id": "de034dc2-5da1-41fe-bf0f-67f939792502",
   "metadata": {},
   "outputs": [
    {
     "data": {
      "text/plain": [
       "array([[ 28.,  64.],\n",
       "       [ 67., 181.]])"
      ]
     },
     "execution_count": 26,
     "metadata": {},
     "output_type": "execute_result"
    }
   ],
   "source": [
    "x @ y"
   ]
  },
  {
   "cell_type": "code",
   "execution_count": 27,
   "id": "c637fc10-fa7b-4955-aac7-f977befed818",
   "metadata": {},
   "outputs": [
    {
     "data": {
      "text/plain": [
       "array([[ 28.,  64.],\n",
       "       [ 67., 181.]])"
      ]
     },
     "execution_count": 27,
     "metadata": {},
     "output_type": "execute_result"
    }
   ],
   "source": [
    "np.matmul(x, y)"
   ]
  },
  {
   "cell_type": "code",
   "execution_count": 32,
   "id": "9eb978f1-b6b8-4d05-a94c-6bbbc485584a",
   "metadata": {},
   "outputs": [
    {
     "data": {
      "text/plain": [
       "array([ 6., 15.])"
      ]
     },
     "execution_count": 32,
     "metadata": {},
     "output_type": "execute_result"
    }
   ],
   "source": [
    "# A matrix multiplication between a 2d array and an 1d array results is a 1d array:\n",
    "\n",
    "x @ np.ones(3)"
   ]
  },
  {
   "cell_type": "code",
   "execution_count": 40,
   "id": "39438874-a783-4d0f-8fce-c0e873fe8f11",
   "metadata": {},
   "outputs": [],
   "source": [
    "# numpy.linalg has a standard set of matrix decompositions and things like inverse and determinant:\n",
    "\n",
    "from numpy.linalg import inv, qr"
   ]
  },
  {
   "cell_type": "code",
   "execution_count": 43,
   "id": "8071b693-bb8f-4b1b-b9f2-118c170729b9",
   "metadata": {},
   "outputs": [],
   "source": [
    "X = rng.standard_normal((5, 5))"
   ]
  },
  {
   "cell_type": "code",
   "execution_count": 48,
   "id": "9ae21188-fca7-42ba-be96-e56b082ffbd4",
   "metadata": {},
   "outputs": [
    {
     "data": {
      "text/plain": [
       "array([[ 1.36463897, -1.1258452 , -1.75662358, -0.78672755,  0.66734907],\n",
       "       [-1.1258452 ,  5.06226697,  2.21809413,  1.52410124, -1.97027229],\n",
       "       [-1.75662358,  2.21809413,  3.27271226,  1.7339216 , -1.3365612 ],\n",
       "       [-0.78672755,  1.52410124,  1.7339216 ,  2.4526663 , -1.07176893],\n",
       "       [ 0.66734907, -1.97027229, -1.3365612 , -1.07176893,  2.43942952]])"
      ]
     },
     "execution_count": 48,
     "metadata": {},
     "output_type": "execute_result"
    }
   ],
   "source": [
    "# Computing the dot product of \"X\" with its transpose \"X.T\"\n",
    "\n",
    "mat = X.T @ X\n",
    "\n",
    "mat"
   ]
  },
  {
   "cell_type": "code",
   "execution_count": 45,
   "id": "5d63f4e4-dc85-4eac-8fd2-772c6add0cb1",
   "metadata": {},
   "outputs": [
    {
     "data": {
      "text/plain": [
       "array([[ 0.8286332 , -0.95898831, -1.20938829, -1.41229201,  0.54154683],\n",
       "       [ 0.7519394 , -0.65876032, -1.22867499,  0.25755777,  0.31290292],\n",
       "       [-0.13081169,  1.26998312, -0.09296246, -0.06615089, -1.10821447],\n",
       "       [ 0.13595685,  1.34707776,  0.06114402,  0.0709146 ,  0.43365454],\n",
       "       [ 0.27748366,  0.53025239,  0.53672097,  0.61835001, -0.79501746]])"
      ]
     },
     "execution_count": 45,
     "metadata": {},
     "output_type": "execute_result"
    }
   ],
   "source": [
    "X"
   ]
  },
  {
   "cell_type": "code",
   "execution_count": 46,
   "id": "24a9334d-b17a-4a92-a123-23f17a9cc054",
   "metadata": {},
   "outputs": [
    {
     "data": {
      "text/plain": [
       "array([[ 2.45133861, -0.01940269,  1.4515668 , -0.22299954,  0.01105864],\n",
       "       [-0.01940269,  0.3395557 , -0.14848414, -0.03173504,  0.18426225],\n",
       "       [ 1.4515668 , -0.14848414,  1.44763667, -0.42681217,  0.08860884],\n",
       "       [-0.22299954, -0.03173504, -0.42681217,  0.70656895,  0.11195647],\n",
       "       [ 0.01105864,  0.18426225,  0.08860884,  0.11195647,  0.65346813]])"
      ]
     },
     "execution_count": 46,
     "metadata": {},
     "output_type": "execute_result"
    }
   ],
   "source": [
    "inv(mat)"
   ]
  },
  {
   "cell_type": "code",
   "execution_count": 58,
   "id": "16868226-1c5b-4325-be13-3a994044db00",
   "metadata": {},
   "outputs": [
    {
     "data": {
      "text/plain": [
       "array([[ 1.,  0., -0.,  0., -0.],\n",
       "       [-0.,  1., -0.,  0., -0.],\n",
       "       [-0., -0.,  1., -0.,  0.],\n",
       "       [-0., -0.,  0.,  1.,  0.],\n",
       "       [ 0.,  0., -0.,  0.,  1.]])"
      ]
     },
     "execution_count": 58,
     "metadata": {},
     "output_type": "execute_result"
    }
   ],
   "source": [
    "inv_arr = mat @ inv(mat)\n",
    "\n",
    "np.around(inv_arr, 2)"
   ]
  },
  {
   "cell_type": "markdown",
   "id": "1d8a4943-ff98-4560-b0ce-0751acde4f18",
   "metadata": {},
   "source": [
    "## 4.7 Example: Random Walks"
   ]
  },
  {
   "cell_type": "code",
   "execution_count": 59,
   "id": "8ce86bbe-2fa4-46ed-80a7-7962a06edff6",
   "metadata": {},
   "outputs": [],
   "source": [
    "# A simple random walk starting at 0 with steps of 1 and –1 occurring with equal probability."
   ]
  },
  {
   "cell_type": "code",
   "execution_count": 74,
   "id": "2e9de10d-a812-4d60-b08a-6c658ad7cae2",
   "metadata": {},
   "outputs": [],
   "source": [
    "# Python way:\n",
    "\n",
    "import random\n",
    "\n",
    "position = 0\n",
    "walk = [position]\n",
    "\n",
    "for _ in range(1000):\n",
    "    step = 1 if random.randint(0, 1) else -1     # +1 if the random no. is 1, -1 if it's 0\n",
    "    position += step\n",
    "    walk.append(position)"
   ]
  },
  {
   "cell_type": "code",
   "execution_count": 75,
   "id": "64a550bf-4893-448f-bbab-fe6b3c485626",
   "metadata": {},
   "outputs": [
    {
     "data": {
      "image/png": "[encoded data removed]",
      "text/plain": [
       "<Figure size 640x480 with 1 Axes>"
      ]
     },
     "metadata": {},
     "output_type": "display_data"
    }
   ],
   "source": [
    "import matplotlib.pyplot as plt\n",
    "\n",
    "plt.plot(walk[:100])\n",
    "plt.show()"
   ]
  },
  {
   "cell_type": "code",
   "execution_count": 218,
   "id": "53e16e99-b198-488f-bb9a-7f9417267f0e",
   "metadata": {},
   "outputs": [],
   "source": [
    "# NumPy way:\n",
    "\n",
    "flips = rng.integers(0, 2, size=(1000))"
   ]
  },
  {
   "cell_type": "code",
   "execution_count": 219,
   "id": "0e30d184-6392-4bff-9c65-9fc36b9771e9",
   "metadata": {},
   "outputs": [],
   "source": [
    "steps = np.where(flips == 0, 1, -1)"
   ]
  },
  {
   "cell_type": "code",
   "execution_count": 220,
   "id": "50a52d1f-293e-4eff-b4fa-aefa8a542f6e",
   "metadata": {},
   "outputs": [
    {
     "data": {
      "text/plain": [
       "array([ 1,  0,  1,  2,  3,  2,  1,  2,  3,  2,  3,  4,  3,  4,  5,  4,  3,\n",
       "        2,  1,  2,  3,  4,  3,  2,  1,  0,  1,  0, -1, -2, -1, -2, -3, -4,\n",
       "       -5, -6, -5, -6, -5, -4, -5, -4, -5, -6, -7, -8, -9, -8, -7, -6, -5,\n",
       "       -4, -3, -2, -1,  0,  1,  0, -1,  0,  1,  2,  1,  0,  1,  0,  1,  2,\n",
       "        3,  4,  5,  6,  5,  4,  5,  4,  5,  4,  3,  2,  3,  4,  3,  4,  5,\n",
       "        6,  7,  8,  7,  8,  9, 10,  9,  8,  9,  8,  7,  6,  7,  6,  5,  4,\n",
       "        3,  2,  3,  4,  5,  6,  5,  4,  3,  2,  1,  2,  1,  2,  3,  2,  1,\n",
       "        2,  1,  0,  1,  2,  3,  2,  1,  0, -1,  0,  1,  2,  3,  4,  5,  6,\n",
       "        5,  4,  3,  2,  1,  2,  3,  4,  3,  2,  3,  4,  5,  6,  5,  4,  3,\n",
       "        2,  1,  2,  3,  4,  5,  6,  7,  8,  9,  8,  9, 10, 11, 12, 13, 14,\n",
       "       15, 14, 13, 14, 13, 12, 13, 12, 13, 12, 13, 12, 13, 12, 13, 14, 13,\n",
       "       14, 15, 14, 13, 14, 13, 12, 13, 14, 13, 14, 15, 14, 13, 12, 11, 12,\n",
       "       13, 12, 13, 14, 15, 16, 17, 18, 19, 20, 19, 18, 17, 16, 15, 14, 15,\n",
       "       14, 13, 12, 11, 12, 11, 12, 11, 12, 13, 14, 15, 16, 15, 14, 13, 14,\n",
       "       13, 12, 13, 12, 13, 14, 15, 16, 17, 18, 17, 16, 17, 16, 15, 14, 15,\n",
       "       16, 15, 16, 17, 18, 17, 18, 17, 16, 15, 16, 17, 18, 17, 18, 17, 16,\n",
       "       15, 16, 17, 16, 17, 16, 15, 14, 15, 16, 17, 16, 17, 18, 19, 18, 19,\n",
       "       20, 21, 22, 21, 20, 19, 20, 19, 20, 19, 20, 21, 20, 21, 20, 19, 18,\n",
       "       17, 18, 17, 16, 17, 16, 17, 16, 17, 18, 19, 18, 17, 18, 17, 18, 17,\n",
       "       18, 19, 20, 19, 20, 21, 20, 21, 22, 23, 22, 23, 24, 23, 22, 23, 22,\n",
       "       21, 22, 23, 24, 25, 24, 25, 26, 27, 28, 27, 26, 25, 24, 25, 24, 25,\n",
       "       26, 25, 24, 23, 22, 23, 24, 25, 26, 27, 28, 29, 28, 27, 28, 27, 26,\n",
       "       27, 28, 29, 28, 29, 30, 31, 30, 29, 30, 29, 30, 29, 30, 31, 32, 33,\n",
       "       32, 31, 30, 29, 28, 27, 26, 25, 24, 23, 22, 21, 22, 23, 22, 23, 24,\n",
       "       23, 22, 21, 22, 21, 20, 19, 20, 21, 20, 21, 20, 21, 20, 21, 20, 21,\n",
       "       22, 21, 22, 23, 22, 23, 22, 21, 22, 23, 22, 21, 20, 19, 20, 21, 20,\n",
       "       19, 20, 21, 20, 21, 20, 21, 20, 21, 22, 23, 24, 25, 24, 23, 22, 21,\n",
       "       20, 19, 18, 17, 18, 19, 20, 19, 18, 19, 18, 17, 16, 15, 16, 17, 16,\n",
       "       15, 14, 15, 16, 17, 16, 15, 16, 15, 16, 17, 16, 17, 16, 17, 18, 19,\n",
       "       18, 17, 16, 17, 16, 17, 18, 17, 18, 19, 20, 19, 20, 21, 20, 21, 22,\n",
       "       23, 22, 23, 22, 21, 20, 19, 20, 19, 20, 21, 20, 19, 20, 21, 22, 23,\n",
       "       22, 23, 24, 25, 26, 25, 26, 27, 28, 27, 28, 29, 30, 29, 30, 29, 30,\n",
       "       31, 30, 29, 30, 31, 32, 31, 30, 29, 30, 31, 30, 31, 32, 33, 34, 33,\n",
       "       32, 31, 30, 31, 32, 31, 32, 33, 34, 33, 34, 35, 34, 35, 36, 35, 34,\n",
       "       35, 34, 35, 36, 35, 34, 33, 32, 31, 32, 33, 34, 33, 34, 33, 34, 35,\n",
       "       34, 33, 32, 33, 32, 31, 30, 31, 32, 31, 30, 29, 28, 29, 30, 31, 32,\n",
       "       31, 30, 31, 30, 29, 30, 29, 28, 29, 28, 27, 26, 25, 24, 23, 24, 25,\n",
       "       24, 25, 24, 25, 24, 25, 24, 23, 24, 23, 22, 21, 20, 21, 22, 21, 20,\n",
       "       21, 22, 23, 24, 23, 22, 21, 22, 21, 22, 23, 24, 25, 24, 25, 26, 27,\n",
       "       28, 27, 26, 27, 28, 27, 26, 25, 24, 23, 22, 21, 20, 19, 20, 19, 20,\n",
       "       21, 22, 21, 22, 21, 20, 19, 20, 21, 22, 21, 22, 23, 22, 23, 22, 23,\n",
       "       24, 23, 22, 21, 20, 21, 20, 21, 20, 21, 22, 21, 22, 21, 22, 23, 24,\n",
       "       23, 22, 23, 22, 21, 20, 19, 20, 19, 18, 19, 18, 19, 18, 17, 16, 17,\n",
       "       16, 15, 14, 13, 12, 11, 10,  9,  8,  9, 10, 11, 12, 13, 14, 13, 14,\n",
       "       15, 14, 13, 14, 15, 16, 15, 14, 13, 14, 15, 14, 13, 14, 13, 14, 15,\n",
       "       16, 17, 18, 19, 18, 17, 18, 17, 18, 19, 18, 17, 18, 17, 18, 17, 16,\n",
       "       15, 14, 13, 14, 15, 14, 15, 16, 17, 16, 15, 16, 15, 16, 17, 16, 17,\n",
       "       16, 15, 14, 15, 14, 13, 12, 11, 12, 11, 12, 11, 10,  9, 10,  9, 10,\n",
       "        9, 10, 11, 10,  9,  8,  9,  8,  9,  8,  9, 10, 11, 12, 11, 12, 13,\n",
       "       12, 11, 10, 11, 10,  9,  8,  7,  6,  5,  4,  5,  4,  3,  2,  1,  0,\n",
       "        1,  2,  1,  2,  1,  2,  3,  2,  1,  2,  1,  2,  1,  2,  3,  4,  3,\n",
       "        2,  3,  2,  3,  4,  3,  2,  3,  4,  5,  6,  5,  4,  3,  4,  3,  4,\n",
       "        5,  6,  5,  6,  5,  6,  5,  6,  5,  4,  3,  2,  3,  4,  5,  6,  7,\n",
       "        8,  9, 10, 11, 10,  9, 10, 11, 12, 11, 10, 11, 12, 13, 14, 13, 14,\n",
       "       13, 14, 15, 14, 13, 12, 11, 10,  9,  8,  7,  8,  7,  8,  7,  8,  7,\n",
       "        6,  7,  8,  7,  6,  7,  6,  7,  8,  7,  8,  9,  8,  7,  6,  5,  4,\n",
       "        3,  2,  3,  4,  3,  2,  3,  2,  1,  0,  1,  2,  3,  4,  5,  6,  5,\n",
       "        6,  7,  8,  7,  8,  9, 10,  9,  8,  7,  6,  5,  6,  5,  4,  3,  4,\n",
       "        5,  4,  5,  4,  3,  2,  3,  2,  3,  2,  1,  2,  3,  4])"
      ]
     },
     "execution_count": 220,
     "metadata": {},
     "output_type": "execute_result"
    }
   ],
   "source": [
    "# This gives us the complete steps taken along the way:\n",
    "\n",
    "walk = steps.cumsum()\n",
    "\n",
    "walk"
   ]
  },
  {
   "cell_type": "code",
   "execution_count": 222,
   "id": "709182c5-e5ea-4cb8-88a3-ee1608134674",
   "metadata": {},
   "outputs": [
    {
     "data": {
      "text/plain": [
       "np.int64(-9)"
      ]
     },
     "execution_count": 222,
     "metadata": {},
     "output_type": "execute_result"
    }
   ],
   "source": [
    "# The lowest walk behind:\n",
    "\n",
    "walk.min()"
   ]
  },
  {
   "cell_type": "code",
   "execution_count": 223,
   "id": "a765a95d-c614-40dc-8d63-ba8b78b5b455",
   "metadata": {},
   "outputs": [
    {
     "data": {
      "text/plain": [
       "np.int64(36)"
      ]
     },
     "execution_count": 223,
     "metadata": {},
     "output_type": "execute_result"
    }
   ],
   "source": [
    "# The highest walk ahead:\n",
    "\n",
    "walk.max()"
   ]
  },
  {
   "cell_type": "code",
   "execution_count": 224,
   "id": "7c169e0e-e2af-4223-8242-4be6c22bd07b",
   "metadata": {},
   "outputs": [
    {
     "data": {
      "image/png": "[encoded data removed]",
      "text/plain": [
       "<Figure size 640x480 with 1 Axes>"
      ]
     },
     "metadata": {},
     "output_type": "display_data"
    }
   ],
   "source": [
    "# Plot of 100 random steps taken:\n",
    "\n",
    "plt.plot(walk[:100])\n",
    "plt.show()"
   ]
  },
  {
   "cell_type": "code",
   "execution_count": 225,
   "id": "19b19f99-cf5c-4739-918b-6b9062cbd29e",
   "metadata": {},
   "outputs": [
    {
     "data": {
      "text/plain": [
       "np.int64(46)"
      ]
     },
     "execution_count": 225,
     "metadata": {},
     "output_type": "execute_result"
    }
   ],
   "source": [
    "# The random walk of 10 steps ahead or behind reached at index 13:\n",
    "\n",
    "(np.abs(walk) >= 9).argmax()"
   ]
  },
  {
   "cell_type": "markdown",
   "id": "bd1214c6-03f4-4873-9fe6-bad5f8407a9e",
   "metadata": {},
   "source": [
    "### Simulating Many Random Walks at Once"
   ]
  },
  {
   "cell_type": "code",
   "execution_count": 236,
   "id": "c3d8354c-b0e8-4305-ac3a-732bd62298ca",
   "metadata": {},
   "outputs": [],
   "source": [
    "# Creating a matrix of 5000 rows and 1000 columns\n",
    "# So the steps would be the cumulative sum of each row of 1000 elements\n",
    "\n",
    "nwalks = 5000\n",
    "nsteps = 1000\n",
    "\n",
    "draws = rng.integers(0, 2, size=(nwalks, nsteps))     # 0 or 1"
   ]
  },
  {
   "cell_type": "code",
   "execution_count": 231,
   "id": "bd55a27b-a57b-4a78-923c-be9dc269edd1",
   "metadata": {},
   "outputs": [],
   "source": [
    "steps = np.where(draws > 0, 1, -1)"
   ]
  },
  {
   "cell_type": "code",
   "execution_count": 237,
   "id": "ae91deac-9034-45c1-ab33-9d8b33572cef",
   "metadata": {},
   "outputs": [],
   "source": [
    "# Calculating 5000 walks of 1000 steps:\n",
    "\n",
    "walks = steps.cumsum(axis=1)"
   ]
  },
  {
   "cell_type": "code",
   "execution_count": 238,
   "id": "dcc71a38-e899-4fc9-a20a-96e2cfec6f74",
   "metadata": {},
   "outputs": [
    {
     "data": {
      "text/plain": [
       "np.int64(-126)"
      ]
     },
     "execution_count": 238,
     "metadata": {},
     "output_type": "execute_result"
    }
   ],
   "source": [
    "# Minimum of all 5000 walks:\n",
    "\n",
    "walks.min()"
   ]
  },
  {
   "cell_type": "code",
   "execution_count": 239,
   "id": "954c88c2-2ec3-41d7-8d1d-608a37635cf0",
   "metadata": {},
   "outputs": [
    {
     "data": {
      "text/plain": [
       "np.int64(116)"
      ]
     },
     "execution_count": 239,
     "metadata": {},
     "output_type": "execute_result"
    }
   ],
   "source": [
    "# Maximum of all 5000 walks:\n",
    "\n",
    "walks.max()"
   ]
  },
  {
   "cell_type": "code",
   "execution_count": 240,
   "id": "d55fde88-4169-4437-8bde-2c0493da9e00",
   "metadata": {},
   "outputs": [
    {
     "data": {
      "text/plain": [
       "array([ True, False,  True, ..., False,  True,  True])"
      ]
     },
     "execution_count": 240,
     "metadata": {},
     "output_type": "execute_result"
    }
   ],
   "source": [
    "hits30 = (np.abs(walks) >= 30).any(axis=1)\n",
    "\n",
    "hits30"
   ]
  },
  {
   "cell_type": "code",
   "execution_count": 242,
   "id": "850f7681-40b4-46de-b25f-8068f6787d9f",
   "metadata": {},
   "outputs": [
    {
     "data": {
      "text/plain": [
       "np.int64(3397)"
      ]
     },
     "execution_count": 242,
     "metadata": {},
     "output_type": "execute_result"
    }
   ],
   "source": [
    "# These many walks hit 30\n",
    "\n",
    "hits30.sum()"
   ]
  },
  {
   "cell_type": "code",
   "execution_count": 249,
   "id": "cd40d79c-e8e0-4d45-b65c-6246bcc74c38",
   "metadata": {},
   "outputs": [],
   "source": [
    "# Calculating the indexes of only the walks that hit 30:\n",
    "\n",
    "crossing_times = (np.abs(walks[hits30]) >= 30).argmax(axis=1)"
   ]
  },
  {
   "cell_type": "code",
   "execution_count": 250,
   "id": "ed645b94-e425-45ac-9c8b-a710d6d8ba38",
   "metadata": {},
   "outputs": [
    {
     "data": {
      "text/plain": [
       "array([297, 325, 343, ..., 251, 619, 693])"
      ]
     },
     "execution_count": 250,
     "metadata": {},
     "output_type": "execute_result"
    }
   ],
   "source": [
    "crossing_times"
   ]
  },
  {
   "cell_type": "code",
   "execution_count": 253,
   "id": "658d1b20-e459-4353-b650-ae2fed99d1c1",
   "metadata": {},
   "outputs": [
    {
     "data": {
      "text/plain": [
       "np.float64(502.32293199882247)"
      ]
     },
     "execution_count": 253,
     "metadata": {},
     "output_type": "execute_result"
    }
   ],
   "source": [
    "# The average crossing time (trails) for 30 steps:\n",
    "\n",
    "crossing_times.mean()"
   ]
  }
 ],
 "metadata": {
  "kernelspec": {
   "display_name": "Python 3 (ipykernel)",
   "language": "python",
   "name": "python3"
  },
  "language_info": {
   "codemirror_mode": {
    "name": "ipython",
    "version": 3
   },
   "file_extension": ".py",
   "mimetype": "text/x-python",
   "name": "python",
   "nbconvert_exporter": "python",
   "pygments_lexer": "ipython3",
   "version": "3.12.5"
  }
 },
 "nbformat": 4,
 "nbformat_minor": 5
}
