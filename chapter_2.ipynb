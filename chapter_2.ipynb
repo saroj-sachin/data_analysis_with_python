{
 "cells": [
  {
   "cell_type": "markdown",
   "id": "f4401016-d38b-435b-9656-dfd1486ecd94",
   "metadata": {},
   "source": [
    "# Chapter 2: Python Language Basics, IPython, and Jupyter Notebook"
   ]
  },
  {
   "cell_type": "markdown",
   "id": "1c398dd3-8d53-444a-9467-f6db6fa9bcd7",
   "metadata": {},
   "source": [
    "## 2.1 Tab Completion"
   ]
  },
  {
   "cell_type": "markdown",
   "id": "df780948-d5f0-43a8-af68-80463108fb97",
   "metadata": {},
   "source": [
    "Pressing the Tab key searches the namespace for any variables matching the characters typed so far and show the results:"
   ]
  },
  {
   "cell_type": "code",
   "execution_count": 1,
   "id": "fb44e358-9902-4723-9569-9cdba4ebe2db",
   "metadata": {},
   "outputs": [
    {
     "name": "stdout",
     "output_type": "stream",
     "text": [
      "hello world\n"
     ]
    }
   ],
   "source": [
    "print(\"hello world\")"
   ]
  },
  {
   "cell_type": "code",
   "execution_count": 2,
   "id": "5ff78765-d94a-4f53-a8c6-9cd6edd30e4a",
   "metadata": {},
   "outputs": [],
   "source": [
    "str = \"Hello World\""
   ]
  },
  {
   "cell_type": "code",
   "execution_count": null,
   "id": "d86b03dc-3b86-4d04-b8c3-381572dce26d",
   "metadata": {},
   "outputs": [],
   "source": [
    "str."
   ]
  },
  {
   "cell_type": "markdown",
   "id": "6d7f9c0f-5160-4338-98eb-4766b720e0db",
   "metadata": {
    "jp-MarkdownHeadingCollapsed": true
   },
   "source": [
    "## 2.2 Introspection"
   ]
  },
  {
   "cell_type": "markdown",
   "id": "673f40ad-315f-465c-84bc-3e3df42c3036",
   "metadata": {},
   "source": [
    "Using a question mark (?) before or after a variable will displays some general information about the object:"
   ]
  },
  {
   "cell_type": "code",
   "execution_count": 3,
   "id": "9e3cf4ec-8092-491c-a3fe-8f164951c87c",
   "metadata": {},
   "outputs": [],
   "source": [
    "b = [1, 2, 3]"
   ]
  },
  {
   "cell_type": "code",
   "execution_count": 4,
   "id": "bb455f7d-23cd-412f-a1f0-3080c833e297",
   "metadata": {},
   "outputs": [
    {
     "data": {
      "text/plain": [
       "\u001b[1;31mType:\u001b[0m        list\n",
       "\u001b[1;31mString form:\u001b[0m [1, 2, 3]\n",
       "\u001b[1;31mLength:\u001b[0m      3\n",
       "\u001b[1;31mDocstring:\u001b[0m  \n",
       "Built-in mutable sequence.\n",
       "\n",
       "If no argument is given, the constructor creates a new empty list.\n",
       "The argument must be an iterable if specified."
      ]
     },
     "metadata": {},
     "output_type": "display_data"
    }
   ],
   "source": [
    "b?"
   ]
  },
  {
   "cell_type": "markdown",
   "id": "d5fbe48c-835d-4ed5-a195-14c6513f7327",
   "metadata": {},
   "source": [
    "Shows all names matching the wildcard expression"
   ]
  },
  {
   "cell_type": "code",
   "execution_count": 7,
   "id": "037c059b-e674-42b8-8314-26a102a65bc4",
   "metadata": {},
   "outputs": [
    {
     "data": {
      "text/plain": [
       "np.__loader__\n",
       "np.load\n",
       "np.loadtxt"
      ]
     },
     "metadata": {},
     "output_type": "display_data"
    }
   ],
   "source": [
    "import numpy as np\n",
    "\n",
    "np.*load*?"
   ]
  },
  {
   "cell_type": "markdown",
   "id": "51a9ba7c-046a-4198-8bcd-7d6c298c0565",
   "metadata": {
    "jp-MarkdownHeadingCollapsed": true
   },
   "source": [
    "## 2.3 Python Language Basics"
   ]
  },
  {
   "cell_type": "markdown",
   "id": "75650bcd-6a9b-4c08-9e24-6ae6c3cb3aae",
   "metadata": {},
   "source": [
    "An overview of essential Python programming concepts and language mechanics."
   ]
  },
  {
   "cell_type": "markdown",
   "id": "a284503e-7aef-404e-800c-d1b0f9392378",
   "metadata": {
    "jp-MarkdownHeadingCollapsed": true
   },
   "source": [
    "### Language Semantics"
   ]
  },
  {
   "cell_type": "markdown",
   "id": "daa6d8fd-86de-48d0-b42c-efa3083807fe",
   "metadata": {
    "jp-MarkdownHeadingCollapsed": true
   },
   "source": [
    "#### Indentation, not braces"
   ]
  },
  {
   "cell_type": "code",
   "execution_count": null,
   "id": "7b5432d4-f19f-447a-b0c9-a8aa0289f40f",
   "metadata": {},
   "outputs": [],
   "source": [
    "for x in array:\n",
    "    if x < pivot:\n",
    "        less.append(x)\n",
    "    else:\n",
    "        greater.append(x)\n"
   ]
  },
  {
   "cell_type": "markdown",
   "id": "278077ea-c480-4127-9221-93d9bad19558",
   "metadata": {
    "jp-MarkdownHeadingCollapsed": true
   },
   "source": [
    "#### Comments"
   ]
  },
  {
   "cell_type": "code",
   "execution_count": null,
   "id": "d274efa7-28fc-42a4-83f1-9e188f8b4a6b",
   "metadata": {},
   "outputs": [],
   "source": [
    "results = []\n",
    "for line in file_handle:\n",
    "    # keep the empty lines for now\n",
    "    # if len(line) == 0:\n",
    "    #   continue\n",
    "    results.append(line.replace(\"foo\", \"bar\"))\n"
   ]
  },
  {
   "cell_type": "markdown",
   "id": "e439a7ee-3675-47b9-93d4-4e7d015957c4",
   "metadata": {
    "jp-MarkdownHeadingCollapsed": true
   },
   "source": [
    "#### Variables and argument passing"
   ]
  },
  {
   "cell_type": "code",
   "execution_count": 10,
   "id": "b10440f5-bbd5-47d3-85d3-16c6b2cfa2dd",
   "metadata": {},
   "outputs": [],
   "source": [
    "a = [1, 2, 3]"
   ]
  },
  {
   "cell_type": "code",
   "execution_count": 11,
   "id": "b2bb4b7f-0760-4275-9a1f-a7287cdaa4ba",
   "metadata": {},
   "outputs": [],
   "source": [
    "b = a"
   ]
  },
  {
   "cell_type": "code",
   "execution_count": 12,
   "id": "8798e524-23f9-403b-bbc4-89462c09573e",
   "metadata": {},
   "outputs": [
    {
     "data": {
      "text/plain": [
       "[1, 2, 3]"
      ]
     },
     "execution_count": 12,
     "metadata": {},
     "output_type": "execute_result"
    }
   ],
   "source": [
    "b"
   ]
  },
  {
   "cell_type": "code",
   "execution_count": 13,
   "id": "8573b070-059a-4471-8e4b-338016f853de",
   "metadata": {},
   "outputs": [],
   "source": [
    "a.append(4)"
   ]
  },
  {
   "cell_type": "code",
   "execution_count": 15,
   "id": "ef08c3d4-29d2-4f90-9648-0364295059d7",
   "metadata": {},
   "outputs": [
    {
     "data": {
      "text/plain": [
       "[1, 2, 3, 4]"
      ]
     },
     "execution_count": 15,
     "metadata": {},
     "output_type": "execute_result"
    }
   ],
   "source": [
    "# Making changes to \"a\" also makes changes to \"b\":\n",
    "\n",
    "b"
   ]
  },
  {
   "cell_type": "markdown",
   "id": "78467de2-5bdc-40eb-a52d-ba9f2c8b0426",
   "metadata": {
    "jp-MarkdownHeadingCollapsed": true
   },
   "source": [
    "#### Attributes and methods"
   ]
  },
  {
   "cell_type": "code",
   "execution_count": 16,
   "id": "181fa028-4eb3-4f28-ab78-1b612f03300c",
   "metadata": {},
   "outputs": [],
   "source": [
    "a = \"data\""
   ]
  },
  {
   "cell_type": "code",
   "execution_count": 18,
   "id": "fbb007b8-4e84-447b-8dc2-f84240c8262b",
   "metadata": {},
   "outputs": [
    {
     "data": {
      "text/plain": [
       "'data'"
      ]
     },
     "execution_count": 18,
     "metadata": {},
     "output_type": "execute_result"
    }
   ],
   "source": [
    "# Pressing a tab gets all the methods\n",
    "\n",
    "a."
   ]
  },
  {
   "cell_type": "markdown",
   "id": "86ce6c7e-9cfb-4c48-b2c4-dc89f9342907",
   "metadata": {
    "jp-MarkdownHeadingCollapsed": true
   },
   "source": [
    "#### Duck Typing (isiterable)"
   ]
  },
  {
   "cell_type": "code",
   "execution_count": 19,
   "id": "c6932f91-d4b7-42c8-a021-195ef5a46768",
   "metadata": {},
   "outputs": [],
   "source": [
    "# This function would return True for strings as well as most Python collection types:\n",
    "\n",
    "def isiterable(obj):\n",
    "    try:\n",
    "        iter(obj)\n",
    "        return True\n",
    "    except TypeError:\n",
    "        return False"
   ]
  },
  {
   "cell_type": "code",
   "execution_count": 20,
   "id": "eead56ea-5e04-4533-9271-cbaeb6680972",
   "metadata": {},
   "outputs": [
    {
     "data": {
      "text/plain": [
       "True"
      ]
     },
     "execution_count": 20,
     "metadata": {},
     "output_type": "execute_result"
    }
   ],
   "source": [
    "isiterable(\"a string\")"
   ]
  },
  {
   "cell_type": "code",
   "execution_count": 21,
   "id": "c8d7282f-829b-4bc7-9a42-b355f990f301",
   "metadata": {},
   "outputs": [
    {
     "data": {
      "text/plain": [
       "True"
      ]
     },
     "execution_count": 21,
     "metadata": {},
     "output_type": "execute_result"
    }
   ],
   "source": [
    "isiterable([1, 2, 3])"
   ]
  },
  {
   "cell_type": "code",
   "execution_count": 22,
   "id": "cc31b01f-19fc-4924-af7e-f9915ff870d8",
   "metadata": {},
   "outputs": [
    {
     "data": {
      "text/plain": [
       "False"
      ]
     },
     "execution_count": 22,
     "metadata": {},
     "output_type": "execute_result"
    }
   ],
   "source": [
    "isiterable(6)"
   ]
  },
  {
   "cell_type": "markdown",
   "id": "d5eaef30-b493-472e-a797-1c69ce8f1b58",
   "metadata": {
    "jp-MarkdownHeadingCollapsed": true
   },
   "source": [
    "#### Imports"
   ]
  },
  {
   "cell_type": "code",
   "execution_count": 23,
   "id": "e3d319fc-619e-4d2e-a51a-4232b9adf78d",
   "metadata": {},
   "outputs": [],
   "source": [
    "import numpy as np\n",
    "\n",
    "import pandas as pd\n",
    "\n",
    "import matplotlib.pyplot as plt"
   ]
  },
  {
   "cell_type": "markdown",
   "id": "02ecf8be-f6ae-41dc-a258-db82a0906f6f",
   "metadata": {
    "jp-MarkdownHeadingCollapsed": true
   },
   "source": [
    "#### Binary operators and comparisons"
   ]
  },
  {
   "cell_type": "code",
   "execution_count": 25,
   "id": "22751e31-b8a6-49e2-837a-dfa1c2ddd865",
   "metadata": {},
   "outputs": [
    {
     "data": {
      "text/plain": [
       "5"
      ]
     },
     "execution_count": 25,
     "metadata": {},
     "output_type": "execute_result"
    }
   ],
   "source": [
    "2 + 3"
   ]
  },
  {
   "cell_type": "code",
   "execution_count": 26,
   "id": "88f7385a-9efe-47bb-8d2a-7f56b4a7d614",
   "metadata": {},
   "outputs": [
    {
     "data": {
      "text/plain": [
       "False"
      ]
     },
     "execution_count": 26,
     "metadata": {},
     "output_type": "execute_result"
    }
   ],
   "source": [
    "2 > 3"
   ]
  },
  {
   "cell_type": "code",
   "execution_count": 27,
   "id": "bb4a802a-8f42-4475-83be-29674c1bc8b1",
   "metadata": {},
   "outputs": [],
   "source": [
    "a = [1, 2, 3]"
   ]
  },
  {
   "cell_type": "code",
   "execution_count": 28,
   "id": "a4cd6bfa-cda5-44d3-8b20-c262ed47c2dc",
   "metadata": {},
   "outputs": [],
   "source": [
    "b = a"
   ]
  },
  {
   "cell_type": "code",
   "execution_count": 29,
   "id": "47595126-f44c-458a-b50c-9754a2c6fff7",
   "metadata": {},
   "outputs": [
    {
     "data": {
      "text/plain": [
       "True"
      ]
     },
     "execution_count": 29,
     "metadata": {},
     "output_type": "execute_result"
    }
   ],
   "source": [
    "a is b"
   ]
  },
  {
   "cell_type": "code",
   "execution_count": 30,
   "id": "e5b0b1aa-4961-4fe5-80e4-09c54fc41d4d",
   "metadata": {},
   "outputs": [
    {
     "data": {
      "text/plain": [
       "False"
      ]
     },
     "execution_count": 30,
     "metadata": {},
     "output_type": "execute_result"
    }
   ],
   "source": [
    "a is not b"
   ]
  },
  {
   "cell_type": "code",
   "execution_count": 31,
   "id": "14c05611-d011-43a9-8ba1-20026438611e",
   "metadata": {},
   "outputs": [
    {
     "data": {
      "text/plain": [
       "True"
      ]
     },
     "execution_count": 31,
     "metadata": {},
     "output_type": "execute_result"
    }
   ],
   "source": [
    "a == b"
   ]
  },
  {
   "cell_type": "markdown",
   "id": "7c19d51e-d107-4c97-afe1-ec72d0448c0b",
   "metadata": {},
   "source": [
    "#### Mutable and immutable objects"
   ]
  },
  {
   "cell_type": "code",
   "execution_count": 39,
   "id": "b9723a95-7412-4ebd-90e4-b9a04d42626c",
   "metadata": {},
   "outputs": [
    {
     "data": {
      "text/plain": [
       "['data', 2, [1, 3]]"
      ]
     },
     "execution_count": 39,
     "metadata": {},
     "output_type": "execute_result"
    }
   ],
   "source": [
    "a_list = [\"data\", 2, [1, 3]]\n",
    "\n",
    "a_list"
   ]
  },
  {
   "cell_type": "code",
   "execution_count": 40,
   "id": "21269664-cea3-4318-87f7-535926bcc35e",
   "metadata": {},
   "outputs": [],
   "source": [
    "a_list[2] = [2, 4]"
   ]
  },
  {
   "cell_type": "code",
   "execution_count": 41,
   "id": "789591d7-c608-4c01-80fb-4fc9f95e4102",
   "metadata": {},
   "outputs": [
    {
     "data": {
      "text/plain": [
       "['data', 2, [2, 4]]"
      ]
     },
     "execution_count": 41,
     "metadata": {},
     "output_type": "execute_result"
    }
   ],
   "source": [
    "a_list"
   ]
  },
  {
   "cell_type": "code",
   "execution_count": 42,
   "id": "4161f6bb-9dd7-4648-b23e-0f953e36acb9",
   "metadata": {},
   "outputs": [
    {
     "data": {
      "text/plain": [
       "(3, 5, (4, 5))"
      ]
     },
     "execution_count": 42,
     "metadata": {},
     "output_type": "execute_result"
    }
   ],
   "source": [
    "a_tup = (3, 5, (4, 5))\n",
    "\n",
    "a_tup"
   ]
  },
  {
   "cell_type": "code",
   "execution_count": 43,
   "id": "c6a2e617-4fa6-4d4a-b484-f0d32f4e2bd1",
   "metadata": {},
   "outputs": [
    {
     "ename": "TypeError",
     "evalue": "'tuple' object does not support item assignment",
     "output_type": "error",
     "traceback": [
      "\u001b[1;31m---------------------------------------------------------------------------\u001b[0m",
      "\u001b[1;31mTypeError\u001b[0m                                 Traceback (most recent call last)",
      "Cell \u001b[1;32mIn[43], line 1\u001b[0m\n\u001b[1;32m----> 1\u001b[0m \u001b[43ma_tup\u001b[49m\u001b[43m[\u001b[49m\u001b[38;5;241;43m1\u001b[39;49m\u001b[43m]\u001b[49m \u001b[38;5;241m=\u001b[39m (\u001b[38;5;241m6\u001b[39m, \u001b[38;5;241m7\u001b[39m)\n",
      "\u001b[1;31mTypeError\u001b[0m: 'tuple' object does not support item assignment"
     ]
    }
   ],
   "source": [
    "a_tup[1] = (6, 7)"
   ]
  },
  {
   "cell_type": "markdown",
   "id": "8ecc8b93-2a14-4be8-b74a-ba5078d5ae42",
   "metadata": {
    "jp-MarkdownHeadingCollapsed": true
   },
   "source": [
    "### Scalar Types"
   ]
  },
  {
   "cell_type": "markdown",
   "id": "2c23129a-2d8f-4300-859f-bb6ee3ddfe53",
   "metadata": {},
   "source": [
    "#### Numeric Types"
   ]
  },
  {
   "cell_type": "code",
   "execution_count": 45,
   "id": "a1a816a5-68ae-4c50-a60a-5f6e52ad1d95",
   "metadata": {},
   "outputs": [
    {
     "data": {
      "text/plain": [
       "int"
      ]
     },
     "execution_count": 45,
     "metadata": {},
     "output_type": "execute_result"
    }
   ],
   "source": [
    "ival = 42069\n",
    "\n",
    "type(i)"
   ]
  },
  {
   "cell_type": "code",
   "execution_count": 46,
   "id": "50ad8015-3ed1-428c-ade7-2b5fac816e4a",
   "metadata": {},
   "outputs": [
    {
     "data": {
      "text/plain": [
       "float"
      ]
     },
     "execution_count": 46,
     "metadata": {},
     "output_type": "execute_result"
    }
   ],
   "source": [
    "fval = 4.32\n",
    "\n",
    "type(fval)"
   ]
  },
  {
   "cell_type": "code",
   "execution_count": 47,
   "id": "d39a5ddb-c776-4e88-9d3b-12888bead12d",
   "metadata": {},
   "outputs": [
    {
     "data": {
      "text/plain": [
       "1.5"
      ]
     },
     "execution_count": 47,
     "metadata": {},
     "output_type": "execute_result"
    }
   ],
   "source": [
    "3/2"
   ]
  },
  {
   "cell_type": "code",
   "execution_count": 49,
   "id": "fd0d4ae6-a65a-40ec-84dd-7095cecec937",
   "metadata": {},
   "outputs": [
    {
     "data": {
      "text/plain": [
       "1"
      ]
     },
     "execution_count": 49,
     "metadata": {},
     "output_type": "execute_result"
    }
   ],
   "source": [
    "# For division without decimal\n",
    "\n",
    "3//2"
   ]
  },
  {
   "cell_type": "markdown",
   "id": "3092e2ed-5c00-42ee-824c-71d00dc7bd62",
   "metadata": {},
   "source": [
    "#### Strings"
   ]
  },
  {
   "cell_type": "code",
   "execution_count": 50,
   "id": "5673dd30-4e03-4306-ae3f-a8fd87b738e8",
   "metadata": {},
   "outputs": [],
   "source": [
    "a = 'one way of writing a string'\n",
    "b = \"another way\""
   ]
  },
  {
   "cell_type": "code",
   "execution_count": 52,
   "id": "0014aae8-d064-4bd5-bef7-5affcd91e364",
   "metadata": {},
   "outputs": [],
   "source": [
    "c = \"\"\"\n",
    "This is a longer string that\n",
    "spans multiple lines\n",
    "\"\"\""
   ]
  },
  {
   "cell_type": "code",
   "execution_count": 53,
   "id": "7edfc702-33a4-4d8e-9a64-f931e51c4ecb",
   "metadata": {},
   "outputs": [],
   "source": [
    "a = \"this is a string\""
   ]
  },
  {
   "cell_type": "code",
   "execution_count": 55,
   "id": "1f40ebc5-831f-43c7-af52-da858c989da2",
   "metadata": {},
   "outputs": [
    {
     "data": {
      "text/plain": [
       "'this is a longer string'"
      ]
     },
     "execution_count": 55,
     "metadata": {},
     "output_type": "execute_result"
    }
   ],
   "source": [
    "# Correct way of making changes to a string\n",
    "\n",
    "a.replace(\"string\", \"longer string\")"
   ]
  },
  {
   "cell_type": "code",
   "execution_count": 57,
   "id": "9bdaf350-c0a0-402b-8956-cf22e65d65cf",
   "metadata": {},
   "outputs": [
    {
     "data": {
      "text/plain": [
       "'this is a string'"
      ]
     },
     "execution_count": 57,
     "metadata": {},
     "output_type": "execute_result"
    }
   ],
   "source": [
    "# Creates new string instead of making changes to the original\n",
    "\n",
    "a"
   ]
  },
  {
   "cell_type": "code",
   "execution_count": 59,
   "id": "08bd0afb-bd54-457f-b219-e66cc3d40b46",
   "metadata": {},
   "outputs": [
    {
     "data": {
      "text/plain": [
       "['p', 'y', 't', 'h', 'o', 'n']"
      ]
     },
     "execution_count": 59,
     "metadata": {},
     "output_type": "execute_result"
    }
   ],
   "source": [
    "# Can also be iterated\n",
    "\n",
    "s = \"python\"\n",
    "\n",
    "list(s)"
   ]
  },
  {
   "cell_type": "code",
   "execution_count": 60,
   "id": "c3878a22-26e7-4e23-bb62-46c49e508e5d",
   "metadata": {},
   "outputs": [
    {
     "data": {
      "text/plain": [
       "'pyt'"
      ]
     },
     "execution_count": 60,
     "metadata": {},
     "output_type": "execute_result"
    }
   ],
   "source": [
    "# Slicing\n",
    "\n",
    "s[:3]"
   ]
  },
  {
   "cell_type": "code",
   "execution_count": 61,
   "id": "cc124bad-7cb2-46e7-97bd-060ceb3b749a",
   "metadata": {},
   "outputs": [
    {
     "data": {
      "text/plain": [
       "'this\\\\has\\\\no\\\\special\\\\characters'"
      ]
     },
     "execution_count": 61,
     "metadata": {},
     "output_type": "execute_result"
    }
   ],
   "source": [
    "# Raw\n",
    "\n",
    "s = r\"this\\has\\no\\special\\characters\"\n",
    "\n",
    "s"
   ]
  },
  {
   "cell_type": "code",
   "execution_count": 62,
   "id": "ebf1db24-e904-4645-891b-562866cb75ec",
   "metadata": {},
   "outputs": [
    {
     "data": {
      "text/plain": [
       "'this is the first half and this is the second half'"
      ]
     },
     "execution_count": 62,
     "metadata": {},
     "output_type": "execute_result"
    }
   ],
   "source": [
    "# Concatenating\n",
    "\n",
    "a = \"this is the first half \"\n",
    "\n",
    "b = \"and this is the second half\"\n",
    "\n",
    "a + b"
   ]
  },
  {
   "cell_type": "code",
   "execution_count": 67,
   "id": "0cdc07c5-2004-4ac2-9e15-b518453ee3f4",
   "metadata": {},
   "outputs": [
    {
     "data": {
      "text/plain": [
       "'87.31 Indian Rupees are worth US$1'"
      ]
     },
     "execution_count": 67,
     "metadata": {},
     "output_type": "execute_result"
    }
   ],
   "source": [
    "# String templating\n",
    "\n",
    "template = \"{0:.2f} {1:s} are worth US${2:d}\"\n",
    "\n",
    "template.format(87.31, \"Indian Rupees\", 1)"
   ]
  },
  {
   "cell_type": "code",
   "execution_count": 70,
   "id": "e8183944-1fd7-4a1d-b697-77ede6c12f2c",
   "metadata": {},
   "outputs": [
    {
     "data": {
      "text/plain": [
       "'100 Indian Rupees is worth US$ 1.15 '"
      ]
     },
     "execution_count": 70,
     "metadata": {},
     "output_type": "execute_result"
    }
   ],
   "source": [
    "amount = 100\n",
    "\n",
    "rate = 87.31\n",
    "\n",
    "currency = \"Indian Rupees\"\n",
    "\n",
    "f\"{amount} {currency} is worth US$ {amount/rate:.2f} \""
   ]
  },
  {
   "cell_type": "markdown",
   "id": "8bf3b5ed-e05a-45e9-8947-64708a7442ab",
   "metadata": {},
   "source": [
    "#### Bytes and Unicode"
   ]
  },
  {
   "cell_type": "code",
   "execution_count": 71,
   "id": "b30fb807-e9f6-41d5-a595-9b6fca3bc1a3",
   "metadata": {},
   "outputs": [
    {
     "data": {
      "text/plain": [
       "'español'"
      ]
     },
     "execution_count": 71,
     "metadata": {},
     "output_type": "execute_result"
    }
   ],
   "source": [
    "val = \"español\"\n",
    "\n",
    "val"
   ]
  },
  {
   "cell_type": "code",
   "execution_count": 72,
   "id": "c22b1456-01f4-4cd6-b82d-cfa1749fdea7",
   "metadata": {},
   "outputs": [
    {
     "data": {
      "text/plain": [
       "b'espa\\xc3\\xb1ol'"
      ]
     },
     "execution_count": 72,
     "metadata": {},
     "output_type": "execute_result"
    }
   ],
   "source": [
    "# Converting this Unicode string to its UTF-8 bytes\n",
    "\n",
    "val_utf8 = val.encode(\"utf-8\")\n",
    "\n",
    "val_utf8"
   ]
  },
  {
   "cell_type": "code",
   "execution_count": 73,
   "id": "7f047d26-faed-4a51-ad74-25bddef36939",
   "metadata": {},
   "outputs": [
    {
     "data": {
      "text/plain": [
       "'español'"
      ]
     },
     "execution_count": 73,
     "metadata": {},
     "output_type": "execute_result"
    }
   ],
   "source": [
    "# Can also decode it\n",
    "\n",
    "val_utf8.decode(\"utf-8\")"
   ]
  },
  {
   "cell_type": "code",
   "execution_count": 78,
   "id": "6e9d2aec-f47f-4d00-8e08-dfae5b4ae2c9",
   "metadata": {},
   "outputs": [
    {
     "data": {
      "text/plain": [
       "b'espa\\xf1ol'"
      ]
     },
     "execution_count": 78,
     "metadata": {},
     "output_type": "execute_result"
    }
   ],
   "source": [
    "# Other encodings\n",
    "\n",
    "val.encode(\"latin1\")"
   ]
  },
  {
   "cell_type": "code",
   "execution_count": 76,
   "id": "f9431a49-c8bb-4832-9e09-670a7e201561",
   "metadata": {},
   "outputs": [
    {
     "data": {
      "text/plain": [
       "b'\\xff\\xfee\\x00s\\x00p\\x00a\\x00\\xf1\\x00o\\x00l\\x00'"
      ]
     },
     "execution_count": 76,
     "metadata": {},
     "output_type": "execute_result"
    }
   ],
   "source": [
    "val.encode(\"utf-16\")"
   ]
  },
  {
   "cell_type": "code",
   "execution_count": 77,
   "id": "7a3bd1ee-2eaa-40e2-8d43-dd376cfff5d4",
   "metadata": {},
   "outputs": [
    {
     "data": {
      "text/plain": [
       "b'e\\x00s\\x00p\\x00a\\x00\\xf1\\x00o\\x00l\\x00'"
      ]
     },
     "execution_count": 77,
     "metadata": {},
     "output_type": "execute_result"
    }
   ],
   "source": [
    "val.encode(\"utf-16le\")"
   ]
  },
  {
   "cell_type": "markdown",
   "id": "fa50e972-79a0-460d-82d7-eb337997a4e5",
   "metadata": {},
   "source": [
    "#### Booleans"
   ]
  },
  {
   "cell_type": "code",
   "execution_count": 80,
   "id": "2471a197-0560-4906-8dc7-b366b91d0314",
   "metadata": {},
   "outputs": [
    {
     "data": {
      "text/plain": [
       "True"
      ]
     },
     "execution_count": 80,
     "metadata": {},
     "output_type": "execute_result"
    }
   ],
   "source": [
    "True and True"
   ]
  },
  {
   "cell_type": "code",
   "execution_count": 82,
   "id": "760b3978-119a-4d58-9c68-2a74565eae4e",
   "metadata": {},
   "outputs": [
    {
     "data": {
      "text/plain": [
       "True"
      ]
     },
     "execution_count": 82,
     "metadata": {},
     "output_type": "execute_result"
    }
   ],
   "source": [
    "True or False"
   ]
  },
  {
   "cell_type": "code",
   "execution_count": 83,
   "id": "acb52890-b3e9-427f-926e-fb407640c38d",
   "metadata": {},
   "outputs": [
    {
     "data": {
      "text/plain": [
       "1"
      ]
     },
     "execution_count": 83,
     "metadata": {},
     "output_type": "execute_result"
    }
   ],
   "source": [
    "# Int of booleans\n",
    "\n",
    "int(True)"
   ]
  },
  {
   "cell_type": "code",
   "execution_count": 84,
   "id": "e76f5c22-3e4e-4c60-9a03-467aed0e107d",
   "metadata": {},
   "outputs": [
    {
     "data": {
      "text/plain": [
       "0"
      ]
     },
     "execution_count": 84,
     "metadata": {},
     "output_type": "execute_result"
    }
   ],
   "source": [
    "int(False)"
   ]
  },
  {
   "cell_type": "code",
   "execution_count": 85,
   "id": "d78f26a1-3631-433b-a82b-3ef0efffa092",
   "metadata": {},
   "outputs": [
    {
     "data": {
      "text/plain": [
       "False"
      ]
     },
     "execution_count": 85,
     "metadata": {},
     "output_type": "execute_result"
    }
   ],
   "source": [
    "not True"
   ]
  },
  {
   "cell_type": "code",
   "execution_count": 86,
   "id": "e8fadff2-7ced-4b5b-92de-1b4b6d3dcb3e",
   "metadata": {},
   "outputs": [
    {
     "data": {
      "text/plain": [
       "True"
      ]
     },
     "execution_count": 86,
     "metadata": {},
     "output_type": "execute_result"
    }
   ],
   "source": [
    "not False"
   ]
  },
  {
   "cell_type": "markdown",
   "id": "d16fadec-0f68-43f9-87aa-1f2b2f7e5cd0",
   "metadata": {},
   "source": [
    "#### Type Casting"
   ]
  },
  {
   "cell_type": "code",
   "execution_count": 87,
   "id": "6a3a337f-e833-4b10-837e-da5a6374136e",
   "metadata": {},
   "outputs": [],
   "source": [
    "s = \"3.14159\""
   ]
  },
  {
   "cell_type": "code",
   "execution_count": 89,
   "id": "0cc0d5fa-ce36-45e6-9841-e4afeed80da7",
   "metadata": {},
   "outputs": [],
   "source": [
    "fval = float(s)"
   ]
  },
  {
   "cell_type": "code",
   "execution_count": 90,
   "id": "2fac7b91-1bb7-42c2-8ed8-511bcd59792a",
   "metadata": {},
   "outputs": [
    {
     "data": {
      "text/plain": [
       "float"
      ]
     },
     "execution_count": 90,
     "metadata": {},
     "output_type": "execute_result"
    }
   ],
   "source": [
    "type(fval)"
   ]
  },
  {
   "cell_type": "code",
   "execution_count": 91,
   "id": "890349b9-eb8d-4c35-8ed7-564c0859f627",
   "metadata": {},
   "outputs": [
    {
     "data": {
      "text/plain": [
       "3"
      ]
     },
     "execution_count": 91,
     "metadata": {},
     "output_type": "execute_result"
    }
   ],
   "source": [
    "int(fval)"
   ]
  },
  {
   "cell_type": "code",
   "execution_count": 94,
   "id": "68ff6199-9767-4b63-8e0c-4d0787f44903",
   "metadata": {},
   "outputs": [
    {
     "data": {
      "text/plain": [
       "True"
      ]
     },
     "execution_count": 94,
     "metadata": {},
     "output_type": "execute_result"
    }
   ],
   "source": [
    "bool(fval)"
   ]
  },
  {
   "cell_type": "code",
   "execution_count": 92,
   "id": "0c36cd7b-526d-4914-9c82-7cdadbe54ce1",
   "metadata": {},
   "outputs": [
    {
     "data": {
      "text/plain": [
       "False"
      ]
     },
     "execution_count": 92,
     "metadata": {},
     "output_type": "execute_result"
    }
   ],
   "source": [
    "bool(0)"
   ]
  },
  {
   "cell_type": "markdown",
   "id": "564a8522-f108-4fee-983c-c630849e05ce",
   "metadata": {},
   "source": [
    "#### None"
   ]
  },
  {
   "cell_type": "code",
   "execution_count": 95,
   "id": "a8761dc8-4f21-48c2-9535-910315e5d1b3",
   "metadata": {},
   "outputs": [],
   "source": [
    "a = None"
   ]
  },
  {
   "cell_type": "code",
   "execution_count": 96,
   "id": "81fd4271-7e88-4fd1-8fc8-7d3cff3804f7",
   "metadata": {},
   "outputs": [
    {
     "data": {
      "text/plain": [
       "True"
      ]
     },
     "execution_count": 96,
     "metadata": {},
     "output_type": "execute_result"
    }
   ],
   "source": [
    "a is None"
   ]
  },
  {
   "cell_type": "code",
   "execution_count": 97,
   "id": "850420d3-99ea-4fc2-8945-175047745951",
   "metadata": {},
   "outputs": [],
   "source": [
    "b = 5"
   ]
  },
  {
   "cell_type": "code",
   "execution_count": 98,
   "id": "3f883ad4-8013-4b09-b9b7-d194f76febb6",
   "metadata": {},
   "outputs": [
    {
     "data": {
      "text/plain": [
       "True"
      ]
     },
     "execution_count": 98,
     "metadata": {},
     "output_type": "execute_result"
    }
   ],
   "source": [
    "b is not None"
   ]
  },
  {
   "cell_type": "markdown",
   "id": "aff1123c-51fa-4e3a-ae56-dc24896aae4c",
   "metadata": {},
   "source": [
    "#### Dates and Times"
   ]
  },
  {
   "cell_type": "code",
   "execution_count": 99,
   "id": "6db0070f-32b8-4711-b361-cab5b9be31a6",
   "metadata": {},
   "outputs": [],
   "source": [
    "from datetime import datetime, date, time"
   ]
  },
  {
   "cell_type": "code",
   "execution_count": 102,
   "id": "78f80654-ddd8-4be0-884a-d8c33544061e",
   "metadata": {},
   "outputs": [],
   "source": [
    "dt = datetime(2025, 8, 23, 19, 58, 10)"
   ]
  },
  {
   "cell_type": "code",
   "execution_count": 109,
   "id": "2e4f124b-19d9-4cbd-9a4a-a085738c70b8",
   "metadata": {},
   "outputs": [
    {
     "data": {
      "text/plain": [
       "2025"
      ]
     },
     "execution_count": 109,
     "metadata": {},
     "output_type": "execute_result"
    }
   ],
   "source": [
    "dt.year"
   ]
  },
  {
   "cell_type": "code",
   "execution_count": 110,
   "id": "08f50201-dece-4232-84fe-74be7b6fd621",
   "metadata": {},
   "outputs": [
    {
     "data": {
      "text/plain": [
       "58"
      ]
     },
     "execution_count": 110,
     "metadata": {},
     "output_type": "execute_result"
    }
   ],
   "source": [
    "dt.minute"
   ]
  },
  {
   "cell_type": "code",
   "execution_count": 111,
   "id": "75f80a2e-7a11-430c-9bb5-1d75d56deb08",
   "metadata": {},
   "outputs": [
    {
     "data": {
      "text/plain": [
       "10"
      ]
     },
     "execution_count": 111,
     "metadata": {},
     "output_type": "execute_result"
    }
   ],
   "source": [
    "dt.second"
   ]
  },
  {
   "cell_type": "code",
   "execution_count": 112,
   "id": "1883eae3-e1d5-4159-a5cc-526281b156ff",
   "metadata": {},
   "outputs": [
    {
     "data": {
      "text/plain": [
       "datetime.date(2025, 8, 23)"
      ]
     },
     "execution_count": 112,
     "metadata": {},
     "output_type": "execute_result"
    }
   ],
   "source": [
    "dt.date()"
   ]
  },
  {
   "cell_type": "code",
   "execution_count": 113,
   "id": "bae49ec1-a93f-4e2a-8015-99be55d46646",
   "metadata": {},
   "outputs": [
    {
     "data": {
      "text/plain": [
       "datetime.time(19, 58, 10)"
      ]
     },
     "execution_count": 113,
     "metadata": {},
     "output_type": "execute_result"
    }
   ],
   "source": [
    "dt.time()"
   ]
  },
  {
   "cell_type": "code",
   "execution_count": 114,
   "id": "8cf79f09-a548-433e-b72d-b86c70f663d7",
   "metadata": {},
   "outputs": [
    {
     "data": {
      "text/plain": [
       "'2025-08-23 19:58'"
      ]
     },
     "execution_count": 114,
     "metadata": {},
     "output_type": "execute_result"
    }
   ],
   "source": [
    "dt.strftime(\"%Y-%m-%d %H:%M\")"
   ]
  },
  {
   "cell_type": "code",
   "execution_count": 119,
   "id": "4e89efd4-5343-417f-a1a8-aa2a9e7e5355",
   "metadata": {},
   "outputs": [
    {
     "data": {
      "text/plain": [
       "datetime.datetime(2025, 8, 23, 0, 0)"
      ]
     },
     "execution_count": 119,
     "metadata": {},
     "output_type": "execute_result"
    }
   ],
   "source": [
    "# Converting strings to datetime\n",
    "\n",
    "datetime.strptime(\"20250823\", \"%Y%m%d\")"
   ]
  },
  {
   "cell_type": "markdown",
   "id": "5dfbdee8-5235-45dc-b577-fc51a2f86d43",
   "metadata": {},
   "source": [
    "### Control Flow"
   ]
  },
  {
   "cell_type": "markdown",
   "id": "1e433944-2f17-41a5-9143-615f80e068ae",
   "metadata": {},
   "source": [
    "#### if, elif, else"
   ]
  },
  {
   "cell_type": "code",
   "execution_count": 122,
   "id": "4647a38b-73fd-49f1-8947-7a516ff512d0",
   "metadata": {},
   "outputs": [],
   "source": [
    "x = 0.5"
   ]
  },
  {
   "cell_type": "code",
   "execution_count": 126,
   "id": "3d35290d-dce5-414f-9bb7-730689bb4371",
   "metadata": {},
   "outputs": [
    {
     "name": "stdout",
     "output_type": "stream",
     "text": [
      "Greater than zero but less than 5\n"
     ]
    }
   ],
   "source": [
    "if x < 0:\n",
    "    print(\"It's negative\")\n",
    "elif x == 0:\n",
    "    print(\"Equal to zero\")\n",
    "elif 0 < x < 5:\n",
    "    print(\"Greater than zero but less than 5\")\n",
    "else:\n",
    "    print(\"It's postive and greater than or equal to 5\")"
   ]
  },
  {
   "cell_type": "markdown",
   "id": "1384c317-edda-49df-9a35-3da6ccb78fac",
   "metadata": {},
   "source": [
    "#### for loops"
   ]
  },
  {
   "cell_type": "code",
   "execution_count": 130,
   "id": "72d898b3-3526-4f29-a18c-7cb62d81a04d",
   "metadata": {},
   "outputs": [
    {
     "name": "stdout",
     "output_type": "stream",
     "text": [
      "0\n",
      "1\n",
      "2\n",
      "3\n",
      "4\n",
      "5\n",
      "6\n",
      "7\n",
      "8\n",
      "9\n"
     ]
    }
   ],
   "source": [
    "for i in range(10):\n",
    "    print(i)"
   ]
  },
  {
   "cell_type": "code",
   "execution_count": 131,
   "id": "5bcb6e4f-c17b-479b-bee8-9b78dec54e78",
   "metadata": {},
   "outputs": [
    {
     "name": "stdout",
     "output_type": "stream",
     "text": [
      "(0, 0)\n",
      "(1, 0)\n",
      "(1, 1)\n",
      "(2, 0)\n",
      "(2, 1)\n",
      "(2, 2)\n",
      "(3, 0)\n",
      "(3, 1)\n",
      "(3, 2)\n",
      "(3, 3)\n"
     ]
    }
   ],
   "source": [
    "for i in range(4):\n",
    "    for j in range(4):\n",
    "        if j > i:\n",
    "            break\n",
    "        print((i, j))"
   ]
  },
  {
   "cell_type": "markdown",
   "id": "d8968131-8497-424c-90c6-fa8d59564a2d",
   "metadata": {},
   "source": [
    "#### while loops"
   ]
  },
  {
   "cell_type": "code",
   "execution_count": 133,
   "id": "04d579ff-2b7b-4e6c-b599-56d57e43b335",
   "metadata": {},
   "outputs": [
    {
     "data": {
      "text/plain": [
       "504"
      ]
     },
     "execution_count": 133,
     "metadata": {},
     "output_type": "execute_result"
    }
   ],
   "source": [
    "x = 256\n",
    "\n",
    "total = 0 \n",
    "\n",
    "while x > 0:\n",
    "    if total > 500:\n",
    "        break\n",
    "    total += x\n",
    "    x = x// 2\n",
    "\n",
    "total"
   ]
  },
  {
   "cell_type": "markdown",
   "id": "ccd75bc2-fec9-49ef-9090-f0a24230fd93",
   "metadata": {},
   "source": [
    "#### pass"
   ]
  },
  {
   "cell_type": "code",
   "execution_count": 135,
   "id": "cadacf8e-682d-4645-bf4f-8b380bfd2785",
   "metadata": {},
   "outputs": [
    {
     "name": "stdout",
     "output_type": "stream",
     "text": [
      "It's positive\n"
     ]
    }
   ],
   "source": [
    "if x < 0:\n",
    "    print(\"It's negative\")\n",
    "elif x == 0:\n",
    "    pass\n",
    "else:\n",
    "    print(\"It's positive\")"
   ]
  },
  {
   "cell_type": "markdown",
   "id": "00448fa8-2ab8-4623-b77d-a12f56269adf",
   "metadata": {},
   "source": [
    "#### range"
   ]
  },
  {
   "cell_type": "code",
   "execution_count": 136,
   "id": "5bc99753-b69b-4fa5-a42e-955026b5e314",
   "metadata": {},
   "outputs": [
    {
     "data": {
      "text/plain": [
       "range(0, 10)"
      ]
     },
     "execution_count": 136,
     "metadata": {},
     "output_type": "execute_result"
    }
   ],
   "source": [
    "range(10)"
   ]
  },
  {
   "cell_type": "code",
   "execution_count": 137,
   "id": "3d9e916e-96ff-4c80-b1ad-24c9cd5c8f5f",
   "metadata": {},
   "outputs": [
    {
     "data": {
      "text/plain": [
       "[0, 1, 2, 3, 4, 5, 6, 7, 8, 9]"
      ]
     },
     "execution_count": 137,
     "metadata": {},
     "output_type": "execute_result"
    }
   ],
   "source": [
    "list(range(10))"
   ]
  },
  {
   "cell_type": "code",
   "execution_count": 141,
   "id": "0fd3c6e1-4ab7-47eb-993e-588431df60c1",
   "metadata": {},
   "outputs": [
    {
     "data": {
      "text/plain": [
       "[2, 4, 6, 8, 10, 12, 14, 16, 18, 20]"
      ]
     },
     "execution_count": 141,
     "metadata": {},
     "output_type": "execute_result"
    }
   ],
   "source": [
    "list(range(2, 21, 2))"
   ]
  },
  {
   "cell_type": "code",
   "execution_count": 143,
   "id": "d31b3968-d358-42df-9b62-bb82633febe3",
   "metadata": {},
   "outputs": [
    {
     "data": {
      "text/plain": [
       "[10, 9, 8, 7, 6, 5, 4, 3, 2, 1]"
      ]
     },
     "execution_count": 143,
     "metadata": {},
     "output_type": "execute_result"
    }
   ],
   "source": [
    "list(range(10, 0, -1))"
   ]
  },
  {
   "cell_type": "code",
   "execution_count": 144,
   "id": "54a188cd-a102-46b0-bca5-9aa2d4612689",
   "metadata": {},
   "outputs": [
    {
     "name": "stdout",
     "output_type": "stream",
     "text": [
      "element 0: 1\n",
      "element 1: 2\n",
      "element 2: 3\n",
      "element 3: 4\n"
     ]
    }
   ],
   "source": [
    "seq = [1, 2, 3, 4]\n",
    "\n",
    "for i in range(len(seq)):\n",
    "    print(f\"element {i}: {seq[i]}\")"
   ]
  },
  {
   "cell_type": "code",
   "execution_count": null,
   "id": "713e79d0-b2e2-4d49-a3e8-5d70cc4dd27a",
   "metadata": {},
   "outputs": [],
   "source": []
  }
 ],
 "metadata": {
  "kernelspec": {
   "display_name": "Python 3 (ipykernel)",
   "language": "python",
   "name": "python3"
  },
  "language_info": {
   "codemirror_mode": {
    "name": "ipython",
    "version": 3
   },
   "file_extension": ".py",
   "mimetype": "text/x-python",
   "name": "python",
   "nbconvert_exporter": "python",
   "pygments_lexer": "ipython3",
   "version": "3.12.5"
  }
 },
 "nbformat": 4,
 "nbformat_minor": 5
}
